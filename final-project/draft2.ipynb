{
 "cells": [
  {
   "cell_type": "code",
   "execution_count": 2,
   "id": "1235430d-7946-4c6b-a45d-dc426d1e9e3c",
   "metadata": {},
   "outputs": [],
   "source": [
    "%matplotlib inline"
   ]
  },
  {
   "cell_type": "code",
   "execution_count": 33,
   "id": "54536dc4-a338-4e31-bde0-819ff0acacbe",
   "metadata": {},
   "outputs": [],
   "source": [
    "import numpy as np\n",
    "import pandas as pd\n",
    "import matplotlib.pyplot as plt\n",
    "\n",
    "from sklearn.linear_model import LogisticRegression\n",
    "import dask.dataframe as dd"
   ]
  },
  {
   "cell_type": "markdown",
   "id": "c34258f1-6fae-4ada-9700-0612b71e118d",
   "metadata": {},
   "source": [
    "# Draft 2"
   ]
  },
  {
   "cell_type": "markdown",
   "id": "4ecc3444-10b3-4bb3-a312-276bee957805",
   "metadata": {},
   "source": [
    "References:\n",
    "- [data](https://zenodo.org/record/6854240#.YvuPmHZBzBV)\n",
    "- [paper](https://arxiv.org/pdf/2207.05466.pdf#view=fitH&toolbar=1)\n",
    "\n",
    "Columns:\n",
    "\n",
    "ANALOGUE SIGNALS\n",
    " - `TP2` - compressor pressure\n",
    " - `TP3` - pneumatic panel pressure\n",
    " - `H1` - valve?\n",
    " - `DV_pressure` - pressure drop?\n",
    " - `Reservoirs` - ?\n",
    " - `Oil_temperature` -  temperature of the oil present on the compressor\n",
    " - `Flowmeter` - ?\n",
    " - `Motor_current` - motor current; 0 A when compressor is off, 4A when compressor is working offloaded, 7A when compressor is under load\n",
    " \n",
    "DIGITAL SIGNALS\n",
    "\n",
    "(only assume two values: zero when inactive or one when activated)\n",
    " - `COMP` -  air intake valve on the compressor; 1 = no admission of air on the compressor\n",
    " - `DV_eletric` - compressor outlet valve; 1 = compressor is under load\n",
    " - `Towers` - defines which tower is working; 0 = tower 1 is working\n",
    " - `MPG` -  intake valve to start the compressor under load\n",
    " - `LPS` - 1 = pressure < 7 bars\n",
    " - `Pressure_switch` - ?\n",
    " - `Oil_level` - 1 = oil is below expected level\n",
    " - `Caudal_impulses` - ?\n",
    " \n",
    " GPS DATA\n",
    " - `gpsLong` - longitude\n",
    " - `gpsLat` - latitude\n",
    " - `gpsSpeed` - speed of the train\n",
    " - `gpsQuality` - 1 = (guess) missing"
   ]
  },
  {
   "cell_type": "code",
   "execution_count": 21,
   "id": "c7f98e41-fd55-42e7-bc8c-eb02aa832370",
   "metadata": {},
   "outputs": [],
   "source": [
    "# reader = pd.read_csv(\"../../file_0.csv\", chunksize=10_000)"
   ]
  },
  {
   "cell_type": "code",
   "execution_count": 34,
   "id": "4e604bff-15f0-47e9-8feb-c15cfb3a094d",
   "metadata": {},
   "outputs": [
    {
     "data": {
      "text/plain": [
       "['C:\\\\Users\\\\a1056968\\\\Desktop\\\\data-science\\\\final-project\\\\file_0.csv',\n",
       " 'C:\\\\Users\\\\a1056968\\\\Desktop\\\\data-science\\\\final-project\\\\file_1.csv',\n",
       " 'C:\\\\Users\\\\a1056968\\\\Desktop\\\\data-science\\\\final-project\\\\file_2.csv',\n",
       " 'C:\\\\Users\\\\a1056968\\\\Desktop\\\\data-science\\\\final-project\\\\file_3.csv',\n",
       " 'C:\\\\Users\\\\a1056968\\\\Desktop\\\\data-science\\\\final-project\\\\file_4.csv',\n",
       " 'C:\\\\Users\\\\a1056968\\\\Desktop\\\\data-science\\\\final-project\\\\file_5.csv',\n",
       " 'C:\\\\Users\\\\a1056968\\\\Desktop\\\\data-science\\\\final-project\\\\file_6.csv',\n",
       " 'C:\\\\Users\\\\a1056968\\\\Desktop\\\\data-science\\\\final-project\\\\file_7.csv',\n",
       " 'C:\\\\Users\\\\a1056968\\\\Desktop\\\\data-science\\\\final-project\\\\file_8.csv',\n",
       " 'C:\\\\Users\\\\a1056968\\\\Desktop\\\\data-science\\\\final-project\\\\file_9.csv']"
      ]
     },
     "execution_count": 34,
     "metadata": {},
     "output_type": "execute_result"
    }
   ],
   "source": [
    "df = dd.read_csv(\"../../dataset_train.csv\")\n",
    "df = df.repartition(npartitions=10)\n",
    "df.to_csv(\"file_*.csv\")"
   ]
  },
  {
   "cell_type": "code",
   "execution_count": 35,
   "id": "342c1fc5-11d2-442d-b94f-3d801178b62c",
   "metadata": {},
   "outputs": [],
   "source": [
    "metro = pd.read_csv(\"../../file_0.csv\")"
   ]
  },
  {
   "cell_type": "code",
   "execution_count": 36,
   "id": "bf44669f-9335-46d9-a641-efc730d0f2eb",
   "metadata": {},
   "outputs": [
    {
     "data": {
      "text/html": [
       "<div>\n",
       "<style scoped>\n",
       "    .dataframe tbody tr th:only-of-type {\n",
       "        vertical-align: middle;\n",
       "    }\n",
       "\n",
       "    .dataframe tbody tr th {\n",
       "        vertical-align: top;\n",
       "    }\n",
       "\n",
       "    .dataframe thead th {\n",
       "        text-align: right;\n",
       "    }\n",
       "</style>\n",
       "<table border=\"1\" class=\"dataframe\">\n",
       "  <thead>\n",
       "    <tr style=\"text-align: right;\">\n",
       "      <th></th>\n",
       "      <th>Unnamed: 0</th>\n",
       "      <th>timestamp</th>\n",
       "      <th>TP2</th>\n",
       "      <th>TP3</th>\n",
       "      <th>H1</th>\n",
       "      <th>DV_pressure</th>\n",
       "      <th>Reservoirs</th>\n",
       "      <th>Oil_temperature</th>\n",
       "      <th>Flowmeter</th>\n",
       "      <th>Motor_current</th>\n",
       "      <th>...</th>\n",
       "      <th>Towers</th>\n",
       "      <th>MPG</th>\n",
       "      <th>LPS</th>\n",
       "      <th>Pressure_switch</th>\n",
       "      <th>Oil_level</th>\n",
       "      <th>Caudal_impulses</th>\n",
       "      <th>gpsLong</th>\n",
       "      <th>gpsLat</th>\n",
       "      <th>gpsSpeed</th>\n",
       "      <th>gpsQuality</th>\n",
       "    </tr>\n",
       "  </thead>\n",
       "  <tbody>\n",
       "    <tr>\n",
       "      <th>0</th>\n",
       "      <td>0</td>\n",
       "      <td>2022-01-01 06:00:00</td>\n",
       "      <td>-0.012</td>\n",
       "      <td>9.758</td>\n",
       "      <td>9.760</td>\n",
       "      <td>-0.028</td>\n",
       "      <td>1.576</td>\n",
       "      <td>63.350</td>\n",
       "      <td>19.049625</td>\n",
       "      <td>3.9550</td>\n",
       "      <td>...</td>\n",
       "      <td>1</td>\n",
       "      <td>1</td>\n",
       "      <td>0</td>\n",
       "      <td>0</td>\n",
       "      <td>0</td>\n",
       "      <td>0</td>\n",
       "      <td>-8.65934</td>\n",
       "      <td>41.2124</td>\n",
       "      <td>0</td>\n",
       "      <td>1</td>\n",
       "    </tr>\n",
       "    <tr>\n",
       "      <th>1</th>\n",
       "      <td>1</td>\n",
       "      <td>2022-01-01 06:00:01</td>\n",
       "      <td>-0.012</td>\n",
       "      <td>9.760</td>\n",
       "      <td>9.760</td>\n",
       "      <td>-0.028</td>\n",
       "      <td>1.578</td>\n",
       "      <td>63.250</td>\n",
       "      <td>19.049625</td>\n",
       "      <td>4.0275</td>\n",
       "      <td>...</td>\n",
       "      <td>1</td>\n",
       "      <td>1</td>\n",
       "      <td>0</td>\n",
       "      <td>0</td>\n",
       "      <td>0</td>\n",
       "      <td>0</td>\n",
       "      <td>-8.65934</td>\n",
       "      <td>41.2124</td>\n",
       "      <td>0</td>\n",
       "      <td>1</td>\n",
       "    </tr>\n",
       "    <tr>\n",
       "      <th>2</th>\n",
       "      <td>2</td>\n",
       "      <td>2022-01-01 06:00:02</td>\n",
       "      <td>-0.010</td>\n",
       "      <td>9.760</td>\n",
       "      <td>9.760</td>\n",
       "      <td>-0.028</td>\n",
       "      <td>1.578</td>\n",
       "      <td>63.325</td>\n",
       "      <td>19.040281</td>\n",
       "      <td>3.9450</td>\n",
       "      <td>...</td>\n",
       "      <td>1</td>\n",
       "      <td>1</td>\n",
       "      <td>0</td>\n",
       "      <td>0</td>\n",
       "      <td>0</td>\n",
       "      <td>0</td>\n",
       "      <td>-8.65934</td>\n",
       "      <td>41.2124</td>\n",
       "      <td>0</td>\n",
       "      <td>1</td>\n",
       "    </tr>\n",
       "    <tr>\n",
       "      <th>3</th>\n",
       "      <td>3</td>\n",
       "      <td>2022-01-01 06:00:03</td>\n",
       "      <td>-0.012</td>\n",
       "      <td>9.756</td>\n",
       "      <td>9.756</td>\n",
       "      <td>-0.030</td>\n",
       "      <td>1.576</td>\n",
       "      <td>63.200</td>\n",
       "      <td>19.040281</td>\n",
       "      <td>3.9300</td>\n",
       "      <td>...</td>\n",
       "      <td>1</td>\n",
       "      <td>1</td>\n",
       "      <td>0</td>\n",
       "      <td>0</td>\n",
       "      <td>0</td>\n",
       "      <td>0</td>\n",
       "      <td>-8.65934</td>\n",
       "      <td>41.2124</td>\n",
       "      <td>0</td>\n",
       "      <td>1</td>\n",
       "    </tr>\n",
       "    <tr>\n",
       "      <th>4</th>\n",
       "      <td>4</td>\n",
       "      <td>2022-01-01 06:00:04</td>\n",
       "      <td>-0.012</td>\n",
       "      <td>9.756</td>\n",
       "      <td>9.756</td>\n",
       "      <td>-0.030</td>\n",
       "      <td>1.578</td>\n",
       "      <td>63.150</td>\n",
       "      <td>19.049625</td>\n",
       "      <td>3.9950</td>\n",
       "      <td>...</td>\n",
       "      <td>1</td>\n",
       "      <td>1</td>\n",
       "      <td>0</td>\n",
       "      <td>0</td>\n",
       "      <td>0</td>\n",
       "      <td>0</td>\n",
       "      <td>-8.65934</td>\n",
       "      <td>41.2124</td>\n",
       "      <td>0</td>\n",
       "      <td>1</td>\n",
       "    </tr>\n",
       "  </tbody>\n",
       "</table>\n",
       "<p>5 rows × 22 columns</p>\n",
       "</div>"
      ],
      "text/plain": [
       "   Unnamed: 0            timestamp    TP2    TP3     H1  DV_pressure  \\\n",
       "0           0  2022-01-01 06:00:00 -0.012  9.758  9.760       -0.028   \n",
       "1           1  2022-01-01 06:00:01 -0.012  9.760  9.760       -0.028   \n",
       "2           2  2022-01-01 06:00:02 -0.010  9.760  9.760       -0.028   \n",
       "3           3  2022-01-01 06:00:03 -0.012  9.756  9.756       -0.030   \n",
       "4           4  2022-01-01 06:00:04 -0.012  9.756  9.756       -0.030   \n",
       "\n",
       "   Reservoirs  Oil_temperature  Flowmeter  Motor_current  ...  Towers  MPG  \\\n",
       "0       1.576           63.350  19.049625         3.9550  ...       1    1   \n",
       "1       1.578           63.250  19.049625         4.0275  ...       1    1   \n",
       "2       1.578           63.325  19.040281         3.9450  ...       1    1   \n",
       "3       1.576           63.200  19.040281         3.9300  ...       1    1   \n",
       "4       1.578           63.150  19.049625         3.9950  ...       1    1   \n",
       "\n",
       "   LPS  Pressure_switch  Oil_level  Caudal_impulses  gpsLong   gpsLat  \\\n",
       "0    0                0          0                0 -8.65934  41.2124   \n",
       "1    0                0          0                0 -8.65934  41.2124   \n",
       "2    0                0          0                0 -8.65934  41.2124   \n",
       "3    0                0          0                0 -8.65934  41.2124   \n",
       "4    0                0          0                0 -8.65934  41.2124   \n",
       "\n",
       "   gpsSpeed  gpsQuality  \n",
       "0         0           1  \n",
       "1         0           1  \n",
       "2         0           1  \n",
       "3         0           1  \n",
       "4         0           1  \n",
       "\n",
       "[5 rows x 22 columns]"
      ]
     },
     "execution_count": 36,
     "metadata": {},
     "output_type": "execute_result"
    }
   ],
   "source": [
    "metro.head()"
   ]
  },
  {
   "cell_type": "code",
   "execution_count": 37,
   "id": "9168169f-3e2c-4803-9114-6e8b338d5ced",
   "metadata": {},
   "outputs": [
    {
     "data": {
      "text/plain": [
       "Unnamed: 0           int64\n",
       "timestamp           object\n",
       "TP2                float64\n",
       "TP3                float64\n",
       "H1                 float64\n",
       "DV_pressure        float64\n",
       "Reservoirs         float64\n",
       "Oil_temperature    float64\n",
       "Flowmeter          float64\n",
       "Motor_current      float64\n",
       "COMP                 int64\n",
       "DV_eletric           int64\n",
       "Towers               int64\n",
       "MPG                  int64\n",
       "LPS                  int64\n",
       "Pressure_switch      int64\n",
       "Oil_level            int64\n",
       "Caudal_impulses      int64\n",
       "gpsLong            float64\n",
       "gpsLat             float64\n",
       "gpsSpeed             int64\n",
       "gpsQuality           int64\n",
       "dtype: object"
      ]
     },
     "execution_count": 37,
     "metadata": {},
     "output_type": "execute_result"
    }
   ],
   "source": [
    "metro.dtypes"
   ]
  },
  {
   "cell_type": "code",
   "execution_count": 38,
   "id": "b03d00a6-11a5-4083-aed0-c29059b351f1",
   "metadata": {},
   "outputs": [
    {
     "name": "stdout",
     "output_type": "stream",
     "text": [
      "<class 'pandas.core.frame.DataFrame'>\n",
      "RangeIndex: 803472 entries, 0 to 803471\n",
      "Data columns (total 22 columns):\n",
      " #   Column           Non-Null Count   Dtype  \n",
      "---  ------           --------------   -----  \n",
      " 0   Unnamed: 0       803472 non-null  int64  \n",
      " 1   timestamp        803472 non-null  object \n",
      " 2   TP2              803472 non-null  float64\n",
      " 3   TP3              803472 non-null  float64\n",
      " 4   H1               803472 non-null  float64\n",
      " 5   DV_pressure      803472 non-null  float64\n",
      " 6   Reservoirs       803472 non-null  float64\n",
      " 7   Oil_temperature  803472 non-null  float64\n",
      " 8   Flowmeter        803472 non-null  float64\n",
      " 9   Motor_current    803472 non-null  float64\n",
      " 10  COMP             803472 non-null  int64  \n",
      " 11  DV_eletric       803472 non-null  int64  \n",
      " 12  Towers           803472 non-null  int64  \n",
      " 13  MPG              803472 non-null  int64  \n",
      " 14  LPS              803472 non-null  int64  \n",
      " 15  Pressure_switch  803472 non-null  int64  \n",
      " 16  Oil_level        803472 non-null  int64  \n",
      " 17  Caudal_impulses  803472 non-null  int64  \n",
      " 18  gpsLong          803472 non-null  float64\n",
      " 19  gpsLat           803472 non-null  float64\n",
      " 20  gpsSpeed         803472 non-null  int64  \n",
      " 21  gpsQuality       803472 non-null  int64  \n",
      "dtypes: float64(10), int64(11), object(1)\n",
      "memory usage: 134.9+ MB\n"
     ]
    }
   ],
   "source": [
    "metro.info()"
   ]
  },
  {
   "cell_type": "code",
   "execution_count": 42,
   "id": "f5dec639-4fbb-4d97-aa55-e194ca3883ed",
   "metadata": {},
   "outputs": [],
   "source": [
    "metro.index = pd.to_datetime(metro.timestamp)\n",
    "metro = metro.drop(columns = 'timestamp')\n",
    "metro.index.dtype"
   ]
  },
  {
   "cell_type": "code",
   "execution_count": 63,
   "id": "0cdeaa87-38cb-47a1-91d9-2825ce56a83c",
   "metadata": {},
   "outputs": [
    {
     "data": {
      "image/png": "[encoded data removed]",
      "text/plain": [
       "<Figure size 1152x288 with 1 Axes>"
      ]
     },
     "metadata": {
      "needs_background": "light"
     },
     "output_type": "display_data"
    }
   ],
   "source": [
    "plt.figure(figsize = (16, 4))\n",
    "plt.plot(metro[1350:1500].TP2)\n",
    "plt.xlabel(\"Time\")\n",
    "plt.ylabel(\"TP2\")\n",
    "plt.show()"
   ]
  },
  {
   "cell_type": "code",
   "execution_count": 64,
   "id": "dccf7345-dcc9-47f9-a69e-44415e7aeed3",
   "metadata": {},
   "outputs": [
    {
     "data": {
      "image/png": "[encoded data removed]",
      "text/plain": [
       "<Figure size 1152x288 with 1 Axes>"
      ]
     },
     "metadata": {
      "needs_background": "light"
     },
     "output_type": "display_data"
    }
   ],
   "source": [
    "plt.figure(figsize = (16, 4))\n",
    "plt.plot(metro[:5000].TP2)\n",
    "plt.xlabel(\"Time\")\n",
    "plt.ylabel(\"TP2\")\n",
    "plt.show()"
   ]
  },
  {
   "cell_type": "code",
   "execution_count": null,
   "id": "cd3a6017-7e19-4d24-8f12-213c853f1889",
   "metadata": {},
   "outputs": [],
   "source": []
  }
 ],
 "metadata": {
  "kernelspec": {
   "display_name": "Python 3 (ipykernel)",
   "language": "python",
   "name": "python3"
  },
  "language_info": {
   "codemirror_mode": {
    "name": "ipython",
    "version": 3
   },
   "file_extension": ".py",
   "mimetype": "text/x-python",
   "name": "python",
   "nbconvert_exporter": "python",
   "pygments_lexer": "ipython3",
   "version": "3.8.13"
  }
 },
 "nbformat": 4,
 "nbformat_minor": 5
}
