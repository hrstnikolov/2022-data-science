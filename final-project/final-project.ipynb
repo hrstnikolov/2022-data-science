{
 "cells": [
  {
   "cell_type": "code",
   "execution_count": 1,
   "id": "ce277547-51ba-4e4a-86fb-33a6210fdf22",
   "metadata": {
    "tags": []
   },
   "outputs": [],
   "source": [
    "%matplotlib inline"
   ]
  },
  {
   "cell_type": "code",
   "execution_count": 2,
   "id": "b3f86810-5c36-4a18-aee0-0e5de460edc7",
   "metadata": {},
   "outputs": [],
   "source": [
    "import numpy as np\n",
    "import pandas as pd\n",
    "import matplotlib.pyplot as plt"
   ]
  },
  {
   "cell_type": "markdown",
   "id": "8c019d43-87c9-4aac-af29-c2fe4c79c3a9",
   "metadata": {
    "tags": []
   },
   "source": [
    "# Predictive Analysis"
   ]
  },
  {
   "cell_type": "markdown",
   "id": "8551f9cd-34c8-42af-b8de-739dc1ab65c3",
   "metadata": {},
   "source": [
    "## Abstract\n",
    "TODO"
   ]
  },
  {
   "cell_type": "markdown",
   "id": "75d8ef56-1469-4ae4-895c-adc18e2e2a14",
   "metadata": {},
   "source": [
    "## Introduction\n",
    "\n",
    "Machines and equipment must be periodically inspected and serviced. Parts are replaced and consumables are replenished. One strategy is to repair the equipment only after a break down occurs; this is called **corrective / reactive maintenance**. If, on the other hand, this maintenance is done in a scheduled points in time (say every month) we call it **preventive / scheduled maintenance**.\n",
    "\n",
    "Both strategies have drawbacks (e.g. over-maintenance: equipment gets maintained whether it needs it or not). A more scientific alternative is to determine the condition of the machine and forecast the time left till the next failure; this is called **predictive maintenance**. Good definition is given by [pwc](https://www.pwc.de/de/digitale-transformation/digital-factories-2020-shaping-the-future-of-manufacturing.pdf):\n",
    "> Remote monitoring of dynamic condition of machines with help of sensor data and big data analytics to predict maintenance and repair situations. This helps to increase resource  availability and optimize maintenance efforts."
   ]
  },
  {
   "cell_type": "markdown",
   "id": "fc4edadb-81b3-4310-8799-28c84f8f3f13",
   "metadata": {},
   "source": [
    "nondestructive testing, sensors\n",
    "\n",
    "Predict machinery failure using sensor to proactively perform maintenance and reduce downtime.\n",
    "\n",
    "From [here](https://mobidev.biz/blog/machine-learning-application-use-cases-manufacturing-industry):\n",
    "> ML MODELS USED FOR PREDICTIVE MAINTENANCE\n",
    "> - Regression Models: these predict the Remaining Useful Life (RUL) of the equipment. This uses historical and static data and allows manufacturers to see how many days are left until the machine experiences a failure.\n",
    "> - Classification Models: these models predict failures within a predefined time span.\n",
    "> - Anomaly Detection Models: These flag devices upon detecting abnormal system behavior."
   ]
  },
  {
   "cell_type": "markdown",
   "id": "5be24f2d-6e7a-42fa-9c1a-74ba786fb614",
   "metadata": {},
   "source": [
    "## Data\n",
    "\n",
    "We will be using two datasets."
   ]
  },
  {
   "cell_type": "markdown",
   "id": "40b8671e-55cb-4dd9-8bd5-3daaa1a477f2",
   "metadata": {},
   "source": [
    "First dataset\n",
    "\n",
    "Column description:"
   ]
  },
  {
   "cell_type": "markdown",
   "id": "066186d9-8c7f-4755-ae2d-0fa262066300",
   "metadata": {},
   "source": [
    "Metro in Porto\n",
    "\n",
    "Column desription:"
   ]
  },
  {
   "cell_type": "code",
   "execution_count": null,
   "id": "d099080d-e51d-4bd2-9834-28925c1db74d",
   "metadata": {},
   "outputs": [],
   "source": []
  },
  {
   "cell_type": "code",
   "execution_count": null,
   "id": "54519685-2e57-4e32-a6b7-32acf39001a4",
   "metadata": {},
   "outputs": [],
   "source": []
  },
  {
   "cell_type": "code",
   "execution_count": null,
   "id": "3f76b16d-1c4d-47ea-86cd-589948fee77f",
   "metadata": {},
   "outputs": [],
   "source": []
  },
  {
   "cell_type": "markdown",
   "id": "8922d937-2e81-419d-8406-0b8310a54f8b",
   "metadata": {},
   "source": [
    "Articles and papers I came across during the research:\n",
    "- [Fault diagnosis for the Space Shuttle main engine](https://www.researchgate.net/publication/23618683_Fault_diagnosis_for_the_Space_Shuttle_main_engine)\n",
    "- [AI-Automated Hard-Hat Detection](https://assets-global.website-files.com/618cdeef45d18e4ef2fd85f3/621cef628758fd1c35be832b_AI-Automated-Hard-Hat-Detection.pdf)\n",
    "- [Machine learning algorithm predicts how to get the most out of electric vehicle batteries\n",
    "](https://www.cam.ac.uk/research/news/machine-learning-algorithm-predicts-how-to-get-the-most-out-of-electric-vehicle-batteries)\n",
    "- ! [Machine Learning Application in the Manufacturing Industry](https://mobidev.biz/blog/machine-learning-application-use-cases-manufacturing-industry)\n",
    "- [Using Python and Selenium to get coordinates from street addresses](https://towardsdatascience.com/using-python-and-selenium-to-get-coordinates-from-street-addresses-62706b6ac250)\n",
    "\n",
    "Videos:\n",
    "- [AI Inspection: Machine Learning / Computer Vision for Visual Defect Detection](https://youtu.be/UY6xbrcViVw)"
   ]
  },
  {
   "cell_type": "code",
   "execution_count": null,
   "id": "2c054d50-e0a7-4029-b700-983f5555e305",
   "metadata": {},
   "outputs": [],
   "source": []
  }
 ],
 "metadata": {
  "kernelspec": {
   "display_name": "Python 3 (ipykernel)",
   "language": "python",
   "name": "python3"
  },
  "language_info": {
   "codemirror_mode": {
    "name": "ipython",
    "version": 3
   },
   "file_extension": ".py",
   "mimetype": "text/x-python",
   "name": "python",
   "nbconvert_exporter": "python",
   "pygments_lexer": "ipython3",
   "version": "3.8.13"
  }
 },
 "nbformat": 4,
 "nbformat_minor": 5
}
