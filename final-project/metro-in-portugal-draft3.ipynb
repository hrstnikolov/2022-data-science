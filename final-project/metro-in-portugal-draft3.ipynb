{
 "cells": [
  {
   "cell_type": "code",
   "execution_count": 1,
   "id": "1235430d-7946-4c6b-a45d-dc426d1e9e3c",
   "metadata": {},
   "outputs": [],
   "source": [
    "%matplotlib inline"
   ]
  },
  {
   "cell_type": "code",
   "execution_count": 2,
   "id": "54536dc4-a338-4e31-bde0-819ff0acacbe",
   "metadata": {},
   "outputs": [],
   "source": [
    "import numpy as np\n",
    "import pandas as pd\n",
    "import matplotlib.pyplot as plt\n",
    "\n",
    "from sklearn.linear_model import LogisticRegression\n",
    "from scipy.signal import find_peaks, peak_widths\n",
    "import skimage\n",
    "\n",
    "import plotly.express as px\n",
    "import plotly.graph_objects as go\n",
    "from plotly.subplots import make_subplots"
   ]
  },
  {
   "cell_type": "code",
   "execution_count": 3,
   "id": "9c58fa91-5a1f-49b0-ba6b-cefc676af9b5",
   "metadata": {},
   "outputs": [],
   "source": [
    "INPUT_DATA_PATH = r\"../../data/dataset_train.csv\""
   ]
  },
  {
   "cell_type": "markdown",
   "id": "c34258f1-6fae-4ada-9700-0612b71e118d",
   "metadata": {
    "tags": []
   },
   "source": [
    "# Metro in Porto, Portugal"
   ]
  },
  {
   "cell_type": "markdown",
   "id": "6205f21e-7a9e-4313-9ae2-d119ef8a1131",
   "metadata": {},
   "source": [
    "## Data"
   ]
  },
  {
   "cell_type": "markdown",
   "id": "aad9f1cf-7089-45c1-9d07-ffb07038fb35",
   "metadata": {},
   "source": [
    "### Description"
   ]
  },
  {
   "cell_type": "markdown",
   "id": "236882ea-576b-4711-a783-fee009cf683d",
   "metadata": {},
   "source": [
    "[data](https://zenodo.org/record/6854240#.YvuPmHZBzBV)\n",
    "\n",
    "[paper](https://arxiv.org/pdf/2207.05466.pdf#view=fitH&toolbar=1)\n",
    "\n",
    "Notes:\n",
    "- Meta data is stored in an external excel file.\n",
    "- Digital variables assume only two values: `0` when inactive or `1` when activated."
   ]
  },
  {
   "cell_type": "code",
   "execution_count": 4,
   "id": "f0dfa827-5ae0-4bb8-94cb-4d85d116f5e1",
   "metadata": {
    "tags": []
   },
   "outputs": [],
   "source": [
    "# img = skimage.io.imread(\"images/2022-08-26 15_07_17.png\")\n",
    "# fig = px.imshow(img, title=\"Pressure air unit\")\n",
    "# fig.update_traces(hovertemplate=None, hoverinfo=\"skip\")\n",
    "# fig.update_layout(margin=dict(l=20, r=20, t=40, b=20))\n",
    "# fig.update_xaxes(visible=False)\n",
    "# fig.update_yaxes(visible=False)\n",
    "# fig.show()"
   ]
  },
  {
   "cell_type": "markdown",
   "id": "bb6c7c5c-3386-436b-8727-ccb4aab2680a",
   "metadata": {},
   "source": [
    "### Columns"
   ]
  },
  {
   "cell_type": "code",
   "execution_count": 5,
   "id": "eb4c110b-59bf-4a59-91e9-200f1f54d3f9",
   "metadata": {
    "tags": []
   },
   "outputs": [
    {
     "ename": "FileNotFoundError",
     "evalue": "[Errno 2] No such file or directory: 'meta_data.xlsx'",
     "output_type": "error",
     "traceback": [
      "\u001b[1;31m---------------------------------------------------------------------------\u001b[0m",
      "\u001b[1;31mFileNotFoundError\u001b[0m                         Traceback (most recent call last)",
      "Input \u001b[1;32mIn [5]\u001b[0m, in \u001b[0;36m<cell line: 1>\u001b[1;34m()\u001b[0m\n\u001b[1;32m----> 1\u001b[0m features_info \u001b[38;5;241m=\u001b[39m \u001b[43mpd\u001b[49m\u001b[38;5;241;43m.\u001b[39;49m\u001b[43mread_excel\u001b[49m\u001b[43m(\u001b[49m\u001b[38;5;124;43m\"\u001b[39;49m\u001b[38;5;124;43mmeta_data.xlsx\u001b[39;49m\u001b[38;5;124;43m\"\u001b[39;49m\u001b[43m,\u001b[49m\u001b[43m \u001b[49m\u001b[43msheet_name\u001b[49m\u001b[43m \u001b[49m\u001b[38;5;241;43m=\u001b[39;49m\u001b[43m \u001b[49m\u001b[38;5;124;43m\"\u001b[39;49m\u001b[38;5;124;43mfeatures\u001b[39;49m\u001b[38;5;124;43m\"\u001b[39;49m\u001b[43m)\u001b[49m\n\u001b[0;32m      2\u001b[0m columns_to_hide \u001b[38;5;241m=\u001b[39m [\u001b[38;5;124m\"\u001b[39m\u001b[38;5;124mkeep\u001b[39m\u001b[38;5;124m\"\u001b[39m, \u001b[38;5;124m\"\u001b[39m\u001b[38;5;124mnew_name\u001b[39m\u001b[38;5;124m\"\u001b[39m, \u001b[38;5;124m\"\u001b[39m\u001b[38;5;124mdescription_long\u001b[39m\u001b[38;5;124m\"\u001b[39m]\n\u001b[0;32m      3\u001b[0m features_info[[\u001b[38;5;124m\"\u001b[39m\u001b[38;5;124moriginal_name\u001b[39m\u001b[38;5;124m\"\u001b[39m, \u001b[38;5;124m\"\u001b[39m\u001b[38;5;124mvariable_type\u001b[39m\u001b[38;5;124m\"\u001b[39m, \u001b[38;5;124m\"\u001b[39m\u001b[38;5;124mdescription_short\u001b[39m\u001b[38;5;124m\"\u001b[39m]]\n",
      "File \u001b[1;32m~\\Anaconda3\\envs\\data-science\\lib\\site-packages\\pandas\\util\\_decorators.py:311\u001b[0m, in \u001b[0;36mdeprecate_nonkeyword_arguments.<locals>.decorate.<locals>.wrapper\u001b[1;34m(*args, **kwargs)\u001b[0m\n\u001b[0;32m    305\u001b[0m \u001b[38;5;28;01mif\u001b[39;00m \u001b[38;5;28mlen\u001b[39m(args) \u001b[38;5;241m>\u001b[39m num_allow_args:\n\u001b[0;32m    306\u001b[0m     warnings\u001b[38;5;241m.\u001b[39mwarn(\n\u001b[0;32m    307\u001b[0m         msg\u001b[38;5;241m.\u001b[39mformat(arguments\u001b[38;5;241m=\u001b[39marguments),\n\u001b[0;32m    308\u001b[0m         \u001b[38;5;167;01mFutureWarning\u001b[39;00m,\n\u001b[0;32m    309\u001b[0m         stacklevel\u001b[38;5;241m=\u001b[39mstacklevel,\n\u001b[0;32m    310\u001b[0m     )\n\u001b[1;32m--> 311\u001b[0m \u001b[38;5;28;01mreturn\u001b[39;00m \u001b[43mfunc\u001b[49m\u001b[43m(\u001b[49m\u001b[38;5;241;43m*\u001b[39;49m\u001b[43margs\u001b[49m\u001b[43m,\u001b[49m\u001b[43m \u001b[49m\u001b[38;5;241;43m*\u001b[39;49m\u001b[38;5;241;43m*\u001b[39;49m\u001b[43mkwargs\u001b[49m\u001b[43m)\u001b[49m\n",
      "File \u001b[1;32m~\\Anaconda3\\envs\\data-science\\lib\\site-packages\\pandas\\io\\excel\\_base.py:457\u001b[0m, in \u001b[0;36mread_excel\u001b[1;34m(io, sheet_name, header, names, index_col, usecols, squeeze, dtype, engine, converters, true_values, false_values, skiprows, nrows, na_values, keep_default_na, na_filter, verbose, parse_dates, date_parser, thousands, decimal, comment, skipfooter, convert_float, mangle_dupe_cols, storage_options)\u001b[0m\n\u001b[0;32m    455\u001b[0m \u001b[38;5;28;01mif\u001b[39;00m \u001b[38;5;129;01mnot\u001b[39;00m \u001b[38;5;28misinstance\u001b[39m(io, ExcelFile):\n\u001b[0;32m    456\u001b[0m     should_close \u001b[38;5;241m=\u001b[39m \u001b[38;5;28;01mTrue\u001b[39;00m\n\u001b[1;32m--> 457\u001b[0m     io \u001b[38;5;241m=\u001b[39m \u001b[43mExcelFile\u001b[49m\u001b[43m(\u001b[49m\u001b[43mio\u001b[49m\u001b[43m,\u001b[49m\u001b[43m \u001b[49m\u001b[43mstorage_options\u001b[49m\u001b[38;5;241;43m=\u001b[39;49m\u001b[43mstorage_options\u001b[49m\u001b[43m,\u001b[49m\u001b[43m \u001b[49m\u001b[43mengine\u001b[49m\u001b[38;5;241;43m=\u001b[39;49m\u001b[43mengine\u001b[49m\u001b[43m)\u001b[49m\n\u001b[0;32m    458\u001b[0m \u001b[38;5;28;01melif\u001b[39;00m engine \u001b[38;5;129;01mand\u001b[39;00m engine \u001b[38;5;241m!=\u001b[39m io\u001b[38;5;241m.\u001b[39mengine:\n\u001b[0;32m    459\u001b[0m     \u001b[38;5;28;01mraise\u001b[39;00m \u001b[38;5;167;01mValueError\u001b[39;00m(\n\u001b[0;32m    460\u001b[0m         \u001b[38;5;124m\"\u001b[39m\u001b[38;5;124mEngine should not be specified when passing \u001b[39m\u001b[38;5;124m\"\u001b[39m\n\u001b[0;32m    461\u001b[0m         \u001b[38;5;124m\"\u001b[39m\u001b[38;5;124man ExcelFile - ExcelFile already has the engine set\u001b[39m\u001b[38;5;124m\"\u001b[39m\n\u001b[0;32m    462\u001b[0m     )\n",
      "File \u001b[1;32m~\\Anaconda3\\envs\\data-science\\lib\\site-packages\\pandas\\io\\excel\\_base.py:1376\u001b[0m, in \u001b[0;36mExcelFile.__init__\u001b[1;34m(self, path_or_buffer, engine, storage_options)\u001b[0m\n\u001b[0;32m   1374\u001b[0m     ext \u001b[38;5;241m=\u001b[39m \u001b[38;5;124m\"\u001b[39m\u001b[38;5;124mxls\u001b[39m\u001b[38;5;124m\"\u001b[39m\n\u001b[0;32m   1375\u001b[0m \u001b[38;5;28;01melse\u001b[39;00m:\n\u001b[1;32m-> 1376\u001b[0m     ext \u001b[38;5;241m=\u001b[39m \u001b[43minspect_excel_format\u001b[49m\u001b[43m(\u001b[49m\n\u001b[0;32m   1377\u001b[0m \u001b[43m        \u001b[49m\u001b[43mcontent_or_path\u001b[49m\u001b[38;5;241;43m=\u001b[39;49m\u001b[43mpath_or_buffer\u001b[49m\u001b[43m,\u001b[49m\u001b[43m \u001b[49m\u001b[43mstorage_options\u001b[49m\u001b[38;5;241;43m=\u001b[39;49m\u001b[43mstorage_options\u001b[49m\n\u001b[0;32m   1378\u001b[0m \u001b[43m    \u001b[49m\u001b[43m)\u001b[49m\n\u001b[0;32m   1379\u001b[0m     \u001b[38;5;28;01mif\u001b[39;00m ext \u001b[38;5;129;01mis\u001b[39;00m \u001b[38;5;28;01mNone\u001b[39;00m:\n\u001b[0;32m   1380\u001b[0m         \u001b[38;5;28;01mraise\u001b[39;00m \u001b[38;5;167;01mValueError\u001b[39;00m(\n\u001b[0;32m   1381\u001b[0m             \u001b[38;5;124m\"\u001b[39m\u001b[38;5;124mExcel file format cannot be determined, you must specify \u001b[39m\u001b[38;5;124m\"\u001b[39m\n\u001b[0;32m   1382\u001b[0m             \u001b[38;5;124m\"\u001b[39m\u001b[38;5;124man engine manually.\u001b[39m\u001b[38;5;124m\"\u001b[39m\n\u001b[0;32m   1383\u001b[0m         )\n",
      "File \u001b[1;32m~\\Anaconda3\\envs\\data-science\\lib\\site-packages\\pandas\\io\\excel\\_base.py:1250\u001b[0m, in \u001b[0;36minspect_excel_format\u001b[1;34m(content_or_path, storage_options)\u001b[0m\n\u001b[0;32m   1247\u001b[0m \u001b[38;5;28;01mif\u001b[39;00m \u001b[38;5;28misinstance\u001b[39m(content_or_path, \u001b[38;5;28mbytes\u001b[39m):\n\u001b[0;32m   1248\u001b[0m     content_or_path \u001b[38;5;241m=\u001b[39m BytesIO(content_or_path)\n\u001b[1;32m-> 1250\u001b[0m \u001b[38;5;28;01mwith\u001b[39;00m \u001b[43mget_handle\u001b[49m\u001b[43m(\u001b[49m\n\u001b[0;32m   1251\u001b[0m \u001b[43m    \u001b[49m\u001b[43mcontent_or_path\u001b[49m\u001b[43m,\u001b[49m\u001b[43m \u001b[49m\u001b[38;5;124;43m\"\u001b[39;49m\u001b[38;5;124;43mrb\u001b[39;49m\u001b[38;5;124;43m\"\u001b[39;49m\u001b[43m,\u001b[49m\u001b[43m \u001b[49m\u001b[43mstorage_options\u001b[49m\u001b[38;5;241;43m=\u001b[39;49m\u001b[43mstorage_options\u001b[49m\u001b[43m,\u001b[49m\u001b[43m \u001b[49m\u001b[43mis_text\u001b[49m\u001b[38;5;241;43m=\u001b[39;49m\u001b[38;5;28;43;01mFalse\u001b[39;49;00m\n\u001b[0;32m   1252\u001b[0m \u001b[43m\u001b[49m\u001b[43m)\u001b[49m \u001b[38;5;28;01mas\u001b[39;00m handle:\n\u001b[0;32m   1253\u001b[0m     stream \u001b[38;5;241m=\u001b[39m handle\u001b[38;5;241m.\u001b[39mhandle\n\u001b[0;32m   1254\u001b[0m     stream\u001b[38;5;241m.\u001b[39mseek(\u001b[38;5;241m0\u001b[39m)\n",
      "File \u001b[1;32m~\\Anaconda3\\envs\\data-science\\lib\\site-packages\\pandas\\io\\common.py:798\u001b[0m, in \u001b[0;36mget_handle\u001b[1;34m(path_or_buf, mode, encoding, compression, memory_map, is_text, errors, storage_options)\u001b[0m\n\u001b[0;32m    789\u001b[0m         handle \u001b[38;5;241m=\u001b[39m \u001b[38;5;28mopen\u001b[39m(\n\u001b[0;32m    790\u001b[0m             handle,\n\u001b[0;32m    791\u001b[0m             ioargs\u001b[38;5;241m.\u001b[39mmode,\n\u001b[1;32m   (...)\u001b[0m\n\u001b[0;32m    794\u001b[0m             newline\u001b[38;5;241m=\u001b[39m\u001b[38;5;124m\"\u001b[39m\u001b[38;5;124m\"\u001b[39m,\n\u001b[0;32m    795\u001b[0m         )\n\u001b[0;32m    796\u001b[0m     \u001b[38;5;28;01melse\u001b[39;00m:\n\u001b[0;32m    797\u001b[0m         \u001b[38;5;66;03m# Binary mode\u001b[39;00m\n\u001b[1;32m--> 798\u001b[0m         handle \u001b[38;5;241m=\u001b[39m \u001b[38;5;28;43mopen\u001b[39;49m\u001b[43m(\u001b[49m\u001b[43mhandle\u001b[49m\u001b[43m,\u001b[49m\u001b[43m \u001b[49m\u001b[43mioargs\u001b[49m\u001b[38;5;241;43m.\u001b[39;49m\u001b[43mmode\u001b[49m\u001b[43m)\u001b[49m\n\u001b[0;32m    799\u001b[0m     handles\u001b[38;5;241m.\u001b[39mappend(handle)\n\u001b[0;32m    801\u001b[0m \u001b[38;5;66;03m# Convert BytesIO or file objects passed with an encoding\u001b[39;00m\n",
      "\u001b[1;31mFileNotFoundError\u001b[0m: [Errno 2] No such file or directory: 'meta_data.xlsx'"
     ]
    }
   ],
   "source": [
    "features_info = pd.read_excel(\"meta_data.xlsx\", sheet_name = \"features\")\n",
    "columns_to_hide = [\"keep\", \"new_name\", \"description_long\"]\n",
    "features_info[[\"original_name\", \"variable_type\", \"description_short\"]]"
   ]
  },
  {
   "cell_type": "markdown",
   "id": "44c8caf9-b506-4730-8c15-3c789e7c95cf",
   "metadata": {},
   "source": [
    "### Failures"
   ]
  },
  {
   "cell_type": "code",
   "execution_count": null,
   "id": "eddea79f-f0d4-4457-9678-9fc3d8760a2a",
   "metadata": {
    "tags": []
   },
   "outputs": [],
   "source": [
    "reported_failures = pd.read_excel(\"meta_data.xlsx\", sheet_name = \"failures\")\n",
    "reported_failures"
   ]
  },
  {
   "cell_type": "markdown",
   "id": "58dcc047-efc8-4a43-93a1-cfd32db5b1d8",
   "metadata": {},
   "source": [
    "## Preprocess"
   ]
  },
  {
   "cell_type": "markdown",
   "id": "d4f31cd5-113d-4b01-a948-89314c0360a8",
   "metadata": {},
   "source": [
    "### Read"
   ]
  },
  {
   "cell_type": "code",
   "execution_count": null,
   "id": "342c1fc5-11d2-442d-b94f-3d801178b62c",
   "metadata": {},
   "outputs": [],
   "source": [
    "metro = pd.read_csv(INPUT_DATA_PATH)"
   ]
  },
  {
   "cell_type": "markdown",
   "id": "47d2fa85-a6bc-4050-90e1-78e99f3cb6a1",
   "metadata": {
    "tags": []
   },
   "source": [
    "### Get to know"
   ]
  },
  {
   "cell_type": "code",
   "execution_count": null,
   "id": "bf44669f-9335-46d9-a641-efc730d0f2eb",
   "metadata": {},
   "outputs": [],
   "source": [
    "metro.head(2)"
   ]
  },
  {
   "cell_type": "code",
   "execution_count": null,
   "id": "c0b1de15-2ff4-4742-9ce7-892b71525c1a",
   "metadata": {},
   "outputs": [],
   "source": [
    "metro.shape"
   ]
  },
  {
   "cell_type": "code",
   "execution_count": null,
   "id": "6d875033-e699-49d5-a3f9-2f6c06f9ebea",
   "metadata": {},
   "outputs": [],
   "source": [
    "metro.columns"
   ]
  },
  {
   "cell_type": "code",
   "execution_count": null,
   "id": "9168169f-3e2c-4803-9114-6e8b338d5ced",
   "metadata": {},
   "outputs": [],
   "source": [
    "metro.dtypes"
   ]
  },
  {
   "cell_type": "markdown",
   "id": "0c085e8c-7fa3-4e7e-b314-158f0f4b6aad",
   "metadata": {},
   "source": [
    "### Check for missing values"
   ]
  },
  {
   "cell_type": "code",
   "execution_count": null,
   "id": "a9676545-0a99-4717-a591-c2bac8bb2394",
   "metadata": {},
   "outputs": [],
   "source": [
    "metro.isna().any()"
   ]
  },
  {
   "cell_type": "markdown",
   "id": "83633e07-4312-40ff-b184-8ba7db16bd55",
   "metadata": {
    "tags": []
   },
   "source": [
    "### Select columns"
   ]
  },
  {
   "cell_type": "code",
   "execution_count": null,
   "id": "a0340eda-2ea3-4263-b556-ee77819ef952",
   "metadata": {},
   "outputs": [],
   "source": [
    "columns_to_keep = features_info[features_info.keep == \"yes\"].original_name\n",
    "metro = metro[columns_to_keep]"
   ]
  },
  {
   "cell_type": "markdown",
   "id": "dbbce4b7-476e-4986-8716-34c59086228c",
   "metadata": {
    "tags": []
   },
   "source": [
    "### Rename columns"
   ]
  },
  {
   "cell_type": "code",
   "execution_count": null,
   "id": "c2b74e0e-9622-4761-81e4-04404e938557",
   "metadata": {},
   "outputs": [],
   "source": [
    "new_names = features_info[features_info.keep == \"yes\"].new_name\n",
    "new_names.name = \"\"\n",
    "metro.columns = new_names"
   ]
  },
  {
   "cell_type": "markdown",
   "id": "4365e53c-a823-48f9-94ed-d6bae30ea4bb",
   "metadata": {
    "tags": []
   },
   "source": [
    "### Set index"
   ]
  },
  {
   "cell_type": "code",
   "execution_count": null,
   "id": "f5dec639-4fbb-4d97-aa55-e194ca3883ed",
   "metadata": {},
   "outputs": [],
   "source": [
    "metro.timestamp = pd.to_datetime(metro.timestamp)\n",
    "metro = metro.set_index(\"timestamp\")"
   ]
  },
  {
   "cell_type": "code",
   "execution_count": null,
   "id": "99bb0b9a-c282-492e-b9da-688c5b38353e",
   "metadata": {},
   "outputs": [],
   "source": [
    "metro.index[0], metro.index[-1]"
   ]
  },
  {
   "cell_type": "markdown",
   "id": "56f589f1-be22-42bc-b62d-17d4f0947a21",
   "metadata": {},
   "source": [
    "## Explore time series"
   ]
  },
  {
   "cell_type": "markdown",
   "id": "91290c8a-7c65-4d2b-8274-2857728bf54e",
   "metadata": {
    "tags": []
   },
   "source": [
    "### Define column groups"
   ]
  },
  {
   "cell_type": "code",
   "execution_count": null,
   "id": "590f0a0a-e711-4bb6-a50c-0e253b470da4",
   "metadata": {},
   "outputs": [],
   "source": [
    "used_columns = features_info[features_info.keep == \"yes\"]\n",
    "columns_by_type = used_columns.groupby(\"variable_type\")\n",
    "columns_by_type.groups"
   ]
  },
  {
   "cell_type": "code",
   "execution_count": null,
   "id": "62213e4e-9f7d-491d-9f59-b9a5e405b10b",
   "metadata": {},
   "outputs": [],
   "source": [
    "analogue_columns = columns_by_type.get_group(\"analogue\").new_name\n",
    "digital_columns = columns_by_type.get_group(\"digital\").new_name\n",
    "gps_columns = columns_by_type.get_group(\"gps data\").new_name\n",
    "\n",
    "all_columns = np.concatenate([analogue_columns, digital_columns])"
   ]
  },
  {
   "cell_type": "markdown",
   "id": "b278db32-2956-486c-8d87-d4d806e6e513",
   "metadata": {
    "tags": []
   },
   "source": [
    "### Examine a single day"
   ]
  },
  {
   "cell_type": "code",
   "execution_count": null,
   "id": "51c92449-6bcf-4a1f-9841-6889c5617ed4",
   "metadata": {},
   "outputs": [],
   "source": [
    "def plot_multiple_columns(df, cols, title=\"\"):\n",
    "    num_plots = len(cols)\n",
    "    fig, axs = plt.subplots(num_plots, figsize = (8, 2 * num_plots), sharex=True)\n",
    "    for i, col in enumerate(cols):\n",
    "        axs[i].plot(df[col])\n",
    "        axs[i].set_ylabel(col)\n",
    "        axs[i].set_title(col)\n",
    "    axs[-1].set_xlabel(\"Time\")\n",
    "    fig.suptitle(title)\n",
    "    fig.tight_layout()\n",
    "    plt.show()"
   ]
  },
  {
   "cell_type": "code",
   "execution_count": null,
   "id": "b3e7a5d5-8f83-4da7-973b-3880a8742eee",
   "metadata": {},
   "outputs": [],
   "source": [
    "single_day = \"('2022-01-10 08:00' < timestamp) & (timestamp < '2022-01-10 23:00')\"\n",
    "plot_multiple_columns(metro.query(single_day), analogue_columns)"
   ]
  },
  {
   "cell_type": "markdown",
   "id": "2cc289e2-512b-4148-9b3b-5d758aad7119",
   "metadata": {
    "tags": []
   },
   "source": [
    "### Examine a morning"
   ]
  },
  {
   "cell_type": "code",
   "execution_count": null,
   "id": "b9100fa0-ae78-40f9-932e-9237d01f9d59",
   "metadata": {},
   "outputs": [],
   "source": [
    "morning = \"('2022-01-10 08:00' < timestamp) & (timestamp < '2022-01-10 10:00')\"\n",
    "plot_multiple_columns(metro.query(morning), all_columns)"
   ]
  },
  {
   "cell_type": "markdown",
   "id": "198ddecc-20db-4264-915b-478661e532e3",
   "metadata": {
    "tags": []
   },
   "source": [
    "### Examine the first failure"
   ]
  },
  {
   "cell_type": "code",
   "execution_count": null,
   "id": "50069939-689e-4ec9-8876-ebab369c1df2",
   "metadata": {},
   "outputs": [],
   "source": [
    "# Info\n",
    "reported_failures[reported_failures.id == 1]"
   ]
  },
  {
   "cell_type": "code",
   "execution_count": null,
   "id": "b9d38566-b7b5-41f7-aa5c-8d03841660dd",
   "metadata": {
    "tags": []
   },
   "outputs": [],
   "source": [
    "failure_interval = \"('2022-02-28 21:00' <= timestamp) & (timestamp <= '2022-03-01 03:00')\"\n",
    "first_failure = metro.query(failure_interval)\n",
    "\n",
    "plot_multiple_columns(first_failure, analogue_columns)"
   ]
  },
  {
   "cell_type": "markdown",
   "id": "d31a98e0-d767-4fdb-9a2e-78859e301384",
   "metadata": {
    "tags": []
   },
   "source": [
    "### Examine the second failure"
   ]
  },
  {
   "cell_type": "code",
   "execution_count": null,
   "id": "88c05d50-969c-4289-837e-d234fda0b171",
   "metadata": {},
   "outputs": [],
   "source": [
    "# Info\n",
    "reported_failures[reported_failures.id == 2]"
   ]
  },
  {
   "cell_type": "code",
   "execution_count": null,
   "id": "7c2f7c05-cc3e-48bd-a045-587f402b6814",
   "metadata": {
    "tags": []
   },
   "outputs": [],
   "source": [
    "failure_interval = \"('2022-03-23 14:00' <= timestamp) & (timestamp <= '2022-03-23 16:00')\"\n",
    "second_failure = metro.query(failure_interval)\n",
    "\n",
    "plot_multiple_columns(second_failure, analogue_columns)"
   ]
  },
  {
   "cell_type": "markdown",
   "id": "aa97db80-bc46-4402-8aed-abeb6e8702f1",
   "metadata": {
    "tags": []
   },
   "source": [
    "### Examine the third failure"
   ]
  },
  {
   "cell_type": "code",
   "execution_count": null,
   "id": "73ac9def-7b86-48e6-8661-5f1515f83d58",
   "metadata": {},
   "outputs": [],
   "source": [
    "# Info\n",
    "reported_failures[reported_failures.id == 3]"
   ]
  },
  {
   "cell_type": "code",
   "execution_count": null,
   "id": "92426bd1-d745-4b10-9613-ec0c92262d2e",
   "metadata": {
    "tags": []
   },
   "outputs": [],
   "source": [
    "failure_interval = \"('2022-05-30 11:00' <= timestamp) & (timestamp <= '2022-06-02 07:00')\"\n",
    "third_failure = metro.query(failure_interval)\n",
    "\n",
    "plot_multiple_columns(third_failure, analogue_columns)"
   ]
  },
  {
   "cell_type": "code",
   "execution_count": null,
   "id": "9da84113-2490-4d52-9479-4a61cf658f2d",
   "metadata": {
    "tags": []
   },
   "outputs": [],
   "source": [
    "failure_interval = \"('2022-06-02 01:00' <= timestamp) & (timestamp <= '2022-06-02 07:00')\"\n",
    "third_failure_2 = metro.query(failure_interval)\n",
    "\n",
    "plot_multiple_columns(third_failure_2, analogue_columns)"
   ]
  },
  {
   "cell_type": "markdown",
   "id": "b96e4793-29d0-4101-aa19-a51d117517a6",
   "metadata": {},
   "source": [
    "## Explore geographic data"
   ]
  },
  {
   "cell_type": "markdown",
   "id": "794704f3-0ec6-4b44-a855-d307a6982b5c",
   "metadata": {
    "tags": []
   },
   "source": [
    "### Plot train speed"
   ]
  },
  {
   "cell_type": "code",
   "execution_count": null,
   "id": "2f7bb3a0-441d-4ddb-bffb-18da5019c97a",
   "metadata": {},
   "outputs": [],
   "source": [
    "metro[gps_columns].head(2)"
   ]
  },
  {
   "cell_type": "code",
   "execution_count": null,
   "id": "55e4a27c-6b1b-4876-856f-418d7c8b3e73",
   "metadata": {},
   "outputs": [],
   "source": [
    "start = \"2022-01-10 08:00\"\n",
    "end = \"2022-01-10 12:00\"\n",
    "query = f\"('{start}' <= timestamp) & (timestamp <= '{end}') & (quality == 1)\"\n",
    "gps_data = metro[gps_columns].query(query)"
   ]
  },
  {
   "cell_type": "code",
   "execution_count": null,
   "id": "a7a758a8-ad04-49ea-aee2-665e770f7a3b",
   "metadata": {},
   "outputs": [],
   "source": [
    "# fig = px.scatter_mapbox(\n",
    "#     gps_data, \n",
    "#     lat=\"lat\", \n",
    "#     lon=\"lon\", \n",
    "#     color = \"speed\", \n",
    "#     # zoom=10, \n",
    "#     title=f\"Metro route and speed from {start} to {end}\",\n",
    "# )\n",
    "\n",
    "# fig.update_layout(mapbox_style=\"carto-positron\")\n",
    "# fig.update_layout(margin={\"r\":0,\"t\":50,\"l\":0,\"b\":0})\n",
    "# fig.show()"
   ]
  },
  {
   "cell_type": "markdown",
   "id": "2264de06-a3cd-4dd4-b47e-79d7befadcf3",
   "metadata": {
    "tags": []
   },
   "source": [
    "### Read station locations"
   ]
  },
  {
   "cell_type": "code",
   "execution_count": null,
   "id": "1c24d844-003d-4676-afb2-9748988c5b7b",
   "metadata": {},
   "outputs": [],
   "source": [
    "stations = pd.read_excel(\"meta_data.xlsx\", sheet_name = \"stations\")\n",
    "stations"
   ]
  },
  {
   "cell_type": "markdown",
   "id": "637f7bd6-c60e-4e58-8a4f-7dbfe986d1ec",
   "metadata": {
    "tags": []
   },
   "source": [
    "### Plot train speed and stations\n",
    "\n",
    "Observations:\n",
    "- Low train speed indicates a station. The stations match with the indication."
   ]
  },
  {
   "cell_type": "code",
   "execution_count": null,
   "id": "88c6bbe2-a5b9-4a0f-8f35-2cd6f9e45cd2",
   "metadata": {},
   "outputs": [],
   "source": [
    "# fig = go.Figure()\n",
    "\n",
    "# fig.add_trace(\n",
    "#     go.Scattermapbox(\n",
    "#         lat=gps_data.lat,\n",
    "#         lon=gps_data.lon,\n",
    "#         marker = go.scattermapbox.Marker(color = gps_data.speed),\n",
    "#         name = \"Train speed\",\n",
    "#     )\n",
    "# )\n",
    "\n",
    "# fig.add_trace(\n",
    "#     go.Scattermapbox(\n",
    "#         lat=stations.lat,\n",
    "#         lon=stations.lon,\n",
    "#         mode='markers',\n",
    "#         marker=go.scattermapbox.Marker(\n",
    "#             size=16,\n",
    "#             color='green',\n",
    "#             opacity=0.6,\n",
    "#             ),\n",
    "#         text=stations.station,\n",
    "#         name = \"Stations\",\n",
    "#     )\n",
    "# )\n",
    "\n",
    "# fig.update_layout(\n",
    "#     mapbox_style=\"carto-positron\",\n",
    "#     margin={\"r\":0,\"t\":30,\"l\":0,\"b\":0},\n",
    "#     title=\"Train speed and stations\",\n",
    "# )\n",
    "# fig.show()"
   ]
  },
  {
   "cell_type": "markdown",
   "id": "702824f4-4bef-4325-9d69-391ee4bfdbbb",
   "metadata": {},
   "source": [
    "### Plot failure locations"
   ]
  },
  {
   "cell_type": "markdown",
   "id": "8ec0d7ce-8516-4001-8dcb-2a0ddd5004ac",
   "metadata": {},
   "source": [
    "Select narrower failure intervals based on the abnormalities in sensor readings observed in above analyses.\n",
    "\n",
    "Also filter out the invalid gps readings (`[metro.quality == 1]`).\n",
    "\n",
    "The third failure is omitted since:\n",
    "- there is no valid GPS data in the failure period\n",
    "- the time of occurrence can't be determined as the reported duration is much longer than the other two (2 days vs 1-2 hours)"
   ]
  },
  {
   "cell_type": "code",
   "execution_count": null,
   "id": "d6d91ca3-a03b-448c-b068-6f3c7668fe36",
   "metadata": {},
   "outputs": [],
   "source": [
    "interval = \"('2022-02-28 22:00' <= timestamp) & (timestamp <= '2022-03-01 01:00')\"\n",
    "first_breakdown = metro[metro.quality == 1].query(interval)\n",
    "\n",
    "interval = \"('2022-03-23 14:54' <= timestamp) & (timestamp <= '2022-03-23 15:24')\"\n",
    "second_breakdown = metro[metro.quality == 1].query(interval)\n",
    "\n",
    "for breakdown in [first_breakdown, second_breakdown]:\n",
    "    print(breakdown.shape)"
   ]
  },
  {
   "cell_type": "code",
   "execution_count": null,
   "id": "a4e2b18f-bca7-411c-a6e1-cf501090428f",
   "metadata": {},
   "outputs": [],
   "source": [
    "# fig = go.Figure()\n",
    "\n",
    "# # Failures\n",
    "# for breakdown, label in zip([first_breakdown, second_breakdown], ['First failure', 'Second failure']):\n",
    "#     fig.add_trace(\n",
    "#         go.Scattermapbox(\n",
    "#             lat=breakdown.lat,\n",
    "#             lon=breakdown.lon,\n",
    "#             opacity=0.5,\n",
    "#             marker={\"size\": 5,},\n",
    "#             name=label,\n",
    "#         )\n",
    "#     )\n",
    "\n",
    "# # Stations\n",
    "# fig.add_trace(\n",
    "#     go.Scattermapbox(\n",
    "#         lat=stations.lat,\n",
    "#         lon=stations.lon,\n",
    "#         marker={\n",
    "#             \"size\": 15,\n",
    "#         },\n",
    "#         text = stations.station,\n",
    "#         name = \"Stations\"\n",
    "#     )\n",
    "# )\n",
    "\n",
    "# fig.update_layout(\n",
    "#     mapbox_style=\"carto-positron\",\n",
    "#     margin={\"r\":0,\"t\":30,\"l\":0,\"b\":0},\n",
    "#     title=\"Failure and station locations\"\n",
    "# )\n",
    "# fig.show()"
   ]
  },
  {
   "cell_type": "markdown",
   "id": "24aa81b6-fafa-4c81-8ba8-31a8f64d95b9",
   "metadata": {},
   "source": [
    "### Check GPS data quality"
   ]
  },
  {
   "cell_type": "code",
   "execution_count": null,
   "id": "5bcd1587-b938-4746-b6b9-0a10de744692",
   "metadata": {},
   "outputs": [],
   "source": [
    "interval = \"('2022-02-10 01:00' <= timestamp) & (timestamp <= '2022-06-02 06:00')\"\n",
    "quality_third_failure = metro.query(interval).quality"
   ]
  },
  {
   "cell_type": "code",
   "execution_count": null,
   "id": "99b39a30-11e4-445d-b86d-8c46e8df5fed",
   "metadata": {},
   "outputs": [],
   "source": [
    "plt.plot(quality_third_failure)\n",
    "plt.show()\n",
    "\n",
    "# TODO: threshold by frequency to remove noise"
   ]
  },
  {
   "cell_type": "markdown",
   "id": "32a9c0d6-34e1-441e-b448-f1517c4b5759",
   "metadata": {},
   "source": [
    "### Identify the peaks for one sensor signal\n",
    "\n",
    "Steps:\n",
    "1. Filter data for a short period and with proper GPS quality.\n",
    "2. Select one analogue sensor signal. Find its peaks.\n",
    "3. Plot to validate result.\n",
    "\n",
    "`compressor_pressure` is chosen as signal because its shape seems suitable."
   ]
  },
  {
   "cell_type": "code",
   "execution_count": null,
   "id": "d7e64905-78c2-4f51-86c0-83add549251c",
   "metadata": {
    "tags": []
   },
   "outputs": [],
   "source": [
    "start = \"2022-01-10 08:00\"\n",
    "end = \"2022-01-10 12:00\"\n",
    "one_hour = f\"('{start}' <= timestamp) & (timestamp <= '{end}') & (quality == 1)\"\n",
    "metro_one_hour = metro.query(one_hour)"
   ]
  },
  {
   "cell_type": "code",
   "execution_count": null,
   "id": "9762ee43-0b41-4f09-9742-e2f1cf8ea788",
   "metadata": {},
   "outputs": [],
   "source": [
    "signal = metro_one_hour.compressor_pressure\n",
    "peak_indeces, _ = find_peaks(signal, height=10, distance=300)\n",
    "peaks = signal.iloc[peak_indeces].copy()"
   ]
  },
  {
   "cell_type": "code",
   "execution_count": null,
   "id": "5dfa6239-2bb1-4a7f-b987-47be48539d4d",
   "metadata": {},
   "outputs": [],
   "source": [
    "print(f\"Peaks count: {len(peaks)}\")\n",
    "\n",
    "plt.figure(figsize = (12, 4))\n",
    "plt.plot(signal)\n",
    "plt.plot(peaks, \"rx\")\n",
    "plt.show()"
   ]
  },
  {
   "cell_type": "code",
   "execution_count": null,
   "id": "ff3948e3-5ece-44f1-b84a-4ad417ec35fb",
   "metadata": {},
   "outputs": [],
   "source": [
    "# fig1 = px.line(signal)\n",
    "# fig2 = px.scatter(peaks, color_discrete_sequence=['#ff7f0e'])\n",
    "# fig3 = go.Figure(data=fig1.data + fig2.data)\n",
    "# fig3.show()"
   ]
  },
  {
   "cell_type": "markdown",
   "id": "a7d4f776-d8b6-4634-b667-fb0f7c63545c",
   "metadata": {},
   "source": [
    "### Compare peek locations to stations\n"
   ]
  },
  {
   "cell_type": "code",
   "execution_count": null,
   "id": "f83f9c07-3202-40a8-9544-f80fa0e96efc",
   "metadata": {},
   "outputs": [],
   "source": [
    "peaks_gps_data = metro_one_hour[metro_one_hour.index.isin(peaks.index)][[\"lon\", \"lat\"]]\n",
    "\n",
    "stations_and_peaks = pd.concat([stations, peaks_gps_data], keys=[\"station\", \"peak\"])\n",
    "stations_and_peaks = stations_and_peaks.reset_index()\n",
    "stations_and_peaks = stations_and_peaks.drop(columns=[\"level_1\"])\n",
    "stations_and_peaks = stations_and_peaks.rename(columns={\"level_0\": \"location_type\"})\n",
    "\n",
    "stations_and_peaks"
   ]
  },
  {
   "cell_type": "code",
   "execution_count": null,
   "id": "9c20c30b-5eed-49ba-bee1-80040a93ca1c",
   "metadata": {},
   "outputs": [],
   "source": [
    "# fig = px.scatter_mapbox(\n",
    "#     data_frame = stations_and_peaks,\n",
    "#     lat=\"lat\",\n",
    "#     lon=\"lon\",\n",
    "#     color=\"location_type\",\n",
    "# )\n",
    "\n",
    "# fig.update_layout(\n",
    "#     mapbox_style=\"carto-positron\",\n",
    "#     margin={\"r\":0,\"t\":30,\"l\":0,\"b\":0},\n",
    "#     title=\"Peeks and stations\"\n",
    "# )\n",
    "# fig.show()"
   ]
  },
  {
   "cell_type": "code",
   "execution_count": null,
   "id": "090e0de8-73e0-4614-8c6d-f90f7779249c",
   "metadata": {
    "jupyter": {
     "source_hidden": true
    },
    "tags": []
   },
   "outputs": [],
   "source": [
    "# fig = go.Figure()\n",
    "\n",
    "# # Sensor peaks\n",
    "# fig.add_trace(\n",
    "#     go.Scattermapbox(\n",
    "#         lat=peaks_gps_data.lat,\n",
    "#         lon=peaks_gps_data.lon,\n",
    "#         name = \"Compressor pressure peaks\",\n",
    "#     )\n",
    "# )\n",
    "\n",
    "# # Stations\n",
    "# fig.add_trace(\n",
    "#     go.Scattermapbox(\n",
    "#         lat=stations.lat,\n",
    "#         lon=stations.lon,\n",
    "#         mode=\"markers\",\n",
    "#         marker={\n",
    "#             \"size\": 15,\n",
    "#         },\n",
    "#         text = stations.station,\n",
    "#         name = \"Stations\"\n",
    "#     )  \n",
    "# )\n",
    "\n",
    "# fig.update_layout(\n",
    "#     mapbox_style=\"carto-positron\",\n",
    "#     margin={\"r\":0,\"t\":30,\"l\":0,\"b\":0},\n",
    "#     title=\"Failure and station locations\"\n",
    "# )\n",
    "# fig.show()"
   ]
  },
  {
   "cell_type": "markdown",
   "id": "a5504b20-c20f-444b-9578-4b86cef49218",
   "metadata": {
    "tags": []
   },
   "source": [
    "### Plot widths\n",
    "`peak_widths` returns a `tuple(width, y, x_start, x_end)`"
   ]
  },
  {
   "cell_type": "code",
   "execution_count": null,
   "id": "c7b7612a-fcb3-47ef-a3af-e82f256a6962",
   "metadata": {},
   "outputs": [],
   "source": [
    "widths = peak_widths(x, peaks, rel_height=0.95)\n",
    "widths "
   ]
  },
  {
   "cell_type": "code",
   "execution_count": null,
   "id": "5d58835c-5187-41b7-aa5f-292bb9936f5b",
   "metadata": {},
   "outputs": [],
   "source": [
    "plt.plot(x)\n",
    "plt.plot(peaks, x[peaks], \"x\")\n",
    "plt.hlines(y = widths[1], xmin = widths[2], xmax = widths[3], color=\"red\")\n",
    "plt.xlim((1000, 1500))\n",
    "plt.show()"
   ]
  },
  {
   "cell_type": "code",
   "execution_count": null,
   "id": "f8ed8c28-7ddb-4a04-ab3d-176d50d6724e",
   "metadata": {},
   "outputs": [],
   "source": [
    "fig1 = px.line(x)\n",
    "fig2 = px.scatter(x = peaks, y = x[peaks], color_discrete_sequence=['#ff7f0e'])\n",
    "fig3 = go.Figure(data=fig1.data + fig2.data)\n",
    "fig3.show()"
   ]
  },
  {
   "cell_type": "code",
   "execution_count": null,
   "id": "9a424020-6d31-49a1-b11b-6f0f71a9ab9f",
   "metadata": {},
   "outputs": [],
   "source": [
    "plt.plot(metro.Reservoirs)\n",
    "plt.show()"
   ]
  },
  {
   "cell_type": "code",
   "execution_count": null,
   "id": "b94de2be-d82c-4219-93eb-8764f0cb77c7",
   "metadata": {},
   "outputs": [],
   "source": [
    "metro"
   ]
  },
  {
   "cell_type": "markdown",
   "id": "4290db26-a73f-4e15-bd8e-b42d11e5205f",
   "metadata": {},
   "source": [
    "### TODO compare diff days for same location / train stop"
   ]
  },
  {
   "cell_type": "code",
   "execution_count": null,
   "id": "8cef1d45-c3d7-44e3-8a71-77a054aefff0",
   "metadata": {},
   "outputs": [],
   "source": []
  }
 ],
 "metadata": {
  "kernelspec": {
   "display_name": "Python 3 (ipykernel)",
   "language": "python",
   "name": "python3"
  },
  "language_info": {
   "codemirror_mode": {
    "name": "ipython",
    "version": 3
   },
   "file_extension": ".py",
   "mimetype": "text/x-python",
   "name": "python",
   "nbconvert_exporter": "python",
   "pygments_lexer": "ipython3",
   "version": "3.8.13"
  }
 },
 "nbformat": 4,
 "nbformat_minor": 5
}
