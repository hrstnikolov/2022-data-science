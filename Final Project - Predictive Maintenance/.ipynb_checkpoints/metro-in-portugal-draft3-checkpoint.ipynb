{
 "cells": [
  {
   "cell_type": "code",
   "execution_count": 1,
   "id": "1235430d-7946-4c6b-a45d-dc426d1e9e3c",
   "metadata": {},
   "outputs": [],
   "source": [
    "%matplotlib inline"
   ]
  },
  {
   "cell_type": "code",
   "execution_count": 2,
   "id": "54536dc4-a338-4e31-bde0-819ff0acacbe",
   "metadata": {},
   "outputs": [],
   "source": [
    "import numpy as np\n",
    "import pandas as pd\n",
    "import matplotlib.pyplot as plt\n",
    "from matplotlib import ticker\n",
    "\n",
    "from sklearn.linear_model import LogisticRegression\n",
    "from sklearn.preprocessing import MinMaxScaler\n",
    "from sklearn.model_selection import train_test_split\n",
    "from sklearn.decomposition import PCA\n",
    "\n",
    "import skimage\n",
    "\n",
    "import scipy.stats as st\n",
    "from scipy.signal import find_peaks, peak_widths\n",
    "\n",
    "import plotly.express as px\n",
    "import plotly.graph_objects as go\n",
    "from plotly.subplots import make_subplots\n",
    "\n",
    "from statsmodels.graphics.mosaicplot import mosaic\n",
    "from pathlib import Path"
   ]
  },
  {
   "cell_type": "code",
   "execution_count": 3,
   "id": "5ccb33a7-d4dc-4358-894b-fdcec7e5341e",
   "metadata": {},
   "outputs": [],
   "source": [
    "RANDOM_STATE = 26"
   ]
  },
  {
   "cell_type": "markdown",
   "id": "c34258f1-6fae-4ada-9700-0612b71e118d",
   "metadata": {
    "tags": []
   },
   "source": [
    "# Metro in Portugal"
   ]
  },
  {
   "cell_type": "markdown",
   "id": "6205f21e-7a9e-4313-9ae2-d119ef8a1131",
   "metadata": {
    "tags": []
   },
   "source": [
    "## 1. Data"
   ]
  },
  {
   "cell_type": "markdown",
   "id": "f9e7b37c-933a-4a40-a49c-0bdffc45c87c",
   "metadata": {
    "tags": []
   },
   "source": [
    "### Description\n",
    "\n",
    "The second data set contains real data of the metro trains in Porto, Portugal. Data is recorded in the period Jan-Jun 2022.\n",
    "\n",
    "The dataset (1.7 GB) can be downloaded from [here](https://zenodo.org/record/6854240#.YvuPmHZBzBV) ([direct link](https://zenodo.org/record/6854240/files/dataset_train.csv?download=1)). Sections of the [paper](https://arxiv.org/abs/2207.05466) ([pdf](https://arxiv.org/pdf/2207.05466.pdf#view=fitH&toolbar=1)) are quoted below to understand the context:\n",
    "\n",
    ">The Air Production Unit (APU) installed on the roof of Metro vehicles feeds units that perform different functions. One of these units is the secondary suspension, responsible for maintaining the height of the vehicle level regardless of the onboard number of passengers. \n",
    "\n",
    "> ...analog sensor signals (pressure, temperature, current consumption), digital signals (control signals, discrete signals), and GPS information (latitude, longitude, and speed).\n",
    "\n",
    ">The main goal of the MetroPT dataset is to become a benchmark dataset for Predictive Maintenance. That is a real-world dataset, where the ground truth of anomalies is known from the company’s maintenance reports.\n",
    "\n",
    "**Disclaimer**: It took my computer ~ 40 seconds to load the data. This was the cell that took the longest. Even though I experimented with several methods how to handle large data (reading pandas chunks, reading using dask, splitting into several csv files), in the end I decided that the standard way is easier and more practical."
   ]
  },
  {
   "cell_type": "markdown",
   "id": "f2e2dc40-fc71-4883-b0be-5c290487b18f",
   "metadata": {},
   "source": [
    "### Paths"
   ]
  },
  {
   "cell_type": "code",
   "execution_count": 15,
   "id": "3b6f945c-ea17-442e-97d4-d3fab252c556",
   "metadata": {},
   "outputs": [],
   "source": [
    "DESKTOP = Path().home() / \"Desktop\"\n",
    "INPUT_DATA = DESKTOP / \"data/dataset_train.csv\"\n",
    "META_DATA = \"data/metro_meta_data.xlsx\""
   ]
  },
  {
   "cell_type": "markdown",
   "id": "10247d6c-82ee-4509-9dd4-2697273e5279",
   "metadata": {
    "tags": []
   },
   "source": [
    "### Schematic\n",
    "\n",
    "Hydro-pneumatic schmatic of the Air Production Unit (APU) taken from the article pdf."
   ]
  },
  {
   "cell_type": "markdown",
   "id": "1710ac54-207a-49cb-a14c-8b56e058e652",
   "metadata": {
    "tags": []
   },
   "source": [
    "<img src=\"images/2022-08-26 15_07_17.png\">"
   ]
  },
  {
   "cell_type": "markdown",
   "id": "bb6c7c5c-3386-436b-8727-ccb4aab2680a",
   "metadata": {},
   "source": [
    "### Columns\n",
    "\n",
    "All original columns are listed below, a brief description is also added. This information is stored in an external excel file containing all meta data.\n",
    "\n",
    "There are 3 types of data: \n",
    "- analogue (e.g. pressure)\n",
    "- digital (e.g. valve activation flag)\n",
    "- GPS"
   ]
  },
  {
   "cell_type": "code",
   "execution_count": 5,
   "id": "eb4c110b-59bf-4a59-91e9-200f1f54d3f9",
   "metadata": {
    "tags": []
   },
   "outputs": [
    {
     "data": {
      "text/html": [
       "<div>\n",
       "<style scoped>\n",
       "    .dataframe tbody tr th:only-of-type {\n",
       "        vertical-align: middle;\n",
       "    }\n",
       "\n",
       "    .dataframe tbody tr th {\n",
       "        vertical-align: top;\n",
       "    }\n",
       "\n",
       "    .dataframe thead th {\n",
       "        text-align: right;\n",
       "    }\n",
       "</style>\n",
       "<table border=\"1\" class=\"dataframe\">\n",
       "  <thead>\n",
       "    <tr style=\"text-align: right;\">\n",
       "      <th></th>\n",
       "      <th>original_name</th>\n",
       "      <th>variable_type</th>\n",
       "      <th>description_short</th>\n",
       "    </tr>\n",
       "  </thead>\n",
       "  <tbody>\n",
       "    <tr>\n",
       "      <th>0</th>\n",
       "      <td>timestamp</td>\n",
       "      <td>na</td>\n",
       "      <td>timestamp</td>\n",
       "    </tr>\n",
       "    <tr>\n",
       "      <th>1</th>\n",
       "      <td>TP2</td>\n",
       "      <td>analogue</td>\n",
       "      <td>compressor pressure</td>\n",
       "    </tr>\n",
       "    <tr>\n",
       "      <th>2</th>\n",
       "      <td>TP3</td>\n",
       "      <td>analogue</td>\n",
       "      <td>pneumatic panel pressure</td>\n",
       "    </tr>\n",
       "    <tr>\n",
       "      <th>3</th>\n",
       "      <td>H1</td>\n",
       "      <td>analogue</td>\n",
       "      <td>H1 valve activation</td>\n",
       "    </tr>\n",
       "    <tr>\n",
       "      <th>4</th>\n",
       "      <td>DV_pressure</td>\n",
       "      <td>analogue</td>\n",
       "      <td>pressure drop when towers discharge water</td>\n",
       "    </tr>\n",
       "    <tr>\n",
       "      <th>5</th>\n",
       "      <td>Reservoirs</td>\n",
       "      <td>analogue</td>\n",
       "      <td>unknown</td>\n",
       "    </tr>\n",
       "    <tr>\n",
       "      <th>6</th>\n",
       "      <td>Oil_temperature</td>\n",
       "      <td>analogue</td>\n",
       "      <td>temperature of the compressor oil</td>\n",
       "    </tr>\n",
       "    <tr>\n",
       "      <th>7</th>\n",
       "      <td>Flowmeter</td>\n",
       "      <td>analogue</td>\n",
       "      <td>unknown</td>\n",
       "    </tr>\n",
       "    <tr>\n",
       "      <th>8</th>\n",
       "      <td>Motor_current</td>\n",
       "      <td>analogue</td>\n",
       "      <td>motor current</td>\n",
       "    </tr>\n",
       "    <tr>\n",
       "      <th>9</th>\n",
       "      <td>COMP</td>\n",
       "      <td>digital</td>\n",
       "      <td>compressor air intake valve</td>\n",
       "    </tr>\n",
       "    <tr>\n",
       "      <th>10</th>\n",
       "      <td>DV_eletric</td>\n",
       "      <td>digital</td>\n",
       "      <td>compressor outlet valve</td>\n",
       "    </tr>\n",
       "    <tr>\n",
       "      <th>11</th>\n",
       "      <td>Towers</td>\n",
       "      <td>digital</td>\n",
       "      <td>active tower</td>\n",
       "    </tr>\n",
       "    <tr>\n",
       "      <th>12</th>\n",
       "      <td>MPG</td>\n",
       "      <td>digital</td>\n",
       "      <td>compressor start intake valve</td>\n",
       "    </tr>\n",
       "    <tr>\n",
       "      <th>13</th>\n",
       "      <td>LPS</td>\n",
       "      <td>digital</td>\n",
       "      <td>7-bar threshold indicator</td>\n",
       "    </tr>\n",
       "    <tr>\n",
       "      <th>14</th>\n",
       "      <td>Pressure_switch</td>\n",
       "      <td>digital</td>\n",
       "      <td>unknown</td>\n",
       "    </tr>\n",
       "    <tr>\n",
       "      <th>15</th>\n",
       "      <td>Oil_level</td>\n",
       "      <td>digital</td>\n",
       "      <td>compressor oil level</td>\n",
       "    </tr>\n",
       "    <tr>\n",
       "      <th>16</th>\n",
       "      <td>Caudal_impulses</td>\n",
       "      <td>digital</td>\n",
       "      <td>unknown</td>\n",
       "    </tr>\n",
       "    <tr>\n",
       "      <th>17</th>\n",
       "      <td>gpsLong</td>\n",
       "      <td>gps data</td>\n",
       "      <td>logitude</td>\n",
       "    </tr>\n",
       "    <tr>\n",
       "      <th>18</th>\n",
       "      <td>gpsLat</td>\n",
       "      <td>gps data</td>\n",
       "      <td>latitude</td>\n",
       "    </tr>\n",
       "    <tr>\n",
       "      <th>19</th>\n",
       "      <td>gpsSpeed</td>\n",
       "      <td>gps data</td>\n",
       "      <td>speed of the train</td>\n",
       "    </tr>\n",
       "    <tr>\n",
       "      <th>20</th>\n",
       "      <td>gpsQuality</td>\n",
       "      <td>gps data</td>\n",
       "      <td>gps data quality</td>\n",
       "    </tr>\n",
       "  </tbody>\n",
       "</table>\n",
       "</div>"
      ],
      "text/plain": [
       "      original_name variable_type                          description_short\n",
       "0         timestamp            na                                  timestamp\n",
       "1               TP2      analogue                        compressor pressure\n",
       "2               TP3      analogue                   pneumatic panel pressure\n",
       "3                H1      analogue                        H1 valve activation\n",
       "4       DV_pressure      analogue  pressure drop when towers discharge water\n",
       "5        Reservoirs      analogue                                    unknown\n",
       "6   Oil_temperature      analogue          temperature of the compressor oil\n",
       "7         Flowmeter      analogue                                    unknown\n",
       "8     Motor_current      analogue                              motor current\n",
       "9              COMP       digital                compressor air intake valve\n",
       "10       DV_eletric       digital                    compressor outlet valve\n",
       "11           Towers       digital                               active tower\n",
       "12              MPG       digital              compressor start intake valve\n",
       "13              LPS       digital                  7-bar threshold indicator\n",
       "14  Pressure_switch       digital                                    unknown\n",
       "15        Oil_level       digital                       compressor oil level\n",
       "16  Caudal_impulses       digital                                    unknown\n",
       "17          gpsLong      gps data                                   logitude\n",
       "18           gpsLat      gps data                                   latitude\n",
       "19         gpsSpeed      gps data                         speed of the train\n",
       "20       gpsQuality      gps data                           gps data quality"
      ]
     },
     "execution_count": 5,
     "metadata": {},
     "output_type": "execute_result"
    }
   ],
   "source": [
    "features_meta_data = pd.read_excel(META_DATA, sheet_name = \"features\")\n",
    "features_meta_data[[\"original_name\", \"variable_type\", \"description_short\"]]"
   ]
  },
  {
   "cell_type": "markdown",
   "id": "44c8caf9-b506-4730-8c15-3c789e7c95cf",
   "metadata": {},
   "source": [
    "### Failures\n",
    "\n",
    "3 catastrophic failures were recorded during the 6 months of monitoring."
   ]
  },
  {
   "cell_type": "code",
   "execution_count": 6,
   "id": "eddea79f-f0d4-4457-9678-9fc3d8760a2a",
   "metadata": {
    "tags": []
   },
   "outputs": [
    {
     "data": {
      "text/html": [
       "<div>\n",
       "<style scoped>\n",
       "    .dataframe tbody tr th:only-of-type {\n",
       "        vertical-align: middle;\n",
       "    }\n",
       "\n",
       "    .dataframe tbody tr th {\n",
       "        vertical-align: top;\n",
       "    }\n",
       "\n",
       "    .dataframe thead th {\n",
       "        text-align: right;\n",
       "    }\n",
       "</style>\n",
       "<table border=\"1\" class=\"dataframe\">\n",
       "  <thead>\n",
       "    <tr style=\"text-align: right;\">\n",
       "      <th></th>\n",
       "      <th>id</th>\n",
       "      <th>failure_type</th>\n",
       "      <th>component</th>\n",
       "      <th>start</th>\n",
       "      <th>end</th>\n",
       "    </tr>\n",
       "  </thead>\n",
       "  <tbody>\n",
       "    <tr>\n",
       "      <th>0</th>\n",
       "      <td>1</td>\n",
       "      <td>Air  Leak</td>\n",
       "      <td>Air Dryer</td>\n",
       "      <td>2022-02-28 21:53:00</td>\n",
       "      <td>2022-03-01 02:00:00</td>\n",
       "    </tr>\n",
       "    <tr>\n",
       "      <th>1</th>\n",
       "      <td>2</td>\n",
       "      <td>Air  Leak</td>\n",
       "      <td>Clients</td>\n",
       "      <td>2022-03-23 14:54:00</td>\n",
       "      <td>2022-03-23 15:24:00</td>\n",
       "    </tr>\n",
       "    <tr>\n",
       "      <th>2</th>\n",
       "      <td>3</td>\n",
       "      <td>Oil  Leak</td>\n",
       "      <td>Compressor</td>\n",
       "      <td>2022-05-30 12:00:00</td>\n",
       "      <td>2022-06-02 06:18:00</td>\n",
       "    </tr>\n",
       "  </tbody>\n",
       "</table>\n",
       "</div>"
      ],
      "text/plain": [
       "   id failure_type   component               start                 end\n",
       "0   1    Air  Leak   Air Dryer 2022-02-28 21:53:00 2022-03-01 02:00:00\n",
       "1   2    Air  Leak     Clients 2022-03-23 14:54:00 2022-03-23 15:24:00\n",
       "2   3    Oil  Leak  Compressor 2022-05-30 12:00:00 2022-06-02 06:18:00"
      ]
     },
     "execution_count": 6,
     "metadata": {},
     "output_type": "execute_result"
    }
   ],
   "source": [
    "reported_failures = pd.read_excel(META_DATA, sheet_name = \"failures\")\n",
    "reported_failures"
   ]
  },
  {
   "cell_type": "markdown",
   "id": "58dcc047-efc8-4a43-93a1-cfd32db5b1d8",
   "metadata": {},
   "source": [
    "## 2. Clean and tidy"
   ]
  },
  {
   "cell_type": "markdown",
   "id": "d4f31cd5-113d-4b01-a948-89314c0360a8",
   "metadata": {},
   "source": [
    "### Read"
   ]
  },
  {
   "cell_type": "code",
   "execution_count": 7,
   "id": "342c1fc5-11d2-442d-b94f-3d801178b62c",
   "metadata": {},
   "outputs": [],
   "source": [
    "metro = pd.read_csv(INPUT_DATA)"
   ]
  },
  {
   "cell_type": "markdown",
   "id": "47d2fa85-a6bc-4050-90e1-78e99f3cb6a1",
   "metadata": {
    "tags": []
   },
   "source": [
    "### Get to know"
   ]
  },
  {
   "cell_type": "code",
   "execution_count": 8,
   "id": "bf44669f-9335-46d9-a641-efc730d0f2eb",
   "metadata": {},
   "outputs": [
    {
     "data": {
      "text/html": [
       "<div>\n",
       "<style scoped>\n",
       "    .dataframe tbody tr th:only-of-type {\n",
       "        vertical-align: middle;\n",
       "    }\n",
       "\n",
       "    .dataframe tbody tr th {\n",
       "        vertical-align: top;\n",
       "    }\n",
       "\n",
       "    .dataframe thead th {\n",
       "        text-align: right;\n",
       "    }\n",
       "</style>\n",
       "<table border=\"1\" class=\"dataframe\">\n",
       "  <thead>\n",
       "    <tr style=\"text-align: right;\">\n",
       "      <th></th>\n",
       "      <th>timestamp</th>\n",
       "      <th>TP2</th>\n",
       "      <th>TP3</th>\n",
       "      <th>H1</th>\n",
       "      <th>DV_pressure</th>\n",
       "      <th>Reservoirs</th>\n",
       "      <th>Oil_temperature</th>\n",
       "      <th>Flowmeter</th>\n",
       "      <th>Motor_current</th>\n",
       "      <th>COMP</th>\n",
       "      <th>...</th>\n",
       "      <th>Towers</th>\n",
       "      <th>MPG</th>\n",
       "      <th>LPS</th>\n",
       "      <th>Pressure_switch</th>\n",
       "      <th>Oil_level</th>\n",
       "      <th>Caudal_impulses</th>\n",
       "      <th>gpsLong</th>\n",
       "      <th>gpsLat</th>\n",
       "      <th>gpsSpeed</th>\n",
       "      <th>gpsQuality</th>\n",
       "    </tr>\n",
       "  </thead>\n",
       "  <tbody>\n",
       "    <tr>\n",
       "      <th>0</th>\n",
       "      <td>2022-01-01 06:00:00</td>\n",
       "      <td>-0.012</td>\n",
       "      <td>9.758</td>\n",
       "      <td>9.76</td>\n",
       "      <td>-0.028</td>\n",
       "      <td>1.576</td>\n",
       "      <td>63.35</td>\n",
       "      <td>19.049625</td>\n",
       "      <td>3.9550</td>\n",
       "      <td>1</td>\n",
       "      <td>...</td>\n",
       "      <td>1</td>\n",
       "      <td>1</td>\n",
       "      <td>0</td>\n",
       "      <td>0</td>\n",
       "      <td>0</td>\n",
       "      <td>0</td>\n",
       "      <td>-8.65934</td>\n",
       "      <td>41.2124</td>\n",
       "      <td>0</td>\n",
       "      <td>1</td>\n",
       "    </tr>\n",
       "    <tr>\n",
       "      <th>1</th>\n",
       "      <td>2022-01-01 06:00:01</td>\n",
       "      <td>-0.012</td>\n",
       "      <td>9.760</td>\n",
       "      <td>9.76</td>\n",
       "      <td>-0.028</td>\n",
       "      <td>1.578</td>\n",
       "      <td>63.25</td>\n",
       "      <td>19.049625</td>\n",
       "      <td>4.0275</td>\n",
       "      <td>1</td>\n",
       "      <td>...</td>\n",
       "      <td>1</td>\n",
       "      <td>1</td>\n",
       "      <td>0</td>\n",
       "      <td>0</td>\n",
       "      <td>0</td>\n",
       "      <td>0</td>\n",
       "      <td>-8.65934</td>\n",
       "      <td>41.2124</td>\n",
       "      <td>0</td>\n",
       "      <td>1</td>\n",
       "    </tr>\n",
       "  </tbody>\n",
       "</table>\n",
       "<p>2 rows × 21 columns</p>\n",
       "</div>"
      ],
      "text/plain": [
       "             timestamp    TP2    TP3    H1  DV_pressure  Reservoirs  \\\n",
       "0  2022-01-01 06:00:00 -0.012  9.758  9.76       -0.028       1.576   \n",
       "1  2022-01-01 06:00:01 -0.012  9.760  9.76       -0.028       1.578   \n",
       "\n",
       "   Oil_temperature  Flowmeter  Motor_current  COMP  ...  Towers  MPG  LPS  \\\n",
       "0            63.35  19.049625         3.9550     1  ...       1    1    0   \n",
       "1            63.25  19.049625         4.0275     1  ...       1    1    0   \n",
       "\n",
       "   Pressure_switch  Oil_level  Caudal_impulses  gpsLong   gpsLat  gpsSpeed  \\\n",
       "0                0          0                0 -8.65934  41.2124         0   \n",
       "1                0          0                0 -8.65934  41.2124         0   \n",
       "\n",
       "   gpsQuality  \n",
       "0           1  \n",
       "1           1  \n",
       "\n",
       "[2 rows x 21 columns]"
      ]
     },
     "execution_count": 8,
     "metadata": {},
     "output_type": "execute_result"
    }
   ],
   "source": [
    "metro.head(2)"
   ]
  },
  {
   "cell_type": "code",
   "execution_count": 9,
   "id": "c0b1de15-2ff4-4742-9ce7-892b71525c1a",
   "metadata": {},
   "outputs": [
    {
     "data": {
      "text/plain": [
       "(10979546, 21)"
      ]
     },
     "execution_count": 9,
     "metadata": {},
     "output_type": "execute_result"
    }
   ],
   "source": [
    "metro.shape"
   ]
  },
  {
   "cell_type": "code",
   "execution_count": 10,
   "id": "6d875033-e699-49d5-a3f9-2f6c06f9ebea",
   "metadata": {},
   "outputs": [
    {
     "data": {
      "text/plain": [
       "Index(['timestamp', 'TP2', 'TP3', 'H1', 'DV_pressure', 'Reservoirs',\n",
       "       'Oil_temperature', 'Flowmeter', 'Motor_current', 'COMP', 'DV_eletric',\n",
       "       'Towers', 'MPG', 'LPS', 'Pressure_switch', 'Oil_level',\n",
       "       'Caudal_impulses', 'gpsLong', 'gpsLat', 'gpsSpeed', 'gpsQuality'],\n",
       "      dtype='object')"
      ]
     },
     "execution_count": 10,
     "metadata": {},
     "output_type": "execute_result"
    }
   ],
   "source": [
    "metro.columns"
   ]
  },
  {
   "cell_type": "code",
   "execution_count": 11,
   "id": "9168169f-3e2c-4803-9114-6e8b338d5ced",
   "metadata": {},
   "outputs": [
    {
     "data": {
      "text/plain": [
       "timestamp           object\n",
       "TP2                float64\n",
       "TP3                float64\n",
       "H1                 float64\n",
       "DV_pressure        float64\n",
       "Reservoirs         float64\n",
       "Oil_temperature    float64\n",
       "Flowmeter          float64\n",
       "Motor_current      float64\n",
       "COMP                 int64\n",
       "DV_eletric           int64\n",
       "Towers               int64\n",
       "MPG                  int64\n",
       "LPS                  int64\n",
       "Pressure_switch      int64\n",
       "Oil_level            int64\n",
       "Caudal_impulses      int64\n",
       "gpsLong            float64\n",
       "gpsLat             float64\n",
       "gpsSpeed             int64\n",
       "gpsQuality           int64\n",
       "dtype: object"
      ]
     },
     "execution_count": 11,
     "metadata": {},
     "output_type": "execute_result"
    }
   ],
   "source": [
    "metro.dtypes"
   ]
  },
  {
   "cell_type": "markdown",
   "id": "0c085e8c-7fa3-4e7e-b314-158f0f4b6aad",
   "metadata": {},
   "source": [
    "### Check for missing values\n",
    "\n",
    "No values are missing."
   ]
  },
  {
   "cell_type": "code",
   "execution_count": 12,
   "id": "a9676545-0a99-4717-a591-c2bac8bb2394",
   "metadata": {},
   "outputs": [
    {
     "data": {
      "text/plain": [
       "timestamp          0\n",
       "TP2                0\n",
       "TP3                0\n",
       "H1                 0\n",
       "DV_pressure        0\n",
       "Reservoirs         0\n",
       "Oil_temperature    0\n",
       "Flowmeter          0\n",
       "Motor_current      0\n",
       "COMP               0\n",
       "DV_eletric         0\n",
       "Towers             0\n",
       "MPG                0\n",
       "LPS                0\n",
       "Pressure_switch    0\n",
       "Oil_level          0\n",
       "Caudal_impulses    0\n",
       "gpsLong            0\n",
       "gpsLat             0\n",
       "gpsSpeed           0\n",
       "gpsQuality         0\n",
       "dtype: int64"
      ]
     },
     "execution_count": 12,
     "metadata": {},
     "output_type": "execute_result"
    }
   ],
   "source": [
    "metro.isna().sum()"
   ]
  },
  {
   "cell_type": "markdown",
   "id": "83633e07-4312-40ff-b184-8ba7db16bd55",
   "metadata": {
    "tags": []
   },
   "source": [
    "### Select columns\n",
    "\n",
    "2 columns are removed because their meaning is unknown."
   ]
  },
  {
   "cell_type": "code",
   "execution_count": 16,
   "id": "2a81aec3-b98b-4b7a-b552-d8d01494b3ac",
   "metadata": {},
   "outputs": [
    {
     "name": "stdout",
     "output_type": "stream",
     "text": [
      "Dropped columns:  ['Pressure_switch', 'Caudal_impulses']\n",
      "Selected columns:  ['timestamp', 'TP2', 'TP3', 'H1', 'DV_pressure', 'Reservoirs', 'Oil_temperature', 'Flowmeter', 'Motor_current', 'COMP', 'DV_eletric', 'Towers', 'MPG', 'LPS', 'Oil_level', 'gpsLong', 'gpsLat', 'gpsSpeed', 'gpsQuality']\n"
     ]
    }
   ],
   "source": [
    "print(\"Dropped columns: \", features_meta_data[features_meta_data.keep == \"no\"].original_name.to_list())\n",
    "print(\"Selected columns: \", features_meta_data[features_meta_data.keep == \"yes\"].original_name.to_list())"
   ]
  },
  {
   "cell_type": "code",
   "execution_count": 14,
   "id": "a0340eda-2ea3-4263-b556-ee77819ef952",
   "metadata": {},
   "outputs": [],
   "source": [
    "columns_to_keep = features_meta_data[features_meta_data.keep == \"yes\"].original_name\n",
    "metro = metro[columns_to_keep]"
   ]
  },
  {
   "cell_type": "markdown",
   "id": "dbbce4b7-476e-4986-8716-34c59086228c",
   "metadata": {
    "tags": []
   },
   "source": [
    "### Rename columns\n",
    "\n",
    "New names for the remaining columns are loaded from the excel meta data file."
   ]
  },
  {
   "cell_type": "code",
   "execution_count": 18,
   "id": "661e5d4c-ce37-4818-96e5-1a4224a357c0",
   "metadata": {},
   "outputs": [
    {
     "data": {
      "text/html": [
       "<div>\n",
       "<style scoped>\n",
       "    .dataframe tbody tr th:only-of-type {\n",
       "        vertical-align: middle;\n",
       "    }\n",
       "\n",
       "    .dataframe tbody tr th {\n",
       "        vertical-align: top;\n",
       "    }\n",
       "\n",
       "    .dataframe thead th {\n",
       "        text-align: right;\n",
       "    }\n",
       "</style>\n",
       "<table border=\"1\" class=\"dataframe\">\n",
       "  <thead>\n",
       "    <tr style=\"text-align: right;\">\n",
       "      <th></th>\n",
       "      <th>original_name</th>\n",
       "      <th>new_name</th>\n",
       "    </tr>\n",
       "  </thead>\n",
       "  <tbody>\n",
       "    <tr>\n",
       "      <th>0</th>\n",
       "      <td>timestamp</td>\n",
       "      <td>timestamp</td>\n",
       "    </tr>\n",
       "    <tr>\n",
       "      <th>1</th>\n",
       "      <td>TP2</td>\n",
       "      <td>compressor_pressure</td>\n",
       "    </tr>\n",
       "    <tr>\n",
       "      <th>2</th>\n",
       "      <td>TP3</td>\n",
       "      <td>pneumatic_pressure</td>\n",
       "    </tr>\n",
       "    <tr>\n",
       "      <th>3</th>\n",
       "      <td>H1</td>\n",
       "      <td>h1_valve</td>\n",
       "    </tr>\n",
       "    <tr>\n",
       "      <th>4</th>\n",
       "      <td>DV_pressure</td>\n",
       "      <td>dv_pressure</td>\n",
       "    </tr>\n",
       "    <tr>\n",
       "      <th>5</th>\n",
       "      <td>Reservoirs</td>\n",
       "      <td>reservoirs</td>\n",
       "    </tr>\n",
       "    <tr>\n",
       "      <th>6</th>\n",
       "      <td>Oil_temperature</td>\n",
       "      <td>oil_temperature</td>\n",
       "    </tr>\n",
       "    <tr>\n",
       "      <th>7</th>\n",
       "      <td>Flowmeter</td>\n",
       "      <td>flow</td>\n",
       "    </tr>\n",
       "    <tr>\n",
       "      <th>8</th>\n",
       "      <td>Motor_current</td>\n",
       "      <td>motor_current</td>\n",
       "    </tr>\n",
       "    <tr>\n",
       "      <th>9</th>\n",
       "      <td>COMP</td>\n",
       "      <td>compressor_intake_valve</td>\n",
       "    </tr>\n",
       "    <tr>\n",
       "      <th>10</th>\n",
       "      <td>DV_eletric</td>\n",
       "      <td>compressor_outlet_valve</td>\n",
       "    </tr>\n",
       "    <tr>\n",
       "      <th>11</th>\n",
       "      <td>Towers</td>\n",
       "      <td>tower</td>\n",
       "    </tr>\n",
       "    <tr>\n",
       "      <th>12</th>\n",
       "      <td>MPG</td>\n",
       "      <td>mpg</td>\n",
       "    </tr>\n",
       "    <tr>\n",
       "      <th>13</th>\n",
       "      <td>LPS</td>\n",
       "      <td>lps</td>\n",
       "    </tr>\n",
       "    <tr>\n",
       "      <th>15</th>\n",
       "      <td>Oil_level</td>\n",
       "      <td>oil_level</td>\n",
       "    </tr>\n",
       "    <tr>\n",
       "      <th>17</th>\n",
       "      <td>gpsLong</td>\n",
       "      <td>lon</td>\n",
       "    </tr>\n",
       "    <tr>\n",
       "      <th>18</th>\n",
       "      <td>gpsLat</td>\n",
       "      <td>lat</td>\n",
       "    </tr>\n",
       "    <tr>\n",
       "      <th>19</th>\n",
       "      <td>gpsSpeed</td>\n",
       "      <td>speed</td>\n",
       "    </tr>\n",
       "    <tr>\n",
       "      <th>20</th>\n",
       "      <td>gpsQuality</td>\n",
       "      <td>quality</td>\n",
       "    </tr>\n",
       "  </tbody>\n",
       "</table>\n",
       "</div>"
      ],
      "text/plain": [
       "      original_name                 new_name\n",
       "0         timestamp                timestamp\n",
       "1               TP2      compressor_pressure\n",
       "2               TP3       pneumatic_pressure\n",
       "3                H1                 h1_valve\n",
       "4       DV_pressure              dv_pressure\n",
       "5        Reservoirs               reservoirs\n",
       "6   Oil_temperature          oil_temperature\n",
       "7         Flowmeter                     flow\n",
       "8     Motor_current            motor_current\n",
       "9              COMP  compressor_intake_valve\n",
       "10       DV_eletric  compressor_outlet_valve\n",
       "11           Towers                    tower\n",
       "12              MPG                      mpg\n",
       "13              LPS                      lps\n",
       "15        Oil_level                oil_level\n",
       "17          gpsLong                      lon\n",
       "18           gpsLat                      lat\n",
       "19         gpsSpeed                    speed\n",
       "20       gpsQuality                  quality"
      ]
     },
     "execution_count": 18,
     "metadata": {},
     "output_type": "execute_result"
    }
   ],
   "source": [
    "features_meta_data[features_meta_data.keep == \"yes\"][[\"original_name\", \"new_name\"]]"
   ]
  },
  {
   "cell_type": "code",
   "execution_count": 19,
   "id": "c2b74e0e-9622-4761-81e4-04404e938557",
   "metadata": {},
   "outputs": [],
   "source": [
    "new_names = features_meta_data[features_meta_data.keep == \"yes\"].new_name\n",
    "new_names.name = \"\"\n",
    "metro.columns = new_names"
   ]
  },
  {
   "cell_type": "markdown",
   "id": "4365e53c-a823-48f9-94ed-d6bae30ea4bb",
   "metadata": {
    "tags": []
   },
   "source": [
    "### Set index"
   ]
  },
  {
   "cell_type": "code",
   "execution_count": 20,
   "id": "f5dec639-4fbb-4d97-aa55-e194ca3883ed",
   "metadata": {},
   "outputs": [],
   "source": [
    "metro.timestamp = pd.to_datetime(metro.timestamp)\n",
    "metro = metro.set_index(\"timestamp\")"
   ]
  },
  {
   "cell_type": "code",
   "execution_count": 22,
   "id": "99bb0b9a-c282-492e-b9da-688c5b38353e",
   "metadata": {},
   "outputs": [
    {
     "name": "stdout",
     "output_type": "stream",
     "text": [
      "Data is recorded in the period: 2022-01-01 06:00:00 to 2022-06-02 15:49:53\n"
     ]
    }
   ],
   "source": [
    "start, end = metro.index[0], metro.index[-1]\n",
    "print(f\"Data is recorded in the period: {start} to {end}\")"
   ]
  },
  {
   "cell_type": "markdown",
   "id": "56f589f1-be22-42bc-b62d-17d4f0947a21",
   "metadata": {},
   "source": [
    "## 3. Explore"
   ]
  },
  {
   "cell_type": "markdown",
   "id": "66103df9-37ad-44ff-a92f-08ea66bd477e",
   "metadata": {
    "tags": []
   },
   "source": [
    "### Create columns groups\n",
    "\n",
    "Divide the columns in groups for easier filtering during EDA:\n",
    "- `analogue_columns` = signal is continuous\n",
    "- `digital_columns` = 1 or 0\n",
    "- `gps_columns` = spatial data"
   ]
  },
  {
   "cell_type": "code",
   "execution_count": 30,
   "id": "62213e4e-9f7d-491d-9f59-b9a5e405b10b",
   "metadata": {},
   "outputs": [
    {
     "name": "stdout",
     "output_type": "stream",
     "text": [
      "Analogue: ['compressor_pressure' 'pneumatic_pressure' 'h1_valve' 'dv_pressure'\n",
      " 'reservoirs' 'oil_temperature' 'flow' 'motor_current']\n",
      "\n",
      "Digital: ['compressor_intake_valve' 'compressor_outlet_valve' 'tower' 'mpg' 'lps'\n",
      " 'oil_level']\n",
      "\n",
      "GPS: ['lon' 'lat' 'speed' 'quality']\n",
      "\n",
      "Non-GPS: ['compressor_pressure' 'pneumatic_pressure' 'h1_valve' 'dv_pressure'\n",
      " 'reservoirs' 'oil_temperature' 'flow' 'motor_current'\n",
      " 'compressor_intake_valve' 'compressor_outlet_valve' 'tower' 'mpg' 'lps'\n",
      " 'oil_level']\n",
      "\n"
     ]
    }
   ],
   "source": [
    "used_columns = features_meta_data[features_meta_data.keep == \"yes\"]\n",
    "columns_by_type = used_columns.groupby(\"variable_type\")\n",
    "\n",
    "analogue_columns = columns_by_type.get_group(\"analogue\").new_name\n",
    "digital_columns = columns_by_type.get_group(\"digital\").new_name\n",
    "gps_columns = columns_by_type.get_group(\"gps data\").new_name\n",
    "non_gps_columns = pd.concat([analogue_columns, digital_columns])\n",
    "\n",
    "names = [\"Analogue\", \"Digital\", \"GPS\", \"Non-GPS\"]\n",
    "groups = [analogue_columns, digital_columns, gps_columns, non_gps_columns]\n",
    "for name, group in zip(names, groups):\n",
    "    print(f\"{name}: {group.values}\\n\")"
   ]
  },
  {
   "cell_type": "markdown",
   "id": "1a28ee84-25da-4f29-96b6-bb89da9d7cc3",
   "metadata": {
    "tags": []
   },
   "source": [
    "### Time series"
   ]
  },
  {
   "cell_type": "markdown",
   "id": "b278db32-2956-486c-8d87-d4d806e6e513",
   "metadata": {
    "tags": []
   },
   "source": [
    "#### Single day"
   ]
  },
  {
   "cell_type": "code",
   "execution_count": null,
   "id": "15230a13-87a5-482e-9328-2483c1adfcaf",
   "metadata": {},
   "outputs": [],
   "source": []
  },
  {
   "cell_type": "code",
   "execution_count": 19,
   "id": "51c92449-6bcf-4a1f-9841-6889c5617ed4",
   "metadata": {},
   "outputs": [],
   "source": [
    "def plot_multiple_columns(df, columns, title=\"\"):\n",
    "    n_plots = len(columns)\n",
    "    fig, axs = plt.subplots(n_plots, figsize = (12, 3 * n_plots), sharex=True)\n",
    "    for i, col in enumerate(cols):\n",
    "        axs[i].plot(df[col])\n",
    "        axs[i].set_ylabel(col)\n",
    "        axs[i].set_title(col)\n",
    "    axs[-1].set_xlabel(\"Time\")\n",
    "    fig.suptitle(title)\n",
    "    fig.tight_layout()\n",
    "    plt.show()"
   ]
  },
  {
   "cell_type": "code",
   "execution_count": 20,
   "id": "b3e7a5d5-8f83-4da7-973b-3880a8742eee",
   "metadata": {},
   "outputs": [
    {
     "data": {
      "image/png": "[encoded data removed]",
      "text/plain": [
       "<Figure size 864x1728 with 8 Axes>"
      ]
     },
     "metadata": {
      "needs_background": "light"
     },
     "output_type": "display_data"
    }
   ],
   "source": [
    "single_day = \"('2022-01-10 08:00' < timestamp) & (timestamp < '2022-01-10 23:00')\"\n",
    "plot_multiple_columns(metro.query(single_day), analogue_columns)"
   ]
  },
  {
   "cell_type": "markdown",
   "id": "2cc289e2-512b-4148-9b3b-5d758aad7119",
   "metadata": {
    "tags": []
   },
   "source": [
    "#### Single day morning"
   ]
  },
  {
   "cell_type": "code",
   "execution_count": 21,
   "id": "e47fc129-ce08-4034-bd17-cc9b5e5273de",
   "metadata": {},
   "outputs": [
    {
     "ename": "NameError",
     "evalue": "name 'metro_smooth_analogue' is not defined",
     "output_type": "error",
     "traceback": [
      "\u001b[1;31m---------------------------------------------------------------------------\u001b[0m",
      "\u001b[1;31mNameError\u001b[0m                                 Traceback (most recent call last)",
      "Input \u001b[1;32mIn [21]\u001b[0m, in \u001b[0;36m<cell line: 2>\u001b[1;34m()\u001b[0m\n\u001b[0;32m      1\u001b[0m morning \u001b[38;5;241m=\u001b[39m \u001b[38;5;124m\"\u001b[39m\u001b[38;5;124m(\u001b[39m\u001b[38;5;124m'\u001b[39m\u001b[38;5;124m2022-01-10 08:00\u001b[39m\u001b[38;5;124m'\u001b[39m\u001b[38;5;124m < timestamp) & (timestamp < \u001b[39m\u001b[38;5;124m'\u001b[39m\u001b[38;5;124m2022-01-10 10:00\u001b[39m\u001b[38;5;124m'\u001b[39m\u001b[38;5;124m)\u001b[39m\u001b[38;5;124m\"\u001b[39m\n\u001b[1;32m----> 2\u001b[0m plot_multiple_columns(\u001b[43mmetro_smooth_analogue\u001b[49m\u001b[38;5;241m.\u001b[39mquery(morning), analogue_columns)\n",
      "\u001b[1;31mNameError\u001b[0m: name 'metro_smooth_analogue' is not defined"
     ]
    }
   ],
   "source": [
    "morning = \"('2022-01-10 08:00' < timestamp) & (timestamp < '2022-01-10 10:00')\"\n",
    "plot_multiple_columns(metro_smooth_analogue.query(morning), analogue_columns)"
   ]
  },
  {
   "cell_type": "code",
   "execution_count": null,
   "id": "b9100fa0-ae78-40f9-932e-9237d01f9d59",
   "metadata": {},
   "outputs": [],
   "source": [
    "morning = \"('2022-01-10 08:00' < timestamp) & (timestamp < '2022-01-10 10:00')\"\n",
    "plot_multiple_columns(metro.query(morning), analogue_columns)"
   ]
  },
  {
   "cell_type": "markdown",
   "id": "198ddecc-20db-4264-915b-478661e532e3",
   "metadata": {
    "tags": []
   },
   "source": [
    "#### First failure"
   ]
  },
  {
   "cell_type": "code",
   "execution_count": null,
   "id": "50069939-689e-4ec9-8876-ebab369c1df2",
   "metadata": {},
   "outputs": [],
   "source": [
    "# Info\n",
    "reported_failures[reported_failures.id == 1]"
   ]
  },
  {
   "cell_type": "code",
   "execution_count": null,
   "id": "b9d38566-b7b5-41f7-aa5c-8d03841660dd",
   "metadata": {
    "tags": []
   },
   "outputs": [],
   "source": [
    "failure_interval = \"('2022-02-28 21:00' <= timestamp) & (timestamp <= '2022-03-01 03:00')\"\n",
    "first_failure = metro.query(failure_interval)\n",
    "\n",
    "plot_multiple_columns(first_failure, analogue_columns)"
   ]
  },
  {
   "cell_type": "markdown",
   "id": "d31a98e0-d767-4fdb-9a2e-78859e301384",
   "metadata": {
    "tags": []
   },
   "source": [
    "#### Second failure"
   ]
  },
  {
   "cell_type": "code",
   "execution_count": null,
   "id": "88c05d50-969c-4289-837e-d234fda0b171",
   "metadata": {},
   "outputs": [],
   "source": [
    "# Info\n",
    "reported_failures[reported_failures.id == 2]"
   ]
  },
  {
   "cell_type": "code",
   "execution_count": null,
   "id": "7c2f7c05-cc3e-48bd-a045-587f402b6814",
   "metadata": {
    "tags": []
   },
   "outputs": [],
   "source": [
    "failure_interval = \"('2022-03-23 14:00' <= timestamp) & (timestamp <= '2022-03-23 16:00')\"\n",
    "second_failure = metro.query(failure_interval)\n",
    "\n",
    "plot_multiple_columns(second_failure, analogue_columns)"
   ]
  },
  {
   "cell_type": "markdown",
   "id": "aa97db80-bc46-4402-8aed-abeb6e8702f1",
   "metadata": {
    "tags": []
   },
   "source": [
    "#### Third failure"
   ]
  },
  {
   "cell_type": "code",
   "execution_count": null,
   "id": "73ac9def-7b86-48e6-8661-5f1515f83d58",
   "metadata": {},
   "outputs": [],
   "source": [
    "# Info\n",
    "reported_failures[reported_failures.id == 3]"
   ]
  },
  {
   "cell_type": "code",
   "execution_count": null,
   "id": "92426bd1-d745-4b10-9613-ec0c92262d2e",
   "metadata": {
    "tags": []
   },
   "outputs": [],
   "source": [
    "failure_interval = \"('2022-05-30 11:00' <= timestamp) & (timestamp <= '2022-06-02 07:00')\"\n",
    "third_failure = metro.query(failure_interval)\n",
    "\n",
    "plot_multiple_columns(third_failure, analogue_columns)"
   ]
  },
  {
   "cell_type": "code",
   "execution_count": null,
   "id": "9da84113-2490-4d52-9479-4a61cf658f2d",
   "metadata": {
    "tags": []
   },
   "outputs": [],
   "source": [
    "failure_interval = \"('2022-06-02 01:00' <= timestamp) & (timestamp <= '2022-06-02 07:00')\"\n",
    "third_failure_2 = metro.query(failure_interval)\n",
    "\n",
    "plot_multiple_columns(third_failure_2, analogue_columns)"
   ]
  },
  {
   "cell_type": "markdown",
   "id": "b96e4793-29d0-4101-aa19-a51d117517a6",
   "metadata": {},
   "source": [
    "### Geographic data"
   ]
  },
  {
   "cell_type": "markdown",
   "id": "794704f3-0ec6-4b44-a855-d307a6982b5c",
   "metadata": {
    "tags": []
   },
   "source": [
    "#### Train speed"
   ]
  },
  {
   "cell_type": "code",
   "execution_count": null,
   "id": "2f7bb3a0-441d-4ddb-bffb-18da5019c97a",
   "metadata": {},
   "outputs": [],
   "source": [
    "metro[gps_columns].head(2)"
   ]
  },
  {
   "cell_type": "code",
   "execution_count": null,
   "id": "55e4a27c-6b1b-4876-856f-418d7c8b3e73",
   "metadata": {},
   "outputs": [],
   "source": [
    "start = \"2022-01-10 08:00\"\n",
    "end = \"2022-01-10 12:00\"\n",
    "query = f\"('{start}' <= timestamp) & (timestamp <= '{end}') & (quality == 1)\"\n",
    "gps_data = metro[gps_columns].query(query)"
   ]
  },
  {
   "cell_type": "code",
   "execution_count": null,
   "id": "a7a758a8-ad04-49ea-aee2-665e770f7a3b",
   "metadata": {},
   "outputs": [],
   "source": [
    "# fig = px.scatter_mapbox(\n",
    "#     gps_data, \n",
    "#     lat=\"lat\", \n",
    "#     lon=\"lon\", \n",
    "#     color = \"speed\", \n",
    "#     # zoom=10, \n",
    "#     title=f\"Metro route and speed from {start} to {end}\",\n",
    "# )\n",
    "\n",
    "# fig.update_layout(mapbox_style=\"carto-positron\")\n",
    "# fig.update_layout(margin={\"r\":0,\"t\":50,\"l\":0,\"b\":0})\n",
    "# fig.show()"
   ]
  },
  {
   "cell_type": "markdown",
   "id": "2264de06-a3cd-4dd4-b47e-79d7befadcf3",
   "metadata": {
    "tags": []
   },
   "source": [
    "#### Stations"
   ]
  },
  {
   "cell_type": "code",
   "execution_count": null,
   "id": "1c24d844-003d-4676-afb2-9748988c5b7b",
   "metadata": {},
   "outputs": [],
   "source": [
    "stations = pd.read_excel(META_DATA, sheet_name = \"stations\")\n",
    "stations"
   ]
  },
  {
   "cell_type": "markdown",
   "id": "637f7bd6-c60e-4e58-8a4f-7dbfe986d1ec",
   "metadata": {
    "tags": []
   },
   "source": [
    "#### Train speed and stations\n",
    "\n",
    "Observations:\n",
    "- Low train speed indicates a station. The stations match with the indication."
   ]
  },
  {
   "cell_type": "code",
   "execution_count": null,
   "id": "88c6bbe2-a5b9-4a0f-8f35-2cd6f9e45cd2",
   "metadata": {},
   "outputs": [],
   "source": [
    "# fig = go.Figure()\n",
    "\n",
    "# fig.add_trace(\n",
    "#     go.Scattermapbox(\n",
    "#         lat=gps_data.lat,\n",
    "#         lon=gps_data.lon,\n",
    "#         marker = go.scattermapbox.Marker(color = gps_data.speed),\n",
    "#         name = \"Train speed\",\n",
    "#     )\n",
    "# )\n",
    "\n",
    "# fig.add_trace(\n",
    "#     go.Scattermapbox(\n",
    "#         lat=stations.lat,\n",
    "#         lon=stations.lon,\n",
    "#         mode='markers',\n",
    "#         marker=go.scattermapbox.Marker(\n",
    "#             size=16,\n",
    "#             color='green',\n",
    "#             opacity=0.6,\n",
    "#             ),\n",
    "#         text=stations.station,\n",
    "#         name = \"Stations\",\n",
    "#     )\n",
    "# )\n",
    "\n",
    "# fig.update_layout(\n",
    "#     mapbox_style=\"carto-positron\",\n",
    "#     margin={\"r\":0,\"t\":30,\"l\":0,\"b\":0},\n",
    "#     title=\"Train speed and stations\",\n",
    "# )\n",
    "# fig.show()"
   ]
  },
  {
   "cell_type": "markdown",
   "id": "702824f4-4bef-4325-9d69-391ee4bfdbbb",
   "metadata": {},
   "source": [
    "#### Failure locations"
   ]
  },
  {
   "cell_type": "markdown",
   "id": "8ec0d7ce-8516-4001-8dcb-2a0ddd5004ac",
   "metadata": {},
   "source": [
    "Select narrower failure intervals based on the abnormalities in sensor readings observed in above analyses.\n",
    "\n",
    "Also filter out the invalid gps readings (`[metro.quality == 1]`).\n",
    "\n",
    "The third failure is omitted since:\n",
    "- there is no valid GPS data in the failure period\n",
    "- the time of occurrence can't be determined as the reported duration is much longer than the other two (2 days vs 1-2 hours)"
   ]
  },
  {
   "cell_type": "code",
   "execution_count": null,
   "id": "d6d91ca3-a03b-448c-b068-6f3c7668fe36",
   "metadata": {},
   "outputs": [],
   "source": [
    "interval = \"('2022-02-28 22:00' <= timestamp) & (timestamp <= '2022-03-01 01:00')\"\n",
    "first_breakdown = metro[metro.quality == 1].query(interval)\n",
    "\n",
    "interval = \"('2022-03-23 14:54' <= timestamp) & (timestamp <= '2022-03-23 15:24')\"\n",
    "second_breakdown = metro[metro.quality == 1].query(interval)\n",
    "\n",
    "for breakdown in [first_breakdown, second_breakdown]:\n",
    "    print(breakdown.shape)"
   ]
  },
  {
   "cell_type": "code",
   "execution_count": null,
   "id": "a4e2b18f-bca7-411c-a6e1-cf501090428f",
   "metadata": {},
   "outputs": [],
   "source": [
    "# fig = go.Figure()\n",
    "\n",
    "# # Failures\n",
    "# for breakdown, label in zip([first_breakdown, second_breakdown], ['First failure', 'Second failure']):\n",
    "#     fig.add_trace(\n",
    "#         go.Scattermapbox(\n",
    "#             lat=breakdown.lat,\n",
    "#             lon=breakdown.lon,\n",
    "#             opacity=0.5,\n",
    "#             marker={\"size\": 5,},\n",
    "#             name=label,\n",
    "#         )\n",
    "#     )\n",
    "\n",
    "# # Stations\n",
    "# fig.add_trace(\n",
    "#     go.Scattermapbox(\n",
    "#         lat=stations.lat,\n",
    "#         lon=stations.lon,\n",
    "#         marker={\n",
    "#             \"size\": 15,\n",
    "#         },\n",
    "#         text = stations.station,\n",
    "#         name = \"Stations\"\n",
    "#     )\n",
    "# )\n",
    "\n",
    "# fig.update_layout(\n",
    "#     mapbox_style=\"carto-positron\",\n",
    "#     margin={\"r\":0,\"t\":30,\"l\":0,\"b\":0},\n",
    "#     title=\"Failure and station locations\"\n",
    "# )\n",
    "# fig.show()"
   ]
  },
  {
   "cell_type": "markdown",
   "id": "24aa81b6-fafa-4c81-8ba8-31a8f64d95b9",
   "metadata": {},
   "source": [
    "#### GPS data quality"
   ]
  },
  {
   "cell_type": "code",
   "execution_count": null,
   "id": "5bcd1587-b938-4746-b6b9-0a10de744692",
   "metadata": {},
   "outputs": [],
   "source": [
    "interval = \"('2022-02-10 01:00' <= timestamp) & (timestamp <= '2022-06-02 06:00')\"\n",
    "quality_third_failure = metro.query(interval).quality"
   ]
  },
  {
   "cell_type": "code",
   "execution_count": null,
   "id": "99b39a30-11e4-445d-b86d-8c46e8df5fed",
   "metadata": {},
   "outputs": [],
   "source": [
    "plt.plot(quality_third_failure)\n",
    "plt.show()\n",
    "\n",
    "# TODO: threshold by frequency to remove noise"
   ]
  },
  {
   "cell_type": "markdown",
   "id": "80c315a8-d4e9-49bf-a526-c4d5405bf34b",
   "metadata": {},
   "source": [
    "### Signal peaks "
   ]
  },
  {
   "cell_type": "markdown",
   "id": "ca5ef09f-2f62-4817-83e6-b1c2f29dedaf",
   "metadata": {},
   "source": [
    "#### One variable\n",
    "\n",
    "Steps:\n",
    "1. Filter data for a short period and with proper GPS quality.\n",
    "2. Select one analogue sensor signal. Find its peaks.\n",
    "3. Plot to validate result.\n",
    "\n",
    "`compressor_pressure` is chosen as signal because its shape seems suitable."
   ]
  },
  {
   "cell_type": "code",
   "execution_count": null,
   "id": "d7e64905-78c2-4f51-86c0-83add549251c",
   "metadata": {
    "tags": []
   },
   "outputs": [],
   "source": [
    "start = \"2022-01-10 08:00\"\n",
    "end = \"2022-01-10 12:00\"\n",
    "one_hour = f\"('{start}' <= timestamp) & (timestamp <= '{end}') & (quality == 1)\"\n",
    "metro_one_hour = metro.query(one_hour)"
   ]
  },
  {
   "cell_type": "code",
   "execution_count": null,
   "id": "9762ee43-0b41-4f09-9742-e2f1cf8ea788",
   "metadata": {},
   "outputs": [],
   "source": [
    "signal = metro_one_hour.compressor_pressure\n",
    "peak_indeces, _ = find_peaks(signal, height=10, distance=300)\n",
    "peaks = signal.iloc[peak_indeces].copy()"
   ]
  },
  {
   "cell_type": "code",
   "execution_count": null,
   "id": "5dfa6239-2bb1-4a7f-b987-47be48539d4d",
   "metadata": {},
   "outputs": [],
   "source": [
    "print(f\"Peaks count: {len(peaks)}\")\n",
    "\n",
    "plt.figure(figsize = (12, 4))\n",
    "plt.plot(signal)\n",
    "plt.plot(peaks, \"rx\")\n",
    "plt.show()"
   ]
  },
  {
   "cell_type": "code",
   "execution_count": null,
   "id": "ff3948e3-5ece-44f1-b84a-4ad417ec35fb",
   "metadata": {},
   "outputs": [],
   "source": [
    "# fig1 = px.line(signal)\n",
    "# fig2 = px.scatter(peaks, color_discrete_sequence=['#ff7f0e'])\n",
    "# fig3 = go.Figure(data=fig1.data + fig2.data)\n",
    "# fig3.show()"
   ]
  },
  {
   "cell_type": "markdown",
   "id": "a7d4f776-d8b6-4634-b667-fb0f7c63545c",
   "metadata": {},
   "source": [
    "### Compare peeks to stations"
   ]
  },
  {
   "cell_type": "code",
   "execution_count": null,
   "id": "f83f9c07-3202-40a8-9544-f80fa0e96efc",
   "metadata": {},
   "outputs": [],
   "source": [
    "peaks_gps_data = metro_one_hour[metro_one_hour.index.isin(peaks.index)][[\"lon\", \"lat\"]]\n",
    "\n",
    "stations_and_peaks = pd.concat([stations, peaks_gps_data], keys=[\"station\", \"peak\"])\n",
    "stations_and_peaks = stations_and_peaks.reset_index()\n",
    "stations_and_peaks = stations_and_peaks.drop(columns=[\"level_1\"])\n",
    "stations_and_peaks = stations_and_peaks.rename(columns={\"level_0\": \"location_type\"})\n",
    "\n",
    "stations_and_peaks"
   ]
  },
  {
   "cell_type": "code",
   "execution_count": null,
   "id": "9c20c30b-5eed-49ba-bee1-80040a93ca1c",
   "metadata": {},
   "outputs": [],
   "source": [
    "# fig = px.scatter_mapbox(\n",
    "#     data_frame = stations_and_peaks,\n",
    "#     lat=\"lat\",\n",
    "#     lon=\"lon\",\n",
    "#     color=\"location_type\",\n",
    "# )\n",
    "\n",
    "# fig.update_layout(\n",
    "#     mapbox_style=\"carto-positron\",\n",
    "#     margin={\"r\":0,\"t\":30,\"l\":0,\"b\":0},\n",
    "#     title=\"Peeks and stations\"\n",
    "# )\n",
    "# fig.show()"
   ]
  },
  {
   "cell_type": "code",
   "execution_count": null,
   "id": "090e0de8-73e0-4614-8c6d-f90f7779249c",
   "metadata": {
    "jupyter": {
     "source_hidden": true
    },
    "tags": []
   },
   "outputs": [],
   "source": [
    "# fig = go.Figure()\n",
    "\n",
    "# # Sensor peaks\n",
    "# fig.add_trace(\n",
    "#     go.Scattermapbox(\n",
    "#         lat=peaks_gps_data.lat,\n",
    "#         lon=peaks_gps_data.lon,\n",
    "#         name = \"Compressor pressure peaks\",\n",
    "#     )\n",
    "# )\n",
    "\n",
    "# # Stations\n",
    "# fig.add_trace(\n",
    "#     go.Scattermapbox(\n",
    "#         lat=stations.lat,\n",
    "#         lon=stations.lon,\n",
    "#         mode=\"markers\",\n",
    "#         marker={\n",
    "#             \"size\": 15,\n",
    "#         },\n",
    "#         text = stations.station,\n",
    "#         name = \"Stations\"\n",
    "#     )  \n",
    "# )\n",
    "\n",
    "# fig.update_layout(\n",
    "#     mapbox_style=\"carto-positron\",\n",
    "#     margin={\"r\":0,\"t\":30,\"l\":0,\"b\":0},\n",
    "#     title=\"Failure and station locations\"\n",
    "# )\n",
    "# fig.show()"
   ]
  },
  {
   "cell_type": "markdown",
   "id": "a5504b20-c20f-444b-9578-4b86cef49218",
   "metadata": {
    "tags": []
   },
   "source": [
    "### Plot widths\n",
    "`peak_widths` returns a `tuple(width, y, x_start, x_end)`"
   ]
  },
  {
   "cell_type": "code",
   "execution_count": null,
   "id": "c7b7612a-fcb3-47ef-a3af-e82f256a6962",
   "metadata": {},
   "outputs": [],
   "source": [
    "widths = peak_widths(x, peaks, rel_height=0.95)\n",
    "widths "
   ]
  },
  {
   "cell_type": "code",
   "execution_count": null,
   "id": "5d58835c-5187-41b7-aa5f-292bb9936f5b",
   "metadata": {},
   "outputs": [],
   "source": [
    "plt.plot(x)\n",
    "plt.plot(peaks, x[peaks], \"x\")\n",
    "plt.hlines(y = widths[1], xmin = widths[2], xmax = widths[3], color=\"red\")\n",
    "plt.xlim((1000, 1500))\n",
    "plt.show()"
   ]
  },
  {
   "cell_type": "code",
   "execution_count": null,
   "id": "f8ed8c28-7ddb-4a04-ab3d-176d50d6724e",
   "metadata": {},
   "outputs": [],
   "source": [
    "fig1 = px.line(x)\n",
    "fig2 = px.scatter(x = peaks, y = x[peaks], color_discrete_sequence=['#ff7f0e'])\n",
    "fig3 = go.Figure(data=fig1.data + fig2.data)\n",
    "fig3.show()"
   ]
  },
  {
   "cell_type": "code",
   "execution_count": null,
   "id": "9a424020-6d31-49a1-b11b-6f0f71a9ab9f",
   "metadata": {},
   "outputs": [],
   "source": [
    "plt.plot(metro.Reservoirs)\n",
    "plt.show()"
   ]
  },
  {
   "cell_type": "markdown",
   "id": "b2f9a149-a091-40ba-bfc1-cd0bfdafe9a3",
   "metadata": {},
   "source": [
    "### Smoothing"
   ]
  },
  {
   "cell_type": "code",
   "execution_count": null,
   "id": "29a54e9a-d7bb-42c8-a8ef-5cb561d0d6e4",
   "metadata": {},
   "outputs": [],
   "source": [
    "first_failure"
   ]
  },
  {
   "cell_type": "code",
   "execution_count": null,
   "id": "5609a6ec-f2c9-4919-9fc0-95408c68a6e3",
   "metadata": {},
   "outputs": [],
   "source": [
    "first_failure.compressor_pressure.ewm(span = 60).mean()"
   ]
  },
  {
   "cell_type": "code",
   "execution_count": null,
   "id": "b94de2be-d82c-4219-93eb-8764f0cb77c7",
   "metadata": {},
   "outputs": [],
   "source": [
    "plt.plot(first_failure.compressor_pressure)\n",
    "plt.plot(first_failure.compressor_pressure.ewm(span = 60).mean())\n",
    "plt.show()"
   ]
  },
  {
   "cell_type": "markdown",
   "id": "4290db26-a73f-4e15-bd8e-b42d11e5205f",
   "metadata": {},
   "source": [
    "## Future work\n",
    "\n",
    "The authors themselves ([paper](https://arxiv.org/pdf/2207.05466)) identify two primary purposes of the dataset:\n",
    "1) Predicting failures (the start and the duration). Goal: minimize the number of false positives and false negatives. Requirement by the metro company: detect the failure at least two hours before the train becomes non-operational.\n",
    "2) Identifying the components involved in the failure.\n",
    "\n",
    "\n",
    "Ideas how to continue the analysis:\n",
    "- Create a new column with the type of the location: \"during traveling\" or when \"at station\". Do this by checking if a set of coordinates is inside the station vicinity (e.g. a circle with specific radius).\n",
    "- Compare data for the same location (e.g. station) but in different days.\n",
    "- Smooth the data.\n",
    "- Model the data (and make predictions?)."
   ]
  },
  {
   "cell_type": "code",
   "execution_count": null,
   "id": "a8c12a33-2b7a-4b37-9b0a-99372b492ed9",
   "metadata": {},
   "outputs": [],
   "source": []
  }
 ],
 "metadata": {
  "kernelspec": {
   "display_name": "Python 3 (ipykernel)",
   "language": "python",
   "name": "python3"
  },
  "language_info": {
   "codemirror_mode": {
    "name": "ipython",
    "version": 3
   },
   "file_extension": ".py",
   "mimetype": "text/x-python",
   "name": "python",
   "nbconvert_exporter": "python",
   "pygments_lexer": "ipython3",
   "version": "3.8.13"
  }
 },
 "nbformat": 4,
 "nbformat_minor": 5
}
