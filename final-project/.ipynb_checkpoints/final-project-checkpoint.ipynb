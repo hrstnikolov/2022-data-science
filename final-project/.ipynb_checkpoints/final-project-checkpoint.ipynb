{
 "cells": [
  {
   "cell_type": "code",
   "execution_count": 1,
   "id": "ce277547-51ba-4e4a-86fb-33a6210fdf22",
   "metadata": {
    "tags": []
   },
   "outputs": [],
   "source": [
    "%matplotlib inline"
   ]
  },
  {
   "cell_type": "code",
   "execution_count": 2,
   "id": "b3f86810-5c36-4a18-aee0-0e5de460edc7",
   "metadata": {},
   "outputs": [],
   "source": [
    "import numpy as np\n",
    "import pandas as pd\n",
    "import matplotlib.pyplot as plt\n",
    "from matplotlib import ticker\n",
    "\n",
    "from sklearn.linear_model import LogisticRegression\n",
    "from sklearn.preprocessing import MinMaxScaler\n",
    "from sklearn.model_selection import train_test_split\n",
    "from sklearn.decomposition import PCA\n",
    "\n",
    "import skimage\n",
    "\n",
    "import scipy.stats as st\n",
    "from scipy.signal import find_peaks, peak_widths\n",
    "\n",
    "import plotly.express as px\n",
    "import plotly.graph_objects as go\n",
    "from plotly.subplots import make_subplots\n",
    "\n",
    "from statsmodels.graphics.mosaicplot import mosaic"
   ]
  },
  {
   "cell_type": "code",
   "execution_count": 14,
   "id": "7440b719-629e-4256-8c66-e0e283bc85e9",
   "metadata": {},
   "outputs": [],
   "source": [
    "RANDOM_STATE = 26\n",
    "\n",
    "INPUT_DATA_MACHINE = \"data/ai4i2020.csv\"\n",
    "META_DATA_MACHINE = \"data/machine_meta_data.xlsx\"\n",
    "\n",
    "INPUT_DATA_METRO = r\"../../data/dataset_train.csv\"\n",
    "META_DATA_METRO = \"data/metro_meta_data.xlsx\""
   ]
  },
  {
   "cell_type": "markdown",
   "id": "8c019d43-87c9-4aac-af29-c2fe4c79c3a9",
   "metadata": {
    "tags": []
   },
   "source": [
    "# Predictive Maintenance"
   ]
  },
  {
   "cell_type": "markdown",
   "id": "8551f9cd-34c8-42af-b8de-739dc1ab65c3",
   "metadata": {},
   "source": [
    "## Abstract\n",
    "TODO"
   ]
  },
  {
   "cell_type": "markdown",
   "id": "0c73b4f4-032b-48a0-990a-b8d53cab132f",
   "metadata": {},
   "source": [
    "## Introduction"
   ]
  },
  {
   "cell_type": "markdown",
   "id": "a3d013c8-c918-4918-b548-70e480ee5462",
   "metadata": {},
   "source": [
    "### Overview\n",
    "\n",
    "Machines and equipment must be periodically inspected and serviced. Parts are replaced and consumables are replenished. One strategy is to repair the equipment only after a break down occurs; this is called **corrective / reactive maintenance**. If, on the other hand, this maintenance is done in a scheduled points in time (say every month) we call it **preventive / scheduled maintenance**.\n",
    "\n",
    "Both strategies have drawbacks (e.g. over-maintenance: equipment gets maintained whether it needs it or not). A more scientific alternative is to determine the condition of the machine and forecast the time left till the next failure; this is called **predictive maintenance**. Good definition is also [this one](https://www.pwc.de/de/digitale-transformation/digital-factories-2020-shaping-the-future-of-manufacturing.pdf):\n",
    "> Remote monitoring of dynamic condition of machines with help of sensor data and big data analytics to predict maintenance and repair situations. This helps to increase resource  availability and optimize maintenance efforts."
   ]
  },
  {
   "cell_type": "markdown",
   "id": "6a8938b4-c86b-43b4-99f7-3e1352f9d6cc",
   "metadata": {},
   "source": [
    "### Meta Data\n",
    "\n",
    "Meta data (e.g. columns descriptions) is prepared and stored in an external excel file."
   ]
  },
  {
   "cell_type": "markdown",
   "id": "00c79a3f-cee3-4068-bf5c-8ed63fe97f99",
   "metadata": {},
   "source": [
    "### Datasets\n",
    "\n",
    "We will be using two datasets. The first one deals with a machine that produces parts. The second one is regarding the metro train system in Porto, Portugal. "
   ]
  },
  {
   "cell_type": "markdown",
   "id": "af753c34-dffe-4412-8c5f-303af1214bd1",
   "metadata": {
    "tags": []
   },
   "source": [
    "## Case 1: Machine maintenance\n",
    "\n",
    "### Data\n",
    "\n",
    "#### Description\n",
    "\n",
    "The first data set contains data from a parts-machining process. It is one of the few suitable datasets on the topic that I have managed to find. The data is not measured from an actual process, it was artificially generated using a set of rules. Here are the [description](https://archive.ics.uci.edu/ml/datasets/AI4I+2020+Predictive+Maintenance+Dataset), [paper](https://ieeexplore.ieee.org/document/9253083), and [data](https://archive.ics.uci.edu/ml/machine-learning-databases/00601/ai4i2020.csv)."
   ]
  },
  {
   "cell_type": "markdown",
   "id": "b3d11d69-ec6e-4e94-b24c-783cd65969d6",
   "metadata": {
    "tags": []
   },
   "source": [
    "#### Columns\n",
    "\n",
    "The original columns are read from the excel meta data file. A `group` column is used for easier filtering later. Full description of the variables and how they are generated is in the data description (see link above)."
   ]
  },
  {
   "cell_type": "code",
   "execution_count": 4,
   "id": "30bc874f-2f03-47ca-b6f0-da057abd977f",
   "metadata": {},
   "outputs": [],
   "source": [
    "machine_meta = pd.read_excel(META_DATA_MACHINE, sheet_name = \"features\")"
   ]
  },
  {
   "cell_type": "code",
   "execution_count": 6,
   "id": "54aeafbc-110f-46a3-a408-f71b671f8427",
   "metadata": {},
   "outputs": [
    {
     "data": {
      "text/html": [
       "<div>\n",
       "<style scoped>\n",
       "    .dataframe tbody tr th:only-of-type {\n",
       "        vertical-align: middle;\n",
       "    }\n",
       "\n",
       "    .dataframe tbody tr th {\n",
       "        vertical-align: top;\n",
       "    }\n",
       "\n",
       "    .dataframe thead th {\n",
       "        text-align: right;\n",
       "    }\n",
       "</style>\n",
       "<table border=\"1\" class=\"dataframe\">\n",
       "  <thead>\n",
       "    <tr style=\"text-align: right;\">\n",
       "      <th></th>\n",
       "      <th>original_name</th>\n",
       "      <th>group</th>\n",
       "      <th>description_short</th>\n",
       "    </tr>\n",
       "  </thead>\n",
       "  <tbody>\n",
       "    <tr>\n",
       "      <th>0</th>\n",
       "      <td>UDI</td>\n",
       "      <td>na</td>\n",
       "      <td>observation identifier</td>\n",
       "    </tr>\n",
       "    <tr>\n",
       "      <th>1</th>\n",
       "      <td>Product ID</td>\n",
       "      <td>product</td>\n",
       "      <td>product numberc (type + unique serial number)</td>\n",
       "    </tr>\n",
       "    <tr>\n",
       "      <th>2</th>\n",
       "      <td>Type</td>\n",
       "      <td>product</td>\n",
       "      <td>product type (H, M, L)</td>\n",
       "    </tr>\n",
       "    <tr>\n",
       "      <th>3</th>\n",
       "      <td>Air temperature [K]</td>\n",
       "      <td>process</td>\n",
       "      <td>ambient air temperature in K</td>\n",
       "    </tr>\n",
       "    <tr>\n",
       "      <th>4</th>\n",
       "      <td>Process temperature [K]</td>\n",
       "      <td>process</td>\n",
       "      <td>process temperature in K</td>\n",
       "    </tr>\n",
       "    <tr>\n",
       "      <th>5</th>\n",
       "      <td>Rotational speed [rpm]</td>\n",
       "      <td>process</td>\n",
       "      <td>motor speed in rpm</td>\n",
       "    </tr>\n",
       "    <tr>\n",
       "      <th>6</th>\n",
       "      <td>Torque [Nm]</td>\n",
       "      <td>process</td>\n",
       "      <td>motor torque in Nm</td>\n",
       "    </tr>\n",
       "    <tr>\n",
       "      <th>7</th>\n",
       "      <td>Tool wear [min]</td>\n",
       "      <td>process</td>\n",
       "      <td>accumulated machining tool wear in min</td>\n",
       "    </tr>\n",
       "    <tr>\n",
       "      <th>8</th>\n",
       "      <td>Machine failure</td>\n",
       "      <td>failure</td>\n",
       "      <td>flag that any of the 5 failures has occurred</td>\n",
       "    </tr>\n",
       "    <tr>\n",
       "      <th>9</th>\n",
       "      <td>TWF</td>\n",
       "      <td>failure</td>\n",
       "      <td>tool wear failure</td>\n",
       "    </tr>\n",
       "    <tr>\n",
       "      <th>10</th>\n",
       "      <td>HDF</td>\n",
       "      <td>failure</td>\n",
       "      <td>heat dissipation failure</td>\n",
       "    </tr>\n",
       "    <tr>\n",
       "      <th>11</th>\n",
       "      <td>PWF</td>\n",
       "      <td>failure</td>\n",
       "      <td>power failure</td>\n",
       "    </tr>\n",
       "    <tr>\n",
       "      <th>12</th>\n",
       "      <td>OSF</td>\n",
       "      <td>failure</td>\n",
       "      <td>overstrain failure</td>\n",
       "    </tr>\n",
       "    <tr>\n",
       "      <th>13</th>\n",
       "      <td>RNF</td>\n",
       "      <td>failure</td>\n",
       "      <td>random failure</td>\n",
       "    </tr>\n",
       "  </tbody>\n",
       "</table>\n",
       "</div>"
      ],
      "text/plain": [
       "              original_name    group  \\\n",
       "0                       UDI       na   \n",
       "1                Product ID  product   \n",
       "2                      Type  product   \n",
       "3       Air temperature [K]  process   \n",
       "4   Process temperature [K]  process   \n",
       "5    Rotational speed [rpm]  process   \n",
       "6               Torque [Nm]  process   \n",
       "7           Tool wear [min]  process   \n",
       "8           Machine failure  failure   \n",
       "9                       TWF  failure   \n",
       "10                      HDF  failure   \n",
       "11                      PWF  failure   \n",
       "12                      OSF  failure   \n",
       "13                      RNF  failure   \n",
       "\n",
       "                                description_short  \n",
       "0                          observation identifier  \n",
       "1   product numberc (type + unique serial number)  \n",
       "2                          product type (H, M, L)  \n",
       "3                    ambient air temperature in K  \n",
       "4                        process temperature in K  \n",
       "5                              motor speed in rpm  \n",
       "6                              motor torque in Nm  \n",
       "7          accumulated machining tool wear in min  \n",
       "8    flag that any of the 5 failures has occurred  \n",
       "9                               tool wear failure  \n",
       "10                       heat dissipation failure  \n",
       "11                                  power failure  \n",
       "12                             overstrain failure  \n",
       "13                                 random failure  "
      ]
     },
     "execution_count": 6,
     "metadata": {},
     "output_type": "execute_result"
    }
   ],
   "source": [
    "original_columns = machine_meta[[\"original_name\", \"group\", \"description_short\"]]\n",
    "original_columns"
   ]
  },
  {
   "cell_type": "markdown",
   "id": "16e47016-e415-4aff-aef9-ef016375e008",
   "metadata": {
    "tags": []
   },
   "source": [
    "### Clean and tidy"
   ]
  },
  {
   "cell_type": "markdown",
   "id": "62fc00a0-f62d-47e4-83d7-e5f0ff7e924b",
   "metadata": {},
   "source": [
    "#### Read"
   ]
  },
  {
   "cell_type": "code",
   "execution_count": 9,
   "id": "6376caa5",
   "metadata": {},
   "outputs": [],
   "source": [
    "machine = pd.read_csv(INPUT_DATA_MACHINE)"
   ]
  },
  {
   "cell_type": "markdown",
   "id": "4c2fc304-e4df-4f21-86a4-6440f6b3736b",
   "metadata": {
    "tags": []
   },
   "source": [
    "#### Get to know"
   ]
  },
  {
   "cell_type": "code",
   "execution_count": 10,
   "id": "3bc22971-3258-42a3-b53a-bf82fd834d2c",
   "metadata": {},
   "outputs": [
    {
     "data": {
      "text/plain": [
       "Index(['UDI', 'Product ID', 'Type', 'Air temperature [K]',\n",
       "       'Process temperature [K]', 'Rotational speed [rpm]', 'Torque [Nm]',\n",
       "       'Tool wear [min]', 'Machine failure', 'TWF', 'HDF', 'PWF', 'OSF',\n",
       "       'RNF'],\n",
       "      dtype='object')"
      ]
     },
     "execution_count": 10,
     "metadata": {},
     "output_type": "execute_result"
    }
   ],
   "source": [
    "machine.columns"
   ]
  },
  {
   "cell_type": "code",
   "execution_count": 11,
   "id": "b4bffea3-5e45-4365-8376-f45cd5a73d32",
   "metadata": {},
   "outputs": [
    {
     "data": {
      "text/plain": [
       "UDI                          int64\n",
       "Product ID                  object\n",
       "Type                        object\n",
       "Air temperature [K]        float64\n",
       "Process temperature [K]    float64\n",
       "Rotational speed [rpm]       int64\n",
       "Torque [Nm]                float64\n",
       "Tool wear [min]              int64\n",
       "Machine failure              int64\n",
       "TWF                          int64\n",
       "HDF                          int64\n",
       "PWF                          int64\n",
       "OSF                          int64\n",
       "RNF                          int64\n",
       "dtype: object"
      ]
     },
     "execution_count": 11,
     "metadata": {},
     "output_type": "execute_result"
    }
   ],
   "source": [
    "machine.dtypes"
   ]
  },
  {
   "cell_type": "code",
   "execution_count": 12,
   "id": "efb8024a-9f15-4697-b5a6-a4a4d3a99585",
   "metadata": {},
   "outputs": [
    {
     "data": {
      "text/plain": [
       "(10000, 14)"
      ]
     },
     "execution_count": 12,
     "metadata": {},
     "output_type": "execute_result"
    }
   ],
   "source": [
    "machine.shape"
   ]
  },
  {
   "cell_type": "code",
   "execution_count": 13,
   "id": "0355041e",
   "metadata": {},
   "outputs": [
    {
     "data": {
      "text/html": [
       "<div>\n",
       "<style scoped>\n",
       "    .dataframe tbody tr th:only-of-type {\n",
       "        vertical-align: middle;\n",
       "    }\n",
       "\n",
       "    .dataframe tbody tr th {\n",
       "        vertical-align: top;\n",
       "    }\n",
       "\n",
       "    .dataframe thead th {\n",
       "        text-align: right;\n",
       "    }\n",
       "</style>\n",
       "<table border=\"1\" class=\"dataframe\">\n",
       "  <thead>\n",
       "    <tr style=\"text-align: right;\">\n",
       "      <th></th>\n",
       "      <th>count</th>\n",
       "      <th>mean</th>\n",
       "      <th>std</th>\n",
       "      <th>min</th>\n",
       "      <th>25%</th>\n",
       "      <th>50%</th>\n",
       "      <th>75%</th>\n",
       "      <th>max</th>\n",
       "    </tr>\n",
       "  </thead>\n",
       "  <tbody>\n",
       "    <tr>\n",
       "      <th>UDI</th>\n",
       "      <td>10000.0</td>\n",
       "      <td>5000.50000</td>\n",
       "      <td>2886.895680</td>\n",
       "      <td>1.0</td>\n",
       "      <td>2500.75</td>\n",
       "      <td>5000.5</td>\n",
       "      <td>7500.25</td>\n",
       "      <td>10000.0</td>\n",
       "    </tr>\n",
       "    <tr>\n",
       "      <th>Air temperature [K]</th>\n",
       "      <td>10000.0</td>\n",
       "      <td>300.00493</td>\n",
       "      <td>2.000259</td>\n",
       "      <td>295.3</td>\n",
       "      <td>298.30</td>\n",
       "      <td>300.1</td>\n",
       "      <td>301.50</td>\n",
       "      <td>304.5</td>\n",
       "    </tr>\n",
       "    <tr>\n",
       "      <th>Process temperature [K]</th>\n",
       "      <td>10000.0</td>\n",
       "      <td>310.00556</td>\n",
       "      <td>1.483734</td>\n",
       "      <td>305.7</td>\n",
       "      <td>308.80</td>\n",
       "      <td>310.1</td>\n",
       "      <td>311.10</td>\n",
       "      <td>313.8</td>\n",
       "    </tr>\n",
       "    <tr>\n",
       "      <th>Rotational speed [rpm]</th>\n",
       "      <td>10000.0</td>\n",
       "      <td>1538.77610</td>\n",
       "      <td>179.284096</td>\n",
       "      <td>1168.0</td>\n",
       "      <td>1423.00</td>\n",
       "      <td>1503.0</td>\n",
       "      <td>1612.00</td>\n",
       "      <td>2886.0</td>\n",
       "    </tr>\n",
       "    <tr>\n",
       "      <th>Torque [Nm]</th>\n",
       "      <td>10000.0</td>\n",
       "      <td>39.98691</td>\n",
       "      <td>9.968934</td>\n",
       "      <td>3.8</td>\n",
       "      <td>33.20</td>\n",
       "      <td>40.1</td>\n",
       "      <td>46.80</td>\n",
       "      <td>76.6</td>\n",
       "    </tr>\n",
       "    <tr>\n",
       "      <th>Tool wear [min]</th>\n",
       "      <td>10000.0</td>\n",
       "      <td>107.95100</td>\n",
       "      <td>63.654147</td>\n",
       "      <td>0.0</td>\n",
       "      <td>53.00</td>\n",
       "      <td>108.0</td>\n",
       "      <td>162.00</td>\n",
       "      <td>253.0</td>\n",
       "    </tr>\n",
       "    <tr>\n",
       "      <th>Machine failure</th>\n",
       "      <td>10000.0</td>\n",
       "      <td>0.03390</td>\n",
       "      <td>0.180981</td>\n",
       "      <td>0.0</td>\n",
       "      <td>0.00</td>\n",
       "      <td>0.0</td>\n",
       "      <td>0.00</td>\n",
       "      <td>1.0</td>\n",
       "    </tr>\n",
       "    <tr>\n",
       "      <th>TWF</th>\n",
       "      <td>10000.0</td>\n",
       "      <td>0.00460</td>\n",
       "      <td>0.067671</td>\n",
       "      <td>0.0</td>\n",
       "      <td>0.00</td>\n",
       "      <td>0.0</td>\n",
       "      <td>0.00</td>\n",
       "      <td>1.0</td>\n",
       "    </tr>\n",
       "    <tr>\n",
       "      <th>HDF</th>\n",
       "      <td>10000.0</td>\n",
       "      <td>0.01150</td>\n",
       "      <td>0.106625</td>\n",
       "      <td>0.0</td>\n",
       "      <td>0.00</td>\n",
       "      <td>0.0</td>\n",
       "      <td>0.00</td>\n",
       "      <td>1.0</td>\n",
       "    </tr>\n",
       "    <tr>\n",
       "      <th>PWF</th>\n",
       "      <td>10000.0</td>\n",
       "      <td>0.00950</td>\n",
       "      <td>0.097009</td>\n",
       "      <td>0.0</td>\n",
       "      <td>0.00</td>\n",
       "      <td>0.0</td>\n",
       "      <td>0.00</td>\n",
       "      <td>1.0</td>\n",
       "    </tr>\n",
       "    <tr>\n",
       "      <th>OSF</th>\n",
       "      <td>10000.0</td>\n",
       "      <td>0.00980</td>\n",
       "      <td>0.098514</td>\n",
       "      <td>0.0</td>\n",
       "      <td>0.00</td>\n",
       "      <td>0.0</td>\n",
       "      <td>0.00</td>\n",
       "      <td>1.0</td>\n",
       "    </tr>\n",
       "    <tr>\n",
       "      <th>RNF</th>\n",
       "      <td>10000.0</td>\n",
       "      <td>0.00190</td>\n",
       "      <td>0.043550</td>\n",
       "      <td>0.0</td>\n",
       "      <td>0.00</td>\n",
       "      <td>0.0</td>\n",
       "      <td>0.00</td>\n",
       "      <td>1.0</td>\n",
       "    </tr>\n",
       "  </tbody>\n",
       "</table>\n",
       "</div>"
      ],
      "text/plain": [
       "                           count        mean          std     min      25%  \\\n",
       "UDI                      10000.0  5000.50000  2886.895680     1.0  2500.75   \n",
       "Air temperature [K]      10000.0   300.00493     2.000259   295.3   298.30   \n",
       "Process temperature [K]  10000.0   310.00556     1.483734   305.7   308.80   \n",
       "Rotational speed [rpm]   10000.0  1538.77610   179.284096  1168.0  1423.00   \n",
       "Torque [Nm]              10000.0    39.98691     9.968934     3.8    33.20   \n",
       "Tool wear [min]          10000.0   107.95100    63.654147     0.0    53.00   \n",
       "Machine failure          10000.0     0.03390     0.180981     0.0     0.00   \n",
       "TWF                      10000.0     0.00460     0.067671     0.0     0.00   \n",
       "HDF                      10000.0     0.01150     0.106625     0.0     0.00   \n",
       "PWF                      10000.0     0.00950     0.097009     0.0     0.00   \n",
       "OSF                      10000.0     0.00980     0.098514     0.0     0.00   \n",
       "RNF                      10000.0     0.00190     0.043550     0.0     0.00   \n",
       "\n",
       "                            50%      75%      max  \n",
       "UDI                      5000.5  7500.25  10000.0  \n",
       "Air temperature [K]       300.1   301.50    304.5  \n",
       "Process temperature [K]   310.1   311.10    313.8  \n",
       "Rotational speed [rpm]   1503.0  1612.00   2886.0  \n",
       "Torque [Nm]                40.1    46.80     76.6  \n",
       "Tool wear [min]           108.0   162.00    253.0  \n",
       "Machine failure             0.0     0.00      1.0  \n",
       "TWF                         0.0     0.00      1.0  \n",
       "HDF                         0.0     0.00      1.0  \n",
       "PWF                         0.0     0.00      1.0  \n",
       "OSF                         0.0     0.00      1.0  \n",
       "RNF                         0.0     0.00      1.0  "
      ]
     },
     "execution_count": 13,
     "metadata": {},
     "output_type": "execute_result"
    }
   ],
   "source": [
    "machine.describe().T"
   ]
  },
  {
   "cell_type": "markdown",
   "id": "73034a75-363b-4f3c-aecf-746d27274652",
   "metadata": {},
   "source": [
    "#### Select features\n",
    "\n"
   ]
  },
  {
   "cell_type": "code",
   "execution_count": null,
   "id": "35680a8a-f085-4635-89f0-ba33f111d4d2",
   "metadata": {},
   "outputs": [],
   "source": [
    "columns_to_keep = machine_meta[machine_meta.keep == \"yes\"].original_name\n",
    "machine = machine[columns_to_keep]"
   ]
  },
  {
   "cell_type": "code",
   "execution_count": 16,
   "id": "d4bb7768-a039-4e83-945c-ef5b1e5c4065",
   "metadata": {},
   "outputs": [
    {
     "data": {
      "text/plain": [
       "0           UDI\n",
       "1    Product ID\n",
       "Name: original_name, dtype: object"
      ]
     },
     "execution_count": 16,
     "metadata": {},
     "output_type": "execute_result"
    }
   ],
   "source": [
    "machine_meta[machine_meta.keep == \"no\"].original_name"
   ]
  },
  {
   "cell_type": "markdown",
   "id": "ce3e6b66-2151-4aa6-9fcb-a7b6d367e22f",
   "metadata": {
    "tags": []
   },
   "source": [
    "#### Check for missing values\n",
    "\n",
    "No missing values."
   ]
  },
  {
   "cell_type": "code",
   "execution_count": 12,
   "id": "c8f8e170",
   "metadata": {},
   "outputs": [
    {
     "name": "stdout",
     "output_type": "stream",
     "text": [
      "<class 'pandas.core.frame.DataFrame'>\n",
      "RangeIndex: 10000 entries, 0 to 9999\n",
      "Data columns (total 12 columns):\n",
      " #   Column                   Non-Null Count  Dtype  \n",
      "---  ------                   --------------  -----  \n",
      " 0   Type                     10000 non-null  object \n",
      " 1   Air temperature [K]      10000 non-null  float64\n",
      " 2   Process temperature [K]  10000 non-null  float64\n",
      " 3   Rotational speed [rpm]   10000 non-null  int64  \n",
      " 4   Torque [Nm]              10000 non-null  float64\n",
      " 5   Tool wear [min]          10000 non-null  int64  \n",
      " 6   Machine failure          10000 non-null  int64  \n",
      " 7   TWF                      10000 non-null  int64  \n",
      " 8   HDF                      10000 non-null  int64  \n",
      " 9   PWF                      10000 non-null  int64  \n",
      " 10  OSF                      10000 non-null  int64  \n",
      " 11  RNF                      10000 non-null  int64  \n",
      "dtypes: float64(3), int64(8), object(1)\n",
      "memory usage: 937.6+ KB\n"
     ]
    }
   ],
   "source": [
    "machine.info()"
   ]
  },
  {
   "cell_type": "code",
   "execution_count": 13,
   "id": "d0e9c23e-3e4e-4611-8fab-3b6b3d01db07",
   "metadata": {},
   "outputs": [
    {
     "data": {
      "text/plain": [
       "Type                       0\n",
       "Air temperature [K]        0\n",
       "Process temperature [K]    0\n",
       "Rotational speed [rpm]     0\n",
       "Torque [Nm]                0\n",
       "Tool wear [min]            0\n",
       "Machine failure            0\n",
       "TWF                        0\n",
       "HDF                        0\n",
       "PWF                        0\n",
       "OSF                        0\n",
       "RNF                        0\n",
       "dtype: int64"
      ]
     },
     "execution_count": 13,
     "metadata": {},
     "output_type": "execute_result"
    }
   ],
   "source": [
    "machine.isna().sum()"
   ]
  },
  {
   "cell_type": "markdown",
   "id": "9d9ab75f-cc43-4b90-b7de-39fb95285b66",
   "metadata": {
    "tags": []
   },
   "source": [
    "### Rename columns"
   ]
  },
  {
   "cell_type": "code",
   "execution_count": 14,
   "id": "2194efaa",
   "metadata": {},
   "outputs": [],
   "source": [
    "new_column_names = machine_meta[machine_meta.keep == \"yes\"].new_name\n",
    "new_column_names.name = \"\"\n",
    "machine.columns = new_column_names"
   ]
  },
  {
   "cell_type": "markdown",
   "id": "f40bc6bb-985e-4782-a65e-a7e6162525e0",
   "metadata": {},
   "source": [
    "### Convert types"
   ]
  },
  {
   "cell_type": "markdown",
   "id": "09bc3fd8-39d2-49de-b208-d3b4e60db25f",
   "metadata": {},
   "source": [
    "Convert temperatures from K to C"
   ]
  },
  {
   "cell_type": "code",
   "execution_count": 15,
   "id": "e5d74da0-ef5f-4382-93b4-f3775cbec647",
   "metadata": {},
   "outputs": [
    {
     "data": {
      "text/plain": [
       "Index(['product_type', 'air_temperature', 'process_temperature', 'speed',\n",
       "       'torque', 'tool_wear', 'failure_any', 'failure_toolwear',\n",
       "       'failure_heatdissipation', 'failure_power', 'failure_overstrain',\n",
       "       'failure_random'],\n",
       "      dtype='object', name='')"
      ]
     },
     "execution_count": 15,
     "metadata": {},
     "output_type": "execute_result"
    }
   ],
   "source": [
    "machine.columns"
   ]
  },
  {
   "cell_type": "code",
   "execution_count": 16,
   "id": "6228c9ca-6686-4805-a9d0-2bfb3ef8ad54",
   "metadata": {},
   "outputs": [],
   "source": [
    "machine[[\"air_temperature\", \"process_temperature\"]] = machine[[\"air_temperature\", \"process_temperature\"]] - 273.15"
   ]
  },
  {
   "cell_type": "markdown",
   "id": "b7479d44-7c5b-4aaa-8f93-64aedf313945",
   "metadata": {},
   "source": [
    "Convert to category."
   ]
  },
  {
   "cell_type": "code",
   "execution_count": 17,
   "id": "bf8f3932-93fb-4659-b8fb-2eaa19f9a863",
   "metadata": {},
   "outputs": [],
   "source": [
    "machine.product_type = machine.product_type.astype(\"category\")"
   ]
  },
  {
   "cell_type": "markdown",
   "id": "a6aca502-c382-4424-a805-8188b1107a47",
   "metadata": {},
   "source": [
    "### Create new feature `elapsed_time`\n",
    "Total duration of machining calculated by adding up all `tool_wear` durations.\n",
    "\n",
    "In minutes."
   ]
  },
  {
   "cell_type": "code",
   "execution_count": 18,
   "id": "48ff2adb-a8f5-4eed-9dd8-b8381a0d2b56",
   "metadata": {},
   "outputs": [],
   "source": [
    "elapsed_time_data = [0]\n",
    "start_duration = 0\n",
    "\n",
    "for t in machine.tool_wear[1:]:\n",
    "    if t == 0:\n",
    "        start_duration = elapsed_time_data[-1]\n",
    "    elapsed_time_data.append(t + start_duration)"
   ]
  },
  {
   "cell_type": "code",
   "execution_count": 19,
   "id": "2140481d-5b2d-483b-8d80-5c9b9f236521",
   "metadata": {},
   "outputs": [],
   "source": [
    "machine[\"elapsed_time\"] = pd.to_timedelta(elapsed_time_data, unit = \"minutes\")"
   ]
  },
  {
   "cell_type": "markdown",
   "id": "c342ff2e-2101-4a40-a23f-767034fa1001",
   "metadata": {
    "tags": []
   },
   "source": [
    "### Create new feature `power`\n",
    "Calculated motor power. Shaft angular speed expressed in radians per second, T expressed in newton-meters."
   ]
  },
  {
   "cell_type": "code",
   "execution_count": 20,
   "id": "f22bf3a1-ac73-441c-86de-d9d3ac9e6f3f",
   "metadata": {},
   "outputs": [],
   "source": [
    "# Convert speed from rpm to rad\n",
    "speed_rad = machine.speed * 0.104719755\n",
    "\n",
    "machine[\"power\"] = speed_rad * machine.torque"
   ]
  },
  {
   "cell_type": "markdown",
   "id": "ac8b943a-b93c-4ab8-852d-bc2d2b999008",
   "metadata": {},
   "source": [
    "### Reorder columns"
   ]
  },
  {
   "cell_type": "code",
   "execution_count": 21,
   "id": "7399dfd8-6725-4ea7-b7b6-bb1f509de88e",
   "metadata": {},
   "outputs": [],
   "source": [
    "machine = machine[[\n",
    "    \"elapsed_time\",\n",
    "    \"product_type\",\n",
    "    \"air_temperature\",\n",
    "    \"process_temperature\",\n",
    "    \"speed\",\n",
    "    \"torque\",\n",
    "    \"power\",\n",
    "    \"tool_wear\",\n",
    "    \"failure_any\",\n",
    "    \"failure_toolwear\",\n",
    "    \"failure_heatdissipation\",\n",
    "    \"failure_power\",\n",
    "    \"failure_overstrain\",\n",
    "    \"failure_random\",\n",
    "]]"
   ]
  },
  {
   "cell_type": "markdown",
   "id": "fcb754fb-3382-4f59-9744-6ac4610fad6a",
   "metadata": {},
   "source": [
    "### Explore"
   ]
  },
  {
   "cell_type": "code",
   "execution_count": null,
   "id": "da2cd68a-0547-4055-81b5-df3e462a9efa",
   "metadata": {},
   "outputs": [],
   "source": []
  },
  {
   "cell_type": "markdown",
   "id": "f0aaad9b-b83d-46a5-85ee-1a11ff390c8d",
   "metadata": {},
   "source": [
    "### Test hypothesis"
   ]
  },
  {
   "cell_type": "code",
   "execution_count": null,
   "id": "3fe3e45d-705d-48e0-b45d-3784c58fe962",
   "metadata": {},
   "outputs": [],
   "source": []
  },
  {
   "cell_type": "markdown",
   "id": "93dc74f9-3604-4b0e-a0e8-b1b9dd0cd83f",
   "metadata": {},
   "source": [
    "### Model"
   ]
  },
  {
   "cell_type": "code",
   "execution_count": null,
   "id": "6ed87c6a-8111-46f9-9973-95c4c06d0e7f",
   "metadata": {},
   "outputs": [],
   "source": []
  },
  {
   "cell_type": "markdown",
   "id": "09c1d287-e781-4ba5-955e-f8fbb091e05d",
   "metadata": {},
   "source": [
    "### Columns\n"
   ]
  },
  {
   "cell_type": "code",
   "execution_count": 5,
   "id": "70031d6a-e8ca-4654-a51f-cba8dd7f3580",
   "metadata": {},
   "outputs": [
    {
     "data": {
      "text/html": [
       "<div>\n",
       "<style scoped>\n",
       "    .dataframe tbody tr th:only-of-type {\n",
       "        vertical-align: middle;\n",
       "    }\n",
       "\n",
       "    .dataframe tbody tr th {\n",
       "        vertical-align: top;\n",
       "    }\n",
       "\n",
       "    .dataframe thead th {\n",
       "        text-align: right;\n",
       "    }\n",
       "</style>\n",
       "<table border=\"1\" class=\"dataframe\">\n",
       "  <thead>\n",
       "    <tr style=\"text-align: right;\">\n",
       "      <th></th>\n",
       "      <th>original_name</th>\n",
       "      <th>group</th>\n",
       "      <th>description_short</th>\n",
       "    </tr>\n",
       "  </thead>\n",
       "  <tbody>\n",
       "    <tr>\n",
       "      <th>0</th>\n",
       "      <td>UDI</td>\n",
       "      <td>na</td>\n",
       "      <td>observation identifier</td>\n",
       "    </tr>\n",
       "    <tr>\n",
       "      <th>1</th>\n",
       "      <td>Product ID</td>\n",
       "      <td>product</td>\n",
       "      <td>product numberc (type + unique serial number)</td>\n",
       "    </tr>\n",
       "    <tr>\n",
       "      <th>2</th>\n",
       "      <td>Type</td>\n",
       "      <td>product</td>\n",
       "      <td>product type (H, M, L)</td>\n",
       "    </tr>\n",
       "    <tr>\n",
       "      <th>3</th>\n",
       "      <td>Air temperature [K]</td>\n",
       "      <td>process</td>\n",
       "      <td>ambient air temperature in K</td>\n",
       "    </tr>\n",
       "    <tr>\n",
       "      <th>4</th>\n",
       "      <td>Process temperature [K]</td>\n",
       "      <td>process</td>\n",
       "      <td>process temperature in K</td>\n",
       "    </tr>\n",
       "    <tr>\n",
       "      <th>5</th>\n",
       "      <td>Rotational speed [rpm]</td>\n",
       "      <td>process</td>\n",
       "      <td>motor speed in rpm</td>\n",
       "    </tr>\n",
       "    <tr>\n",
       "      <th>6</th>\n",
       "      <td>Torque [Nm]</td>\n",
       "      <td>process</td>\n",
       "      <td>motor torque in Nm</td>\n",
       "    </tr>\n",
       "    <tr>\n",
       "      <th>7</th>\n",
       "      <td>Tool wear [min]</td>\n",
       "      <td>process</td>\n",
       "      <td>accumulated machining tool wear in min</td>\n",
       "    </tr>\n",
       "    <tr>\n",
       "      <th>8</th>\n",
       "      <td>Machine failure</td>\n",
       "      <td>failure</td>\n",
       "      <td>flag that any of the 5 failures has occurred</td>\n",
       "    </tr>\n",
       "    <tr>\n",
       "      <th>9</th>\n",
       "      <td>TWF</td>\n",
       "      <td>failure</td>\n",
       "      <td>tool wear failure</td>\n",
       "    </tr>\n",
       "    <tr>\n",
       "      <th>10</th>\n",
       "      <td>HDF</td>\n",
       "      <td>failure</td>\n",
       "      <td>heat dissipation failure</td>\n",
       "    </tr>\n",
       "    <tr>\n",
       "      <th>11</th>\n",
       "      <td>PWF</td>\n",
       "      <td>failure</td>\n",
       "      <td>power failure</td>\n",
       "    </tr>\n",
       "    <tr>\n",
       "      <th>12</th>\n",
       "      <td>OSF</td>\n",
       "      <td>failure</td>\n",
       "      <td>overstrain failure</td>\n",
       "    </tr>\n",
       "    <tr>\n",
       "      <th>13</th>\n",
       "      <td>RNF</td>\n",
       "      <td>failure</td>\n",
       "      <td>random failure</td>\n",
       "    </tr>\n",
       "  </tbody>\n",
       "</table>\n",
       "</div>"
      ],
      "text/plain": [
       "              original_name    group  \\\n",
       "0                       UDI       na   \n",
       "1                Product ID  product   \n",
       "2                      Type  product   \n",
       "3       Air temperature [K]  process   \n",
       "4   Process temperature [K]  process   \n",
       "5    Rotational speed [rpm]  process   \n",
       "6               Torque [Nm]  process   \n",
       "7           Tool wear [min]  process   \n",
       "8           Machine failure  failure   \n",
       "9                       TWF  failure   \n",
       "10                      HDF  failure   \n",
       "11                      PWF  failure   \n",
       "12                      OSF  failure   \n",
       "13                      RNF  failure   \n",
       "\n",
       "                                description_short  \n",
       "0                          observation identifier  \n",
       "1   product numberc (type + unique serial number)  \n",
       "2                          product type (H, M, L)  \n",
       "3                    ambient air temperature in K  \n",
       "4                        process temperature in K  \n",
       "5                              motor speed in rpm  \n",
       "6                              motor torque in Nm  \n",
       "7          accumulated machining tool wear in min  \n",
       "8    flag that any of the 5 failures has occurred  \n",
       "9                               tool wear failure  \n",
       "10                       heat dissipation failure  \n",
       "11                                  power failure  \n",
       "12                             overstrain failure  \n",
       "13                                 random failure  "
      ]
     },
     "execution_count": 5,
     "metadata": {},
     "output_type": "execute_result"
    }
   ],
   "source": [
    "original_columns = machine_meta[[\"original_name\", \"group\", \"description_short\"]]\n",
    "original_columns"
   ]
  },
  {
   "cell_type": "markdown",
   "id": "066186d9-8c7f-4755-ae2d-0fa262066300",
   "metadata": {},
   "source": [
    "## Case 2: Metro in Porto\n",
    "\n",
    "Column desription:"
   ]
  },
  {
   "cell_type": "code",
   "execution_count": null,
   "id": "d099080d-e51d-4bd2-9834-28925c1db74d",
   "metadata": {},
   "outputs": [],
   "source": []
  },
  {
   "cell_type": "code",
   "execution_count": null,
   "id": "54519685-2e57-4e32-a6b7-32acf39001a4",
   "metadata": {},
   "outputs": [],
   "source": []
  },
  {
   "cell_type": "code",
   "execution_count": null,
   "id": "3f76b16d-1c4d-47ea-86cd-589948fee77f",
   "metadata": {},
   "outputs": [],
   "source": []
  },
  {
   "cell_type": "markdown",
   "id": "8922d937-2e81-419d-8406-0b8310a54f8b",
   "metadata": {},
   "source": [
    "Articles and papers I came across during the research:\n",
    "- [Fault diagnosis for the Space Shuttle main engine](https://www.researchgate.net/publication/23618683_Fault_diagnosis_for_the_Space_Shuttle_main_engine)\n",
    "- [AI-Automated Hard-Hat Detection](https://assets-global.website-files.com/618cdeef45d18e4ef2fd85f3/621cef628758fd1c35be832b_AI-Automated-Hard-Hat-Detection.pdf)\n",
    "- [Machine learning algorithm predicts how to get the most out of electric vehicle batteries\n",
    "](https://www.cam.ac.uk/research/news/machine-learning-algorithm-predicts-how-to-get-the-most-out-of-electric-vehicle-batteries)\n",
    "- ! [Machine Learning Application in the Manufacturing Industry](https://mobidev.biz/blog/machine-learning-application-use-cases-manufacturing-industry)\n",
    "- [Using Python and Selenium to get coordinates from street addresses](https://towardsdatascience.com/using-python-and-selenium-to-get-coordinates-from-street-addresses-62706b6ac250)\n",
    "- [Smoothing time series in Pandas](https://www.mikulskibartosz.name/smoothing-time-series-in-pandas/)\n",
    "\n",
    "Videos:\n",
    "- [AI Inspection: Machine Learning / Computer Vision for Visual Defect Detection](https://youtu.be/UY6xbrcViVw)"
   ]
  },
  {
   "cell_type": "markdown",
   "id": "d3988ba2-ab8a-4c39-bef1-c6d7c5309872",
   "metadata": {},
   "source": [
    "nondestructive testing, sensors\n",
    "\n",
    "Predict machinery failure using sensor to proactively perform maintenance and reduce downtime.\n",
    "\n",
    "From [here](https://mobidev.biz/blog/machine-learning-application-use-cases-manufacturing-industry):\n",
    "> ML MODELS USED FOR PREDICTIVE MAINTENANCE\n",
    "> - Regression Models: these predict the Remaining Useful Life (RUL) of the equipment. This uses historical and static data and allows manufacturers to see how many days are left until the machine experiences a failure.\n",
    "> - Classification Models: these models predict failures within a predefined time span.\n",
    "> - Anomaly Detection Models: These flag devices upon detecting abnormal system behavior."
   ]
  },
  {
   "cell_type": "code",
   "execution_count": null,
   "id": "2c054d50-e0a7-4029-b700-983f5555e305",
   "metadata": {},
   "outputs": [],
   "source": []
  }
 ],
 "metadata": {
  "kernelspec": {
   "display_name": "Python 3 (ipykernel)",
   "language": "python",
   "name": "python3"
  },
  "language_info": {
   "codemirror_mode": {
    "name": "ipython",
    "version": 3
   },
   "file_extension": ".py",
   "mimetype": "text/x-python",
   "name": "python",
   "nbconvert_exporter": "python",
   "pygments_lexer": "ipython3",
   "version": "3.8.13"
  },
  "toc-autonumbering": false,
  "toc-showtags": false
 },
 "nbformat": 4,
 "nbformat_minor": 5
}
