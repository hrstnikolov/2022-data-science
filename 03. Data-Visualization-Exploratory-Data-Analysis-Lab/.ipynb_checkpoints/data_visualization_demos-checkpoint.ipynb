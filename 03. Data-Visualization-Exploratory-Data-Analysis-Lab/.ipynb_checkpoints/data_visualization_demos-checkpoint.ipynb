{
 "cells": [
  {
   "cell_type": "code",
   "execution_count": 1,
   "id": "9d331fa9-28ac-4320-8e43-7b36824ed281",
   "metadata": {},
   "outputs": [],
   "source": [
    "%matplotlib inline"
   ]
  },
  {
   "cell_type": "code",
   "execution_count": 2,
   "id": "9704bf84",
   "metadata": {},
   "outputs": [],
   "source": [
    "import numpy as np\n",
    "import pandas as pd\n",
    "import matplotlib.pyplot as plt\n",
    "from pathlib import Path\n",
    "import requests"
   ]
  },
  {
   "cell_type": "markdown",
   "id": "3440a9ab-dfb8-4112-9d3c-a211aadb51b8",
   "metadata": {},
   "source": [
    "# Data Visualization Demos"
   ]
  },
  {
   "cell_type": "code",
   "execution_count": 11,
   "id": "d8f77244-6615-4807-9078-9daf020364a8",
   "metadata": {},
   "outputs": [],
   "source": [
    "iris = pd.read_csv('https://archive.ics.uci.edu/ml/machine-learning-databases/iris/iris.data', header=None)"
   ]
  },
  {
   "cell_type": "code",
   "execution_count": 15,
   "id": "293b11ac-34ee-4d5f-8538-89bfe3b776dd",
   "metadata": {},
   "outputs": [],
   "source": [
    "iris.columns = [\n",
    "    \"sepal_length\",\n",
    "    \"sepal_width\",\n",
    "    \"petal_length\",\n",
    "    \"petal_width\",\n",
    "    \"class\",\n",
    "]"
   ]
  },
  {
   "cell_type": "code",
   "execution_count": 16,
   "id": "7458a978-720e-4c36-8acc-cb08dca41df3",
   "metadata": {},
   "outputs": [
    {
     "data": {
      "text/html": [
       "<div>\n",
       "<style scoped>\n",
       "    .dataframe tbody tr th:only-of-type {\n",
       "        vertical-align: middle;\n",
       "    }\n",
       "\n",
       "    .dataframe tbody tr th {\n",
       "        vertical-align: top;\n",
       "    }\n",
       "\n",
       "    .dataframe thead th {\n",
       "        text-align: right;\n",
       "    }\n",
       "</style>\n",
       "<table border=\"1\" class=\"dataframe\">\n",
       "  <thead>\n",
       "    <tr style=\"text-align: right;\">\n",
       "      <th></th>\n",
       "      <th>sepal_length</th>\n",
       "      <th>sepal_width</th>\n",
       "      <th>petal_length</th>\n",
       "      <th>petal_width</th>\n",
       "      <th>class</th>\n",
       "    </tr>\n",
       "  </thead>\n",
       "  <tbody>\n",
       "    <tr>\n",
       "      <th>0</th>\n",
       "      <td>5.1</td>\n",
       "      <td>3.5</td>\n",
       "      <td>1.4</td>\n",
       "      <td>0.2</td>\n",
       "      <td>Iris-setosa</td>\n",
       "    </tr>\n",
       "    <tr>\n",
       "      <th>1</th>\n",
       "      <td>4.9</td>\n",
       "      <td>3.0</td>\n",
       "      <td>1.4</td>\n",
       "      <td>0.2</td>\n",
       "      <td>Iris-setosa</td>\n",
       "    </tr>\n",
       "    <tr>\n",
       "      <th>2</th>\n",
       "      <td>4.7</td>\n",
       "      <td>3.2</td>\n",
       "      <td>1.3</td>\n",
       "      <td>0.2</td>\n",
       "      <td>Iris-setosa</td>\n",
       "    </tr>\n",
       "    <tr>\n",
       "      <th>3</th>\n",
       "      <td>4.6</td>\n",
       "      <td>3.1</td>\n",
       "      <td>1.5</td>\n",
       "      <td>0.2</td>\n",
       "      <td>Iris-setosa</td>\n",
       "    </tr>\n",
       "    <tr>\n",
       "      <th>4</th>\n",
       "      <td>5.0</td>\n",
       "      <td>3.6</td>\n",
       "      <td>1.4</td>\n",
       "      <td>0.2</td>\n",
       "      <td>Iris-setosa</td>\n",
       "    </tr>\n",
       "    <tr>\n",
       "      <th>...</th>\n",
       "      <td>...</td>\n",
       "      <td>...</td>\n",
       "      <td>...</td>\n",
       "      <td>...</td>\n",
       "      <td>...</td>\n",
       "    </tr>\n",
       "    <tr>\n",
       "      <th>145</th>\n",
       "      <td>6.7</td>\n",
       "      <td>3.0</td>\n",
       "      <td>5.2</td>\n",
       "      <td>2.3</td>\n",
       "      <td>Iris-virginica</td>\n",
       "    </tr>\n",
       "    <tr>\n",
       "      <th>146</th>\n",
       "      <td>6.3</td>\n",
       "      <td>2.5</td>\n",
       "      <td>5.0</td>\n",
       "      <td>1.9</td>\n",
       "      <td>Iris-virginica</td>\n",
       "    </tr>\n",
       "    <tr>\n",
       "      <th>147</th>\n",
       "      <td>6.5</td>\n",
       "      <td>3.0</td>\n",
       "      <td>5.2</td>\n",
       "      <td>2.0</td>\n",
       "      <td>Iris-virginica</td>\n",
       "    </tr>\n",
       "    <tr>\n",
       "      <th>148</th>\n",
       "      <td>6.2</td>\n",
       "      <td>3.4</td>\n",
       "      <td>5.4</td>\n",
       "      <td>2.3</td>\n",
       "      <td>Iris-virginica</td>\n",
       "    </tr>\n",
       "    <tr>\n",
       "      <th>149</th>\n",
       "      <td>5.9</td>\n",
       "      <td>3.0</td>\n",
       "      <td>5.1</td>\n",
       "      <td>1.8</td>\n",
       "      <td>Iris-virginica</td>\n",
       "    </tr>\n",
       "  </tbody>\n",
       "</table>\n",
       "<p>150 rows × 5 columns</p>\n",
       "</div>"
      ],
      "text/plain": [
       "     sepal_length  sepal_width  petal_length  petal_width           class\n",
       "0             5.1          3.5           1.4          0.2     Iris-setosa\n",
       "1             4.9          3.0           1.4          0.2     Iris-setosa\n",
       "2             4.7          3.2           1.3          0.2     Iris-setosa\n",
       "3             4.6          3.1           1.5          0.2     Iris-setosa\n",
       "4             5.0          3.6           1.4          0.2     Iris-setosa\n",
       "..            ...          ...           ...          ...             ...\n",
       "145           6.7          3.0           5.2          2.3  Iris-virginica\n",
       "146           6.3          2.5           5.0          1.9  Iris-virginica\n",
       "147           6.5          3.0           5.2          2.0  Iris-virginica\n",
       "148           6.2          3.4           5.4          2.3  Iris-virginica\n",
       "149           5.9          3.0           5.1          1.8  Iris-virginica\n",
       "\n",
       "[150 rows x 5 columns]"
      ]
     },
     "execution_count": 16,
     "metadata": {},
     "output_type": "execute_result"
    }
   ],
   "source": [
    "iris"
   ]
  },
  {
   "cell_type": "code",
   "execution_count": 22,
   "id": "48048c1d-4241-4d3b-b17c-f82cf6a077b4",
   "metadata": {},
   "outputs": [
    {
     "data": {
      "text/plain": [
       "3.826712328767126"
      ]
     },
     "execution_count": 22,
     "metadata": {},
     "output_type": "execute_result"
    }
   ],
   "source": [
    "iris.query(\"4.5 <= sepal_length <= 10\").petal_length.mean()"
   ]
  },
  {
   "cell_type": "code",
   "execution_count": 25,
   "id": "64e10ce8-bcc0-4790-8023-f267fe510326",
   "metadata": {},
   "outputs": [],
   "source": [
    "red = pd.read_csv('http://archive.ics.uci.edu/ml/machine-learning-databases/wine-quality/winequality-red.csv', sep=';')"
   ]
  },
  {
   "cell_type": "code",
   "execution_count": 26,
   "id": "cd86ad24-6d1a-47ea-80e5-1e70ec8cbef6",
   "metadata": {},
   "outputs": [],
   "source": [
    "white = pd.read_csv('http://archive.ics.uci.edu/ml/machine-learning-databases/wine-quality/winequality-white.csv', sep=';')"
   ]
  },
  {
   "cell_type": "code",
   "execution_count": 38,
   "id": "df4af05f-e4a8-4a77-afa7-fb0ddecb0593",
   "metadata": {},
   "outputs": [
    {
     "name": "stdout",
     "output_type": "stream",
     "text": [
      "<class 'pandas.core.frame.DataFrame'>\n",
      "RangeIndex: 1599 entries, 0 to 1598\n",
      "Data columns (total 12 columns):\n",
      " #   Column                Non-Null Count  Dtype  \n",
      "---  ------                --------------  -----  \n",
      " 0   fixed acidity         1599 non-null   float64\n",
      " 1   volatile acidity      1599 non-null   float64\n",
      " 2   citric acid           1599 non-null   float64\n",
      " 3   residual sugar        1599 non-null   float64\n",
      " 4   chlorides             1599 non-null   float64\n",
      " 5   free sulfur dioxide   1599 non-null   float64\n",
      " 6   total sulfur dioxide  1599 non-null   float64\n",
      " 7   density               1599 non-null   float64\n",
      " 8   pH                    1599 non-null   float64\n",
      " 9   sulphates             1599 non-null   float64\n",
      " 10  alcohol               1599 non-null   float64\n",
      " 11  quality               1599 non-null   int64  \n",
      "dtypes: float64(11), int64(1)\n",
      "memory usage: 150.0 KB\n"
     ]
    }
   ],
   "source": [
    "red.info()"
   ]
  },
  {
   "cell_type": "code",
   "execution_count": 30,
   "id": "87e6c04d-6516-43a2-bae8-00d34efe7436",
   "metadata": {},
   "outputs": [
    {
     "data": {
      "text/plain": [
       "5.6360225140712945"
      ]
     },
     "execution_count": 30,
     "metadata": {},
     "output_type": "execute_result"
    }
   ],
   "source": [
    "red.quality.mean()"
   ]
  },
  {
   "cell_type": "code",
   "execution_count": 31,
   "id": "5c8895d3-0c1a-449b-8409-7fe4276cc837",
   "metadata": {},
   "outputs": [
    {
     "data": {
      "text/plain": [
       "5.87790935075541"
      ]
     },
     "execution_count": 31,
     "metadata": {},
     "output_type": "execute_result"
    }
   ],
   "source": [
    "white.quality.mean()"
   ]
  },
  {
   "cell_type": "code",
   "execution_count": 36,
   "id": "a0737796-775e-4cc0-b5e6-984e36295f83",
   "metadata": {},
   "outputs": [
    {
     "data": {
      "text/html": [
       "<div>\n",
       "<style scoped>\n",
       "    .dataframe tbody tr th:only-of-type {\n",
       "        vertical-align: middle;\n",
       "    }\n",
       "\n",
       "    .dataframe tbody tr th {\n",
       "        vertical-align: top;\n",
       "    }\n",
       "\n",
       "    .dataframe thead th {\n",
       "        text-align: right;\n",
       "    }\n",
       "</style>\n",
       "<table border=\"1\" class=\"dataframe\">\n",
       "  <thead>\n",
       "    <tr style=\"text-align: right;\">\n",
       "      <th></th>\n",
       "      <th>alcohol</th>\n",
       "      <th>quality</th>\n",
       "    </tr>\n",
       "  </thead>\n",
       "  <tbody>\n",
       "    <tr>\n",
       "      <th>alcohol</th>\n",
       "      <td>1.000000</td>\n",
       "      <td>0.476166</td>\n",
       "    </tr>\n",
       "    <tr>\n",
       "      <th>quality</th>\n",
       "      <td>0.476166</td>\n",
       "      <td>1.000000</td>\n",
       "    </tr>\n",
       "  </tbody>\n",
       "</table>\n",
       "</div>"
      ],
      "text/plain": [
       "          alcohol   quality\n",
       "alcohol  1.000000  0.476166\n",
       "quality  0.476166  1.000000"
      ]
     },
     "execution_count": 36,
     "metadata": {},
     "output_type": "execute_result"
    }
   ],
   "source": [
    "red[['alcohol', 'quality']].corr()"
   ]
  },
  {
   "cell_type": "code",
   "execution_count": 37,
   "id": "89773e4e-7272-4467-8bce-aecf5dce99c7",
   "metadata": {},
   "outputs": [
    {
     "data": {
      "text/html": [
       "<div>\n",
       "<style scoped>\n",
       "    .dataframe tbody tr th:only-of-type {\n",
       "        vertical-align: middle;\n",
       "    }\n",
       "\n",
       "    .dataframe tbody tr th {\n",
       "        vertical-align: top;\n",
       "    }\n",
       "\n",
       "    .dataframe thead th {\n",
       "        text-align: right;\n",
       "    }\n",
       "</style>\n",
       "<table border=\"1\" class=\"dataframe\">\n",
       "  <thead>\n",
       "    <tr style=\"text-align: right;\">\n",
       "      <th></th>\n",
       "      <th>alcohol</th>\n",
       "      <th>quality</th>\n",
       "    </tr>\n",
       "  </thead>\n",
       "  <tbody>\n",
       "    <tr>\n",
       "      <th>alcohol</th>\n",
       "      <td>1.000000</td>\n",
       "      <td>0.435575</td>\n",
       "    </tr>\n",
       "    <tr>\n",
       "      <th>quality</th>\n",
       "      <td>0.435575</td>\n",
       "      <td>1.000000</td>\n",
       "    </tr>\n",
       "  </tbody>\n",
       "</table>\n",
       "</div>"
      ],
      "text/plain": [
       "          alcohol   quality\n",
       "alcohol  1.000000  0.435575\n",
       "quality  0.435575  1.000000"
      ]
     },
     "execution_count": 37,
     "metadata": {},
     "output_type": "execute_result"
    }
   ],
   "source": [
    "white[['alcohol', 'quality']].corr()"
   ]
  },
  {
   "cell_type": "code",
   "execution_count": null,
   "id": "46037ee6-cb22-4e1c-9cf5-092a441c6542",
   "metadata": {},
   "outputs": [],
   "source": []
  },
  {
   "cell_type": "code",
   "execution_count": 10,
   "id": "e02b7df5-adb4-4fd4-9d0f-c586ed9e1f84",
   "metadata": {},
   "outputs": [],
   "source": [
    "desktop = Path.home() / 'Desktop'\n",
    "directory = desktop / 'fma_metadata/fma_metadata'"
   ]
  },
  {
   "cell_type": "code",
   "execution_count": 16,
   "id": "a7c7e5ef-497e-4dd1-9a60-2bdded2995f2",
   "metadata": {},
   "outputs": [],
   "source": [
    "tracks = pd.read_csv(directory / 'raw_tracks.csv')"
   ]
  },
  {
   "cell_type": "code",
   "execution_count": 17,
   "id": "579c14bc-e776-48ec-836e-91ad6da2ccd2",
   "metadata": {},
   "outputs": [
    {
     "data": {
      "text/plain": [
       "(109727, 39)"
      ]
     },
     "execution_count": 17,
     "metadata": {},
     "output_type": "execute_result"
    }
   ],
   "source": [
    "tracks.shape"
   ]
  },
  {
   "cell_type": "code",
   "execution_count": 19,
   "id": "f9f22ec7-07d4-47c4-85f8-ec5e680ab2c1",
   "metadata": {},
   "outputs": [
    {
     "data": {
      "text/plain": [
       "['track_id',\n",
       " 'album_id',\n",
       " 'album_title',\n",
       " 'album_url',\n",
       " 'artist_id',\n",
       " 'artist_name',\n",
       " 'artist_url',\n",
       " 'artist_website',\n",
       " 'license_image_file',\n",
       " 'license_image_file_large',\n",
       " 'license_parent_id',\n",
       " 'license_title',\n",
       " 'license_url',\n",
       " 'tags',\n",
       " 'track_bit_rate',\n",
       " 'track_comments',\n",
       " 'track_composer',\n",
       " 'track_copyright_c',\n",
       " 'track_copyright_p',\n",
       " 'track_date_created',\n",
       " 'track_date_recorded',\n",
       " 'track_disc_number',\n",
       " 'track_duration',\n",
       " 'track_explicit',\n",
       " 'track_explicit_notes',\n",
       " 'track_favorites',\n",
       " 'track_file',\n",
       " 'track_genres',\n",
       " 'track_image_file',\n",
       " 'track_information',\n",
       " 'track_instrumental',\n",
       " 'track_interest',\n",
       " 'track_language_code',\n",
       " 'track_listens',\n",
       " 'track_lyricist',\n",
       " 'track_number',\n",
       " 'track_publisher',\n",
       " 'track_title',\n",
       " 'track_url']"
      ]
     },
     "execution_count": 19,
     "metadata": {},
     "output_type": "execute_result"
    }
   ],
   "source": [
    "list(tracks.columns)"
   ]
  },
  {
   "cell_type": "code",
   "execution_count": 20,
   "id": "6640ba8a-aabb-4f91-928e-d169e45c1f01",
   "metadata": {},
   "outputs": [
    {
     "data": {
      "text/plain": [
       "track_id                      int64\n",
       "album_id                    float64\n",
       "album_title                  object\n",
       "album_url                    object\n",
       "artist_id                     int64\n",
       "artist_name                  object\n",
       "artist_url                   object\n",
       "artist_website               object\n",
       "license_image_file           object\n",
       "license_image_file_large     object\n",
       "license_parent_id           float64\n",
       "license_title                object\n",
       "license_url                  object\n",
       "tags                         object\n",
       "track_bit_rate              float64\n",
       "track_comments                int64\n",
       "track_composer               object\n",
       "track_copyright_c            object\n",
       "track_copyright_p            object\n",
       "track_date_created           object\n",
       "track_date_recorded          object\n",
       "track_disc_number             int64\n",
       "track_duration               object\n",
       "track_explicit               object\n",
       "track_explicit_notes         object\n",
       "track_favorites               int64\n",
       "track_file                   object\n",
       "track_genres                 object\n",
       "track_image_file             object\n",
       "track_information            object\n",
       "track_instrumental            int64\n",
       "track_interest                int64\n",
       "track_language_code          object\n",
       "track_listens                 int64\n",
       "track_lyricist               object\n",
       "track_number                  int64\n",
       "track_publisher              object\n",
       "track_title                  object\n",
       "track_url                    object\n",
       "dtype: object"
      ]
     },
     "execution_count": 20,
     "metadata": {},
     "output_type": "execute_result"
    }
   ],
   "source": [
    "tracks.dtypes"
   ]
  },
  {
   "cell_type": "code",
   "execution_count": 27,
   "id": "9b2b968b-411c-4a84-856b-51194ee5c017",
   "metadata": {},
   "outputs": [
    {
     "data": {
      "image/png": "[encoded data removed]",
      "text/plain": [
       "<Figure size 432x288 with 1 Axes>"
      ]
     },
     "metadata": {
      "needs_background": "light"
     },
     "output_type": "display_data"
    }
   ],
   "source": [
    "plt.hist(tracks.track_favorites)\n",
    "plt.xlabel('Times in favourite')\n",
    "plt.ylabel('Number of tracks')\n",
    "plt.show()"
   ]
  },
  {
   "cell_type": "code",
   "execution_count": 28,
   "id": "419545a0-9043-47ae-b45c-8091502bc539",
   "metadata": {},
   "outputs": [
    {
     "data": {
      "image/png": "[encoded data removed]",
      "text/plain": [
       "<Figure size 432x288 with 1 Axes>"
      ]
     },
     "metadata": {
      "needs_background": "light"
     },
     "output_type": "display_data"
    }
   ],
   "source": [
    "plt.hist(tracks.track_favorites, bins=50)\n",
    "plt.xlabel('Times in favourite')\n",
    "plt.ylabel('Number of tracks')\n",
    "plt.show()"
   ]
  },
  {
   "cell_type": "code",
   "execution_count": 29,
   "id": "a3daa1c4-8dc0-4e3e-82bd-b06c4fec9e9a",
   "metadata": {},
   "outputs": [
    {
     "data": {
      "image/png": "[encoded data removed]",
      "text/plain": [
       "<Figure size 432x288 with 1 Axes>"
      ]
     },
     "metadata": {
      "needs_background": "light"
     },
     "output_type": "display_data"
    }
   ],
   "source": [
    "plt.hist(tracks[tracks.track_favorites > 100].track_favorites, bins=50)\n",
    "plt.xlabel('Times in favourite')\n",
    "plt.ylabel('Number of tracks')\n",
    "plt.show()"
   ]
  },
  {
   "cell_type": "code",
   "execution_count": 30,
   "id": "fd64fe51-4076-4380-b76e-052cf29748fb",
   "metadata": {},
   "outputs": [
    {
     "data": {
      "image/png": "[encoded data removed]",
      "text/plain": [
       "<Figure size 432x288 with 1 Axes>"
      ]
     },
     "metadata": {
      "needs_background": "light"
     },
     "output_type": "display_data"
    }
   ],
   "source": [
    "plt.hist(tracks[tracks.track_favorites <= 100].track_favorites, bins=50)\n",
    "plt.xlabel('Times in favourite')\n",
    "plt.ylabel('Number of tracks')\n",
    "plt.show()"
   ]
  },
  {
   "cell_type": "code",
   "execution_count": 31,
   "id": "d1fa26b5-a86d-4383-b092-a4dc37a92252",
   "metadata": {},
   "outputs": [
    {
     "data": {
      "image/png": "[encoded data removed]",
      "text/plain": [
       "<Figure size 432x288 with 1 Axes>"
      ]
     },
     "metadata": {
      "needs_background": "light"
     },
     "output_type": "display_data"
    }
   ],
   "source": [
    "plt.hist(tracks[tracks.track_favorites <= 40].track_favorites, bins=50)\n",
    "plt.xlabel('Times in favourite')\n",
    "plt.ylabel('Number of tracks')\n",
    "plt.show()"
   ]
  },
  {
   "cell_type": "code",
   "execution_count": 35,
   "id": "f47bf6e5-6019-4af7-bb04-0965bb1ba2b8",
   "metadata": {},
   "outputs": [
    {
     "data": {
      "image/png": "[encoded data removed]",
      "text/plain": [
       "<Figure size 432x288 with 1 Axes>"
      ]
     },
     "metadata": {
      "needs_background": "light"
     },
     "output_type": "display_data"
    }
   ],
   "source": [
    "plt.hist(tracks[(10 <= tracks.track_favorites) & (tracks.track_favorites <= 40)].track_favorites, bins=50)\n",
    "plt.xlabel('Times in favourite')\n",
    "plt.ylabel('Number of tracks')\n",
    "plt.show()"
   ]
  },
  {
   "cell_type": "code",
   "execution_count": 38,
   "id": "0a69fd96-4990-4c80-bdf5-bb377a93b127",
   "metadata": {},
   "outputs": [
    {
     "data": {
      "image/png": "[encoded data removed]",
      "text/plain": [
       "<Figure size 432x288 with 1 Axes>"
      ]
     },
     "metadata": {
      "needs_background": "light"
     },
     "output_type": "display_data"
    }
   ],
   "source": [
    "plt.hist(np.log10(tracks.track_favorites+0.00001), bins=50)\n",
    "plt.xlabel('Times in favourite')\n",
    "plt.ylabel('Number of tracks')\n",
    "plt.show()"
   ]
  },
  {
   "cell_type": "code",
   "execution_count": 39,
   "id": "4f2688fa-da7f-4ebe-a5cf-b2a6ac5f1819",
   "metadata": {},
   "outputs": [
    {
     "data": {
      "text/plain": [
       "[<matplotlib.lines.Line2D at 0x223f99f5fd0>]"
      ]
     },
     "execution_count": 39,
     "metadata": {},
     "output_type": "execute_result"
    },
    {
     "data": {
      "image/png": "[encoded data removed]",
      "text/plain": [
       "<Figure size 432x288 with 1 Axes>"
      ]
     },
     "metadata": {
      "needs_background": "light"
     },
     "output_type": "display_data"
    }
   ],
   "source": [
    "plt.loglog(tracks.track_favorites)"
   ]
  },
  {
   "cell_type": "code",
   "execution_count": 46,
   "id": "fb0b21b0-c270-408e-8280-15a10ccba543",
   "metadata": {},
   "outputs": [
    {
     "data": {
      "text/plain": [
       "(array([108303,    945,    221,     88,     50,     31,     23,     13,\n",
       "             8,      5,     11,      3,      3,      4,      6,      0,\n",
       "             1,      2,      2,      0,      3,      1,      0,      0,\n",
       "             0,      1,      1,      0,      0,      0,      0,      0,\n",
       "             1,      0,      0,      0,      0,      0,      0,      0,\n",
       "             0,      0,      0,      0,      0,      0,      0,      0,\n",
       "             0,      1], dtype=int64),\n",
       " array([   0.  ,   29.64,   59.28,   88.92,  118.56,  148.2 ,  177.84,\n",
       "         207.48,  237.12,  266.76,  296.4 ,  326.04,  355.68,  385.32,\n",
       "         414.96,  444.6 ,  474.24,  503.88,  533.52,  563.16,  592.8 ,\n",
       "         622.44,  652.08,  681.72,  711.36,  741.  ,  770.64,  800.28,\n",
       "         829.92,  859.56,  889.2 ,  918.84,  948.48,  978.12, 1007.76,\n",
       "        1037.4 , 1067.04, 1096.68, 1126.32, 1155.96, 1185.6 , 1215.24,\n",
       "        1244.88, 1274.52, 1304.16, 1333.8 , 1363.44, 1393.08, 1422.72,\n",
       "        1452.36, 1482.  ]))"
      ]
     },
     "execution_count": 46,
     "metadata": {},
     "output_type": "execute_result"
    }
   ],
   "source": [
    "np.histogram(tracks.track_favorites, bins=50)"
   ]
  },
  {
   "cell_type": "code",
   "execution_count": 60,
   "id": "6094c492-412a-4f87-b2e1-929c0f4c6171",
   "metadata": {},
   "outputs": [],
   "source": [
    "favorite_gt_500 = tracks[tracks.track_favorites > 500][[\"track_favorites\", \"track_title\", \"artist_name\"]]"
   ]
  },
  {
   "cell_type": "code",
   "execution_count": 61,
   "id": "a57e2961-bdc7-49dd-b142-99822ca33310",
   "metadata": {},
   "outputs": [
    {
     "data": {
      "text/html": [
       "<div>\n",
       "<style scoped>\n",
       "    .dataframe tbody tr th:only-of-type {\n",
       "        vertical-align: middle;\n",
       "    }\n",
       "\n",
       "    .dataframe tbody tr th {\n",
       "        vertical-align: top;\n",
       "    }\n",
       "\n",
       "    .dataframe thead th {\n",
       "        text-align: right;\n",
       "    }\n",
       "</style>\n",
       "<table border=\"1\" class=\"dataframe\">\n",
       "  <thead>\n",
       "    <tr style=\"text-align: right;\">\n",
       "      <th></th>\n",
       "      <th>track_favorites</th>\n",
       "      <th>track_title</th>\n",
       "      <th>artist_name</th>\n",
       "    </tr>\n",
       "  </thead>\n",
       "  <tbody>\n",
       "    <tr>\n",
       "      <th>29363</th>\n",
       "      <td>1482</td>\n",
       "      <td>Night Owl</td>\n",
       "      <td>Broke For Free</td>\n",
       "    </tr>\n",
       "    <tr>\n",
       "      <th>35070</th>\n",
       "      <td>961</td>\n",
       "      <td>Something Elated</td>\n",
       "      <td>Broke For Free</td>\n",
       "    </tr>\n",
       "    <tr>\n",
       "      <th>43908</th>\n",
       "      <td>796</td>\n",
       "      <td>Siesta</td>\n",
       "      <td>Jahzzar</td>\n",
       "    </tr>\n",
       "    <tr>\n",
       "      <th>48977</th>\n",
       "      <td>765</td>\n",
       "      <td>Enthusiast</td>\n",
       "      <td>Tours</td>\n",
       "    </tr>\n",
       "    <tr>\n",
       "      <th>41754</th>\n",
       "      <td>633</td>\n",
       "      <td>The Temperature of the Air on the Bow of the K...</td>\n",
       "      <td>Chris Zabriskie</td>\n",
       "    </tr>\n",
       "    <tr>\n",
       "      <th>46770</th>\n",
       "      <td>600</td>\n",
       "      <td>Springish</td>\n",
       "      <td>Gillicuddy</td>\n",
       "    </tr>\n",
       "    <tr>\n",
       "      <th>59811</th>\n",
       "      <td>600</td>\n",
       "      <td>Hachiko (The Faithtful Dog)</td>\n",
       "      <td>The Kyoto Connection</td>\n",
       "    </tr>\n",
       "    <tr>\n",
       "      <th>61188</th>\n",
       "      <td>599</td>\n",
       "      <td>Epic Song</td>\n",
       "      <td>BoxCat Games</td>\n",
       "    </tr>\n",
       "    <tr>\n",
       "      <th>38852</th>\n",
       "      <td>554</td>\n",
       "      <td>Kopeika</td>\n",
       "      <td>et_</td>\n",
       "    </tr>\n",
       "    <tr>\n",
       "      <th>39130</th>\n",
       "      <td>537</td>\n",
       "      <td>Requiem for a Fish</td>\n",
       "      <td>The Freak Fandango Orchestra</td>\n",
       "    </tr>\n",
       "    <tr>\n",
       "      <th>62274</th>\n",
       "      <td>530</td>\n",
       "      <td>Moonlight Reprise</td>\n",
       "      <td>Kai Engel</td>\n",
       "    </tr>\n",
       "    <tr>\n",
       "      <th>44914</th>\n",
       "      <td>511</td>\n",
       "      <td>As Colorful As Ever</td>\n",
       "      <td>Broke For Free</td>\n",
       "    </tr>\n",
       "  </tbody>\n",
       "</table>\n",
       "</div>"
      ],
      "text/plain": [
       "       track_favorites                                        track_title  \\\n",
       "29363             1482                                          Night Owl   \n",
       "35070              961                                   Something Elated   \n",
       "43908              796                                             Siesta   \n",
       "48977              765                                         Enthusiast   \n",
       "41754              633  The Temperature of the Air on the Bow of the K...   \n",
       "46770              600                                          Springish   \n",
       "59811              600                        Hachiko (The Faithtful Dog)   \n",
       "61188              599                                          Epic Song   \n",
       "38852              554                                            Kopeika   \n",
       "39130              537                                 Requiem for a Fish   \n",
       "62274              530                                  Moonlight Reprise   \n",
       "44914              511                                As Colorful As Ever   \n",
       "\n",
       "                        artist_name  \n",
       "29363                Broke For Free  \n",
       "35070                Broke For Free  \n",
       "43908                       Jahzzar  \n",
       "48977                         Tours  \n",
       "41754               Chris Zabriskie  \n",
       "46770                    Gillicuddy  \n",
       "59811          The Kyoto Connection  \n",
       "61188                  BoxCat Games  \n",
       "38852                           et_  \n",
       "39130  The Freak Fandango Orchestra  \n",
       "62274                     Kai Engel  \n",
       "44914                Broke For Free  "
      ]
     },
     "execution_count": 61,
     "metadata": {},
     "output_type": "execute_result"
    }
   ],
   "source": [
    "favorite_gt_500.sort_values('track_favorites', ascending=False)"
   ]
  },
  {
   "cell_type": "markdown",
   "id": "891aeee9-ca08-4b82-919c-f274b501e41e",
   "metadata": {},
   "source": [
    "Top 20 most commented artists."
   ]
  },
  {
   "cell_type": "code",
   "execution_count": 87,
   "id": "164b9de0-8570-48fe-a206-c838ce0373dc",
   "metadata": {},
   "outputs": [],
   "source": [
    "top_artists = tracks.groupby(\"artist_name\").track_comments.sum().nlargest(20)[::-1]"
   ]
  },
  {
   "cell_type": "code",
   "execution_count": 89,
   "id": "0e393394-5093-4d64-94ab-9f99c746725f",
   "metadata": {},
   "outputs": [
    {
     "data": {
      "image/png": "[encoded data removed]",
      "text/plain": [
       "<Figure size 432x288 with 1 Axes>"
      ]
     },
     "metadata": {
      "needs_background": "light"
     },
     "output_type": "display_data"
    }
   ],
   "source": [
    "plt.barh(top_artists.index, top_artists)\n",
    "plt.show()"
   ]
  },
  {
   "cell_type": "markdown",
   "id": "6b86aa4e-252e-4444-9c7f-bf0cbe38054e",
   "metadata": {},
   "source": [
    "Number of artists with no comments and with some comments."
   ]
  },
  {
   "cell_type": "code",
   "execution_count": 106,
   "id": "5a7453f3-c2c5-4ace-8bd7-d6b3255034cd",
   "metadata": {},
   "outputs": [],
   "source": [
    "total_comments_per_artist = tracks.groupby(\"artist_name\").track_comments.sum()"
   ]
  },
  {
   "cell_type": "code",
   "execution_count": 108,
   "id": "a0d29a2c-f3af-4234-9179-ce836ae6f647",
   "metadata": {},
   "outputs": [
    {
     "data": {
      "text/plain": [
       "17117"
      ]
     },
     "execution_count": 108,
     "metadata": {},
     "output_type": "execute_result"
    }
   ],
   "source": [
    "total_comments_per_artist.size"
   ]
  },
  {
   "cell_type": "code",
   "execution_count": 112,
   "id": "35b6b53e-98db-4614-b27f-c87baaf8742f",
   "metadata": {},
   "outputs": [],
   "source": [
    "no_comments = total_comments_per_artist[total_comments_per_artist == 0].size\n",
    "some_comments = total_comments_per_artist[total_comments_per_artist != 0].size"
   ]
  },
  {
   "cell_type": "code",
   "execution_count": 127,
   "id": "052cda00-458a-4b32-9b15-6bf7cc512743",
   "metadata": {},
   "outputs": [
    {
     "data": {
      "image/png": "[encoded data removed]",
      "text/plain": [
       "<Figure size 432x288 with 1 Axes>"
      ]
     },
     "metadata": {},
     "output_type": "display_data"
    }
   ],
   "source": [
    "plt.pie([no_comments, some_comments], explode=[0.1, 0.1])\n",
    "plt.l\n",
    "plt.show()"
   ]
  },
  {
   "cell_type": "markdown",
   "id": "dd1d4c03-c4b0-4784-be38-9c3a270081b6",
   "metadata": {},
   "source": [
    "## Exploratory Data Analysis"
   ]
  },
  {
   "cell_type": "code",
   "execution_count": 131,
   "id": "759e5d16-fbec-4d06-88a2-19e3a4b61344",
   "metadata": {},
   "outputs": [],
   "source": [
    "iris = pd.read_csv(\"https://archive.ics.uci.edu/ml/machine-learning-databases/iris/iris.data\", header=None)"
   ]
  },
  {
   "cell_type": "code",
   "execution_count": 138,
   "id": "19f434e8-c805-41ec-945f-e0de4db78d99",
   "metadata": {
    "collapsed": true,
    "jupyter": {
     "outputs_hidden": true
    },
    "tags": []
   },
   "outputs": [
    {
     "name": "stdout",
     "output_type": "stream",
     "text": [
      "1. Title: Iris Plants Database\n",
      "\tUpdated Sept 21 by C.Blake - Added discrepency information\n",
      "\n",
      "2. Sources:\n",
      "     (a) Creator: R.A. Fisher\n",
      "     (b) Donor: Michael Marshall (MARSHALL%PLU@io.arc.nasa.gov)\n",
      "     (c) Date: July, 1988\n",
      "\n",
      "3. Past Usage:\n",
      "   - Publications: too many to mention!!!  Here are a few.\n",
      "   1. Fisher,R.A. \"The use of multiple measurements in taxonomic problems\"\n",
      "      Annual Eugenics, 7, Part II, 179-188 (1936); also in \"Contributions\n",
      "      to Mathematical Statistics\" (John Wiley, NY, 1950).\n",
      "   2. Duda,R.O., & Hart,P.E. (1973) Pattern Classification and Scene Analysis.\n",
      "      (Q327.D83) John Wiley & Sons.  ISBN 0-471-22361-1.  See page 218.\n",
      "   3. Dasarathy, B.V. (1980) \"Nosing Around the Neighborhood: A New System\n",
      "      Structure and Classification Rule for Recognition in Partially Exposed\n",
      "      Environments\".  IEEE Transactions on Pattern Analysis and Machine\n",
      "      Intelligence, Vol. PAMI-2, No. 1, 67-71.\n",
      "      -- Results:\n",
      "         -- very low misclassification rates (0% for the setosa class)\n",
      "   4. Gates, G.W. (1972) \"The Reduced Nearest Neighbor Rule\".  IEEE \n",
      "      Transactions on Information Theory, May 1972, 431-433.\n",
      "      -- Results:\n",
      "         -- very low misclassification rates again\n",
      "   5. See also: 1988 MLC Proceedings, 54-64.  Cheeseman et al's AUTOCLASS II\n",
      "      conceptual clustering system finds 3 classes in the data.\n",
      "\n",
      "4. Relevant Information:\n",
      "   --- This is perhaps the best known database to be found in the pattern\n",
      "       recognition literature.  Fisher's paper is a classic in the field\n",
      "       and is referenced frequently to this day.  (See Duda & Hart, for\n",
      "       example.)  The data set contains 3 classes of 50 instances each,\n",
      "       where each class refers to a type of iris plant.  One class is\n",
      "       linearly separable from the other 2; the latter are NOT linearly\n",
      "       separable from each other.\n",
      "   --- Predicted attribute: class of iris plant.\n",
      "   --- This is an exceedingly simple domain.\n",
      "   --- This data differs from the data presented in Fishers article\n",
      "\t(identified by Steve Chadwick,  spchadwick@espeedaz.net )\n",
      "\tThe 35th sample should be: 4.9,3.1,1.5,0.2,\"Iris-setosa\"\n",
      "\twhere the error is in the fourth feature.\n",
      "\tThe 38th sample: 4.9,3.6,1.4,0.1,\"Iris-setosa\"\n",
      "\twhere the errors are in the second and third features.  \n",
      "\n",
      "5. Number of Instances: 150 (50 in each of three classes)\n",
      "\n",
      "6. Number of Attributes: 4 numeric, predictive attributes and the class\n",
      "\n",
      "7. Attribute Information:\n",
      "   1. sepal length in cm\n",
      "   2. sepal width in cm\n",
      "   3. petal length in cm\n",
      "   4. petal width in cm\n",
      "   5. class: \n",
      "      -- Iris Setosa\n",
      "      -- Iris Versicolour\n",
      "      -- Iris Virginica\n",
      "\n",
      "8. Missing Attribute Values: None\n",
      "\n",
      "Summary Statistics:\n",
      "\t         Min  Max   Mean    SD   Class Correlation\n",
      "   sepal length: 4.3  7.9   5.84  0.83    0.7826   \n",
      "    sepal width: 2.0  4.4   3.05  0.43   -0.4194\n",
      "   petal length: 1.0  6.9   3.76  1.76    0.9490  (high!)\n",
      "    petal width: 0.1  2.5   1.20  0.76    0.9565  (high!)\n",
      "\n",
      "9. Class Distribution: 33.3% for each of 3 classes.\n",
      "\n"
     ]
    }
   ],
   "source": [
    "print(requests.get(\"https://archive.ics.uci.edu/ml/machine-learning-databases/iris/iris.names\").text)"
   ]
  },
  {
   "cell_type": "code",
   "execution_count": 139,
   "id": "30a268ea-e1df-4521-86cd-e2a65357be80",
   "metadata": {},
   "outputs": [],
   "source": [
    "iris.columns = [\"sepal_length\", \"sepal_width\", \"petal_length\", \"petal_width\", \"species\"]"
   ]
  },
  {
   "cell_type": "code",
   "execution_count": 149,
   "id": "02ef1510-5411-441a-81d1-39e5941c6a2b",
   "metadata": {},
   "outputs": [
    {
     "data": {
      "image/png": "[encoded data removed]",
      "text/plain": [
       "<Figure size 432x288 with 1 Axes>"
      ]
     },
     "metadata": {
      "needs_background": "light"
     },
     "output_type": "display_data"
    }
   ],
   "source": [
    "plt.hist(iris.sepal_length)\n",
    "plt.show()"
   ]
  },
  {
   "cell_type": "code",
   "execution_count": 151,
   "id": "02b7a24d-4c15-47a4-a3cb-32c07ab41f23",
   "metadata": {},
   "outputs": [
    {
     "data": {
      "image/png": "[encoded data removed]",
      "text/plain": [
       "<Figure size 432x288 with 1 Axes>"
      ]
     },
     "metadata": {
      "needs_background": "light"
     },
     "output_type": "display_data"
    }
   ],
   "source": [
    "plt.hist(iris.sepal_length, bins=20)\n",
    "plt.show()"
   ]
  },
  {
   "cell_type": "code",
   "execution_count": 170,
   "id": "47238139-1ac6-4d23-8ada-d20ae8516b5d",
   "metadata": {
    "tags": []
   },
   "outputs": [
    {
     "data": {
      "image/png": "[encoded data removed]",
      "text/plain": [
       "<Figure size 432x288 with 1 Axes>"
      ]
     },
     "metadata": {
      "needs_background": "light"
     },
     "output_type": "display_data"
    }
   ],
   "source": [
    "for category, group_data in iris.groupby(\"species\"):\n",
    "    plt.hist(group_data.sepal_length, alpha=0.2, label=category)\n",
    "plt.xlabel(\"sepal_length [mm]\")\n",
    "plt.ylabel(\"number of flowers\")\n",
    "plt.title(\"Histogram - sepal length\")\n",
    "plt.legend()\n",
    "plt.show()"
   ]
  },
  {
   "cell_type": "code",
   "execution_count": 169,
   "id": "e9abed1c-ba46-421e-ad32-8392af36f427",
   "metadata": {
    "tags": []
   },
   "outputs": [
    {
     "data": {
      "image/png": "[encoded data removed]",
      "text/plain": [
       "<Figure size 432x288 with 1 Axes>"
      ]
     },
     "metadata": {
      "needs_background": "light"
     },
     "output_type": "display_data"
    }
   ],
   "source": [
    "for category, group_data in iris.groupby(\"species\"):\n",
    "    plt.hist(group_data.sepal_width, alpha=0.2, label=category)\n",
    "plt.xlabel(\"sepal_width [mm]\")\n",
    "plt.ylabel(\"number of flowers\")\n",
    "plt.title(\"Histogram - sepal width\")\n",
    "plt.legend()\n",
    "plt.show()"
   ]
  },
  {
   "cell_type": "code",
   "execution_count": 171,
   "id": "2be39e58-0f74-4af3-8c40-57df18bb44a7",
   "metadata": {
    "tags": []
   },
   "outputs": [
    {
     "data": {
      "image/png": "[encoded data removed]",
      "text/plain": [
       "<Figure size 432x288 with 1 Axes>"
      ]
     },
     "metadata": {
      "needs_background": "light"
     },
     "output_type": "display_data"
    }
   ],
   "source": [
    "for category, group_data in iris.groupby(\"species\"):\n",
    "    plt.scatter(group_data.sepal_length, group_data.sepal_width, label=category)\n",
    "plt.xlabel(\"sepal_length [mm]\")\n",
    "plt.ylabel(\"sepal_width [mm]\")\n",
    "plt.title(\"Sepal length vs width\")\n",
    "plt.legend()\n",
    "plt.show()"
   ]
  },
  {
   "cell_type": "code",
   "execution_count": 172,
   "id": "bda8657f-e8bf-432c-a429-a18085fec284",
   "metadata": {},
   "outputs": [
    {
     "data": {
      "image/png": "[encoded data removed]",
      "text/plain": [
       "<Figure size 432x288 with 1 Axes>"
      ]
     },
     "metadata": {
      "needs_background": "light"
     },
     "output_type": "display_data"
    }
   ],
   "source": [
    "for category, group_data in iris.groupby(\"species\"):\n",
    "    plt.scatter(group_data.petal_length, group_data.petal_width, label=category)\n",
    "plt.xlabel(\"petal_length [mm]\")\n",
    "plt.ylabel(\"petal_width [mm]\")\n",
    "plt.title(\"Petal length vs width\")\n",
    "plt.legend()\n",
    "plt.show()"
   ]
  },
  {
   "cell_type": "code",
   "execution_count": 176,
   "id": "f1f19b12-e202-47de-b6ef-7fa7b4c0fc8c",
   "metadata": {},
   "outputs": [],
   "source": [
    "iris[\"sepal_area\"] = iris.sepal_length * iris.sepal_width"
   ]
  },
  {
   "cell_type": "code",
   "execution_count": 185,
   "id": "49d1fd93-2245-4d0b-811e-0a47396424ce",
   "metadata": {},
   "outputs": [
    {
     "name": "stderr",
     "output_type": "stream",
     "text": [
      "No artists with labels found to put in legend.  Note that artists whose label start with an underscore are ignored when legend() is called with no argument.\n"
     ]
    },
    {
     "data": {
      "image/png": "[encoded data removed]",
      "text/plain": [
       "<Figure size 432x288 with 1 Axes>"
      ]
     },
     "metadata": {
      "needs_background": "light"
     },
     "output_type": "display_data"
    }
   ],
   "source": [
    "for category, group_data in iris.groupby(\"species\"):\n",
    "    plt.hist(group_data.sepal_area, alpha=0.4)\n",
    "plt.xlabel(\"sepal area\")\n",
    "plt.ylabel(\"Frequency\")\n",
    "plt.title(\"Petal area\")\n",
    "plt.legend()\n",
    "plt.show()"
   ]
  }
 ],
 "metadata": {
  "kernelspec": {
   "display_name": "Python 3 (ipykernel)",
   "language": "python",
   "name": "python3"
  },
  "language_info": {
   "codemirror_mode": {
    "name": "ipython",
    "version": 3
   },
   "file_extension": ".py",
   "mimetype": "text/x-python",
   "name": "python",
   "nbconvert_exporter": "python",
   "pygments_lexer": "ipython3",
   "version": "3.8.13"
  }
 },
 "nbformat": 4,
 "nbformat_minor": 5
}
